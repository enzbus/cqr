{
 "cells": [
  {
   "cell_type": "code",
   "execution_count": 1,
   "id": "fda5905b-e8b0-4d8d-b133-96e4f28b0d18",
   "metadata": {},
   "outputs": [],
   "source": [
    "import numpy as np\n",
    "import matplotlib.pyplot as plt\n",
    "import cvxpy as cp"
   ]
  },
  {
   "cell_type": "markdown",
   "id": "65e6609f-0849-46ac-a39a-f1422fd3a533",
   "metadata": {},
   "source": [
    "# Constant definitions"
   ]
  },
  {
   "cell_type": "code",
   "execution_count": 361,
   "id": "839f1748-1f0f-4e37-86cf-a2b2026c562b",
   "metadata": {},
   "outputs": [],
   "source": [
    "# sizes\n",
    "N = 100\n",
    "mem = 5\n",
    "\n",
    "# these are the matrices representing steps and gradient changes\n",
    "np.random.seed(0)\n",
    "Y = np.random.randn(N, mem)\n",
    "S = np.random.randn(N, mem)\n",
    "\n",
    "# define H0\n",
    "gamma = 1 # diagonal of H0\n",
    "H0 = np.eye(N) * gamma\n",
    "\n",
    "# regularizer\n",
    "alpha = 1 # scaler of first obj term / regularizer"
   ]
  },
  {
   "cell_type": "markdown",
   "id": "39564b5b-9fdc-4b64-94db-9c374ccacd9c",
   "metadata": {},
   "source": [
    "# Basic program"
   ]
  },
  {
   "cell_type": "code",
   "execution_count": 362,
   "id": "44c97a9c-c7b0-4bd8-8c42-4b137a678aee",
   "metadata": {},
   "outputs": [
    {
     "name": "stdout",
     "output_type": "stream",
     "text": [
      "===============================================================================\n",
      "                                     CVXPY                                     \n",
      "                             v1.6.1.dev0+0.1777eb0                             \n",
      "===============================================================================\n",
      "(CVXPY) Feb 23 04:25:16 PM: Your problem has 10000 variables, 0 constraints, and 0 parameters.\n",
      "(CVXPY) Feb 23 04:25:16 PM: It is compliant with the following grammars: DCP, DQCP\n",
      "(CVXPY) Feb 23 04:25:16 PM: (If you need to solve this problem multiple times, but with different data, consider using parameters.)\n",
      "(CVXPY) Feb 23 04:25:16 PM: CVXPY will first compile your problem; then, it will invoke a numerical solver to obtain a solution.\n",
      "(CVXPY) Feb 23 04:25:16 PM: Your problem is compiled with the CPP canonicalization backend.\n",
      "-------------------------------------------------------------------------------\n",
      "                                  Compilation                                  \n",
      "-------------------------------------------------------------------------------\n",
      "(CVXPY) Feb 23 04:25:16 PM: Compiling problem (target solver=SCS).\n",
      "(CVXPY) Feb 23 04:25:16 PM: Reduction chain: Dcp2Cone -> CvxAttr2Constr -> ConeMatrixStuffing -> SCS\n",
      "(CVXPY) Feb 23 04:25:16 PM: Applying reduction Dcp2Cone\n",
      "(CVXPY) Feb 23 04:25:16 PM: Applying reduction CvxAttr2Constr\n",
      "(CVXPY) Feb 23 04:25:16 PM: Applying reduction ConeMatrixStuffing\n",
      "(CVXPY) Feb 23 04:25:16 PM: Applying reduction SCS\n",
      "(CVXPY) Feb 23 04:25:16 PM: Finished problem compilation (took 1.958e-02 seconds).\n",
      "-------------------------------------------------------------------------------\n",
      "                                Numerical solver                               \n",
      "-------------------------------------------------------------------------------\n",
      "(CVXPY) Feb 23 04:25:16 PM: Invoking solver SCS  to obtain a solution.\n",
      "------------------------------------------------------------------\n",
      "\t       SCS v3.2.7 - Splitting Conic Solver\n",
      "\t(c) Brendan O'Donoghue, Stanford University, 2012\n",
      "------------------------------------------------------------------\n",
      "problem:  variables n: 15550, constraints m: 15550\n",
      "cones: \t  z: primal zero / dual free vars: 10500\n",
      "\t  s: psd vars: 5050, ssize: 1\n",
      "settings: eps_abs: 1.0e-05, eps_rel: 1.0e-05, eps_infeas: 1.0e-07\n",
      "\t  alpha: 1.50, scale: 1.00e-01, adaptive_scale: 1\n",
      "\t  max_iters: 100000, normalize: 1, rho_x: 1.00e-06\n",
      "\t  acceleration_lookback: 10, acceleration_interval: 10\n",
      "lin-sys:  sparse-direct-amd-qdldl\n",
      "\t  nnz(A): 75550, nnz(P): 10500\n",
      "------------------------------------------------------------------\n",
      " iter | pri res | dua res |   gap   |   obj   |  scale  | time (s)\n",
      "------------------------------------------------------------------\n",
      "     0| 2.92e+00  1.59e-01  5.19e+01  4.52e+01  1.00e-01  2.55e-02 \n",
      "   250| 1.04e-03  3.38e-04  8.58e-04  8.64e+01  4.00e+00  3.78e-01 \n",
      "   325| 2.86e-06  5.59e-07  4.26e-07  8.64e+01  4.00e+00  4.87e-01 \n",
      "------------------------------------------------------------------\n",
      "status:  solved\n",
      "timings: total: 4.87e-01s = setup: 2.31e-02s + solve: 4.64e-01s\n",
      "\t lin-sys: 9.87e-02s, cones: 3.23e-01s, accel: 5.70e-03s\n",
      "------------------------------------------------------------------\n",
      "objective = 86.404292\n",
      "------------------------------------------------------------------\n",
      "-------------------------------------------------------------------------------\n",
      "                                    Summary                                    \n",
      "-------------------------------------------------------------------------------\n",
      "(CVXPY) Feb 23 04:25:16 PM: Problem status: optimal\n",
      "(CVXPY) Feb 23 04:25:16 PM: Optimal value: 8.640e+01\n",
      "(CVXPY) Feb 23 04:25:16 PM: Compilation took 1.958e-02 seconds\n",
      "(CVXPY) Feb 23 04:25:16 PM: Solver (including time spent in interface) took 4.872e-01 seconds\n",
      "obj value 86.40429252716682\n"
     ]
    },
    {
     "data": {
      "text/plain": [
       "[<matplotlib.lines.Line2D at 0x7f9fe204dd00>]"
      ]
     },
     "execution_count": 362,
     "metadata": {},
     "output_type": "execute_result"
    },
    {
     "data": {
      "image/png": "[encoded data removed]",
      "text/plain": [
       "<Figure size 640x480 with 1 Axes>"
      ]
     },
     "metadata": {},
     "output_type": "display_data"
    }
   ],
   "source": [
    "H = cp.Variable((N,N), PSD=True)\n",
    "\n",
    "distance_from_h0 = cp.sum_squares(H - H0)\n",
    "soft_secant_condition = cp.sum_squares(H @ Y - S)\n",
    "\n",
    "objective = alpha * distance_from_h0 + soft_secant_condition\n",
    "\n",
    "print(\"obj value\", cp.Problem(cp.Minimize(objective)).solve(\n",
    "    solver='SCS',\n",
    "    verbose=True,\n",
    "))\n",
    "\n",
    "plt.plot(np.linalg.eigh(H.value)[0])"
   ]
  },
  {
   "cell_type": "markdown",
   "id": "973177b3-5eff-42c7-aa22-821809cd2a65",
   "metadata": {},
   "source": [
    "# Using assumption that H is structured"
   ]
  },
  {
   "cell_type": "code",
   "execution_count": 363,
   "id": "2ef009c8-32ce-442f-8021-793ee73b675b",
   "metadata": {},
   "outputs": [],
   "source": [
    "stacked_mat = np.hstack([Y, S])\n",
    "\n",
    "Sigma = cp.Variable((2*mem, 2*mem), symmetric=True)\n",
    "structured_H = H0 + stacked_mat @ Sigma @ stacked_mat.T\n",
    "\n",
    "distance_from_h0 = cp.sum_squares(stacked_mat @ Sigma @ stacked_mat.T)\n",
    "# soft_secant_condition = cp.sum_squares(structured_H @ Y - S)\n",
    "soft_secant_condition = cp.sum_squares(gamma * Y + stacked_mat @ Sigma @ (stacked_mat.T @ Y) - S)\n",
    "\n",
    "objective = alpha * distance_from_h0 + soft_secant_condition\n",
    "\n",
    "# print(\"obj value\", cp.Problem(\n",
    "#     cp.Minimize(objective),\n",
    "#     [structured_H >> 0],\n",
    "# ).solve(\n",
    "#     solver='SCS',\n",
    "#     verbose=True,\n",
    "# ))\n",
    "\n",
    "# print(\"ACCURACY OF TRANSFORMATION ~\", np.linalg.norm(structured_H.value- H.value)/np.linalg.norm(structured_H.value+ H.value))\n",
    "\n",
    "# plt.plot(np.linalg.eigh(structured_H.value)[0])"
   ]
  },
  {
   "cell_type": "markdown",
   "id": "f8e18062-936a-4c47-9f9d-c3f456b7a258",
   "metadata": {},
   "source": [
    "# Using SVD"
   ]
  },
  {
   "cell_type": "code",
   "execution_count": 364,
   "id": "60cc6409-b359-48ec-b55d-4c517300a209",
   "metadata": {
    "scrolled": true
   },
   "outputs": [
    {
     "name": "stdout",
     "output_type": "stream",
     "text": [
      "(100, 10) (10,) (10, 10)\n",
      "===============================================================================\n",
      "                                     CVXPY                                     \n",
      "                             v1.6.1.dev0+0.1777eb0                             \n",
      "===============================================================================\n",
      "(CVXPY) Feb 23 04:25:17 PM: Your problem has 100 variables, 100 constraints, and 0 parameters.\n",
      "(CVXPY) Feb 23 04:25:17 PM: It is compliant with the following grammars: DCP, DQCP\n",
      "(CVXPY) Feb 23 04:25:17 PM: (If you need to solve this problem multiple times, but with different data, consider using parameters.)\n",
      "(CVXPY) Feb 23 04:25:17 PM: CVXPY will first compile your problem; then, it will invoke a numerical solver to obtain a solution.\n",
      "(CVXPY) Feb 23 04:25:17 PM: Your problem is compiled with the CPP canonicalization backend.\n",
      "-------------------------------------------------------------------------------\n",
      "                                  Compilation                                  \n",
      "-------------------------------------------------------------------------------\n",
      "(CVXPY) Feb 23 04:25:17 PM: Compiling problem (target solver=SCS).\n",
      "(CVXPY) Feb 23 04:25:17 PM: Reduction chain: Dcp2Cone -> CvxAttr2Constr -> ConeMatrixStuffing -> SCS\n",
      "(CVXPY) Feb 23 04:25:17 PM: Applying reduction Dcp2Cone\n",
      "(CVXPY) Feb 23 04:25:17 PM: Applying reduction CvxAttr2Constr\n",
      "(CVXPY) Feb 23 04:25:17 PM: Applying reduction ConeMatrixStuffing\n",
      "(CVXPY) Feb 23 04:25:17 PM: Applying reduction SCS\n",
      "(CVXPY) Feb 23 04:25:17 PM: Finished problem compilation (took 7.854e-03 seconds).\n",
      "-------------------------------------------------------------------------------\n",
      "                                Numerical solver                               \n",
      "-------------------------------------------------------------------------------\n",
      "(CVXPY) Feb 23 04:25:17 PM: Invoking solver SCS  to obtain a solution.\n",
      "------------------------------------------------------------------\n",
      "\t       SCS v3.2.7 - Splitting Conic Solver\n",
      "\t(c) Brendan O'Donoghue, Stanford University, 2012\n",
      "------------------------------------------------------------------\n",
      "problem:  variables n: 205, constraints m: 205\n",
      "cones: \t  z: primal zero / dual free vars: 150\n",
      "\t  s: psd vars: 55, ssize: 1\n",
      "settings: eps_abs: 1.0e-05, eps_rel: 1.0e-05, eps_infeas: 1.0e-07\n",
      "\t  alpha: 1.50, scale: 1.00e-01, adaptive_scale: 1\n",
      "\t  max_iters: 100000, normalize: 1, rho_x: 1.00e-06\n",
      "\t  acceleration_lookback: 10, acceleration_interval: 10\n",
      "lin-sys:  sparse-direct-amd-qdldl\n",
      "\t  nnz(A): 8455, nnz(P): 150\n",
      "------------------------------------------------------------------\n",
      " iter | pri res | dua res |   gap   |   obj   |  scale  | time (s)\n",
      "------------------------------------------------------------------\n",
      "     0| 7.59e+00  2.14e-01  8.55e-01  1.56e+01  1.00e-01  2.16e-03 \n",
      "   250| 8.24e-03  1.22e-03  1.18e-03  4.79e+01  5.33e-01  9.65e-03 \n",
      "   500| 6.37e-03  8.09e-04  7.33e-04  5.64e+01  5.33e-01  1.64e-02 \n",
      "   750| 5.93e-03  5.71e-04  4.98e-04  6.28e+01  5.33e-01  2.08e-02 \n",
      "  1000| 5.44e-03  4.19e-04  3.56e-04  6.75e+01  5.33e-01  2.53e-02 \n",
      "  1250| 4.93e-03  3.15e-04  2.62e-04  7.10e+01  5.33e-01  2.97e-02 \n",
      "  1500| 4.39e-03  2.42e-04  1.97e-04  7.36e+01  5.33e-01  3.40e-02 \n",
      "  1750| 9.95e-02  3.98e+00  1.55e+00  8.19e+01  5.33e-01  3.84e-02 \n",
      "  2000| 3.36e-03  1.49e-04  1.18e-04  7.69e+01  5.33e-01  4.27e-02 \n",
      "  2250| 2.91e-03  1.20e-04  9.31e-05  7.80e+01  5.33e-01  4.71e-02 \n",
      "  2500| 2.51e-03  9.82e-05  7.45e-05  7.88e+01  5.33e-01  5.14e-02 \n",
      "  2750| 2.15e-03  8.11e-05  6.05e-05  7.94e+01  5.33e-01  5.60e-02 \n",
      "  3000| 1.85e-03  6.74e-05  4.96e-05  7.98e+01  5.33e-01  6.02e-02 \n",
      "  3250| 1.58e-03  5.63e-05  4.11e-05  8.02e+01  5.33e-01  6.43e-02 \n",
      "  3500| 1.34e-03  4.74e-05  3.44e-05  8.05e+01  5.33e-01  6.84e-02 \n",
      "  3750| 1.14e-03  4.01e-05  2.91e-05  8.07e+01  5.33e-01  7.25e-02 \n",
      "  4000| 9.74e-04  3.41e-05  2.48e-05  8.09e+01  5.33e-01  7.67e-02 \n",
      "  4250| 9.57e-04  2.91e-05  2.14e-05  8.10e+01  5.33e-01  8.08e-02 \n",
      "  4500| 7.15e-02  2.35e+00  8.17e-01  8.32e+01  5.33e-01  8.48e-02 \n",
      "  4750| 9.77e-04  2.15e-05  1.63e-05  8.13e+01  5.33e-01  8.89e-02 \n",
      "  5000| 9.82e-04  1.86e-05  1.44e-05  8.14e+01  5.33e-01  9.31e-02 \n",
      "  5250| 9.85e-04  1.62e-05  1.29e-05  8.15e+01  5.33e-01  9.72e-02 \n",
      "  5500| 9.85e-04  1.42e-05  1.16e-05  8.16e+01  5.33e-01  1.01e-01 \n",
      "  5750| 9.84e-04  1.24e-05  1.05e-05  8.17e+01  5.33e-01  1.05e-01 \n",
      "  6000| 9.75e-04  8.93e-05  3.00e-05  8.19e+01  1.69e+00  1.10e-01 \n",
      "  6250| 9.57e-04  6.41e-05  2.39e-05  8.21e+01  1.69e+00  1.14e-01 \n",
      "  6500| 9.35e-04  5.11e-05  2.01e-05  8.23e+01  1.69e+00  1.18e-01 \n",
      "  6750| 9.10e-04  4.48e-05  1.76e-05  8.25e+01  1.69e+00  1.22e-01 \n",
      "  7000| 8.85e-04  4.07e-05  1.59e-05  8.27e+01  1.69e+00  1.27e-01 \n",
      "  7250| 8.59e-04  3.79e-05  1.47e-05  8.29e+01  1.69e+00  1.31e-01 \n",
      "  7500| 8.33e-04  3.59e-05  1.38e-05  8.30e+01  1.69e+00  1.35e-01 \n",
      "  7750| 8.08e-04  3.43e-05  1.31e-05  8.32e+01  1.69e+00  1.39e-01 \n",
      "  8000| 2.53e-02  2.32e+00  2.76e+00  8.48e+01  1.69e+00  1.44e-01 \n",
      "  8250| 7.68e-04  3.20e-05  1.20e-05  8.35e+01  1.69e+00  1.48e-01 \n",
      "  8500| 7.51e-04  3.10e-05  1.16e-05  8.36e+01  1.69e+00  1.52e-01 \n",
      "  8750| 7.34e-04  3.01e-05  1.12e-05  8.37e+01  1.69e+00  1.57e-01 \n",
      "  9000| 7.18e-04  2.92e-05  1.08e-05  8.39e+01  1.69e+00  1.61e-01 \n",
      "  9250| 7.01e-04  2.84e-05  1.05e-05  8.40e+01  1.69e+00  1.65e-01 \n",
      "  9500| 6.85e-04  2.76e-05  1.02e-05  8.41e+01  1.69e+00  1.70e-01 \n",
      "  9750| 6.70e-04  2.68e-05  9.84e-06  8.42e+01  1.69e+00  1.74e-01 \n",
      " 10000| 6.54e-04  2.61e-05  9.55e-06  8.43e+01  1.69e+00  1.78e-01 \n",
      " 10250| 6.39e-04  2.54e-05  9.27e-06  8.44e+01  1.69e+00  1.83e-01 \n",
      " 10500| 6.25e-04  2.47e-05  8.99e-06  8.45e+01  1.69e+00  1.87e-01 \n",
      " 10750| 2.75e-03  2.81e-01  9.83e-02  8.64e+01  1.69e+00  1.91e-01 \n",
      " 11000| 5.96e-04  2.34e-05  8.48e-06  8.46e+01  1.69e+00  1.96e-01 \n",
      " 11250| 5.83e-04  2.28e-05  8.24e-06  8.47e+01  1.69e+00  2.00e-01 \n",
      " 11500| 5.69e-04  2.22e-05  8.00e-06  8.48e+01  1.69e+00  2.04e-01 \n",
      " 11750| 5.56e-04  2.16e-05  7.78e-06  8.49e+01  1.69e+00  2.09e-01 \n",
      " 12000| 5.43e-04  2.10e-05  7.56e-06  8.49e+01  1.69e+00  2.13e-01 \n",
      " 12250| 5.30e-04  2.04e-05  7.35e-06  8.50e+01  1.69e+00  2.17e-01 \n",
      " 12500| 5.18e-04  1.99e-05  7.14e-06  8.51e+01  1.69e+00  2.22e-01 \n",
      " 12750| 5.06e-04  1.93e-05  6.95e-06  8.51e+01  1.69e+00  2.26e-01 \n",
      " 13000| 4.94e-04  1.88e-05  6.76e-06  8.52e+01  1.69e+00  2.30e-01 \n",
      " 13250| 4.83e-04  1.83e-05  6.57e-06  8.52e+01  1.69e+00  2.35e-01 \n",
      " 13500| 1.99e-03  2.19e-01  8.65e-02  8.63e+01  1.69e+00  2.39e-01 \n",
      " 13750| 4.60e-04  1.74e-05  6.22e-06  8.53e+01  1.69e+00  2.43e-01 \n",
      " 14000| 4.50e-04  1.69e-05  6.05e-06  8.54e+01  1.69e+00  2.47e-01 \n",
      " 14250| 4.39e-04  1.65e-05  5.89e-06  8.54e+01  1.69e+00  2.51e-01 \n",
      " 14500| 4.29e-04  1.60e-05  5.73e-06  8.54e+01  1.69e+00  2.55e-01 \n",
      " 14750| 4.19e-04  1.56e-05  5.58e-06  8.55e+01  1.69e+00  2.60e-01 \n",
      " 15000| 4.09e-04  1.52e-05  5.44e-06  8.55e+01  1.69e+00  2.64e-01 \n",
      " 15250| 3.99e-04  1.48e-05  5.29e-06  8.56e+01  1.69e+00  2.68e-01 \n",
      " 15500| 3.90e-04  1.44e-05  5.15e-06  8.56e+01  1.69e+00  2.72e-01 \n",
      " 15750| 3.81e-04  1.40e-05  5.02e-06  8.56e+01  1.69e+00  2.76e-01 \n",
      " 16000| 3.72e-04  1.37e-05  4.89e-06  8.57e+01  1.69e+00  2.80e-01 \n",
      " 16250| 1.61e-03  1.69e-01  1.69e-01  8.63e+01  1.69e+00  2.84e-01 \n",
      " 16500| 3.55e-04  1.30e-05  4.64e-06  8.57e+01  1.69e+00  2.88e-01 \n",
      " 16750| 3.47e-04  1.26e-05  4.52e-06  8.57e+01  1.69e+00  2.93e-01 \n",
      " 17000| 3.39e-04  1.23e-05  4.41e-06  8.58e+01  1.69e+00  2.97e-01 \n",
      " 17250| 3.31e-04  1.20e-05  4.29e-06  8.58e+01  1.69e+00  3.01e-01 \n",
      " 17500| 3.23e-04  1.17e-05  4.19e-06  8.58e+01  1.69e+00  3.05e-01 \n",
      " 17750| 3.15e-04  1.14e-05  4.08e-06  8.58e+01  1.69e+00  3.09e-01 \n",
      " 18000| 3.08e-04  1.11e-05  3.98e-06  8.59e+01  1.69e+00  3.13e-01 \n",
      " 18250| 3.01e-04  1.08e-05  3.88e-06  8.59e+01  1.69e+00  3.17e-01 \n",
      " 18500| 2.94e-04  1.05e-05  3.78e-06  8.59e+01  1.69e+00  3.21e-01 \n",
      " 18750| 2.87e-04  1.03e-05  3.69e-06  8.59e+01  1.69e+00  3.25e-01 \n",
      " 19000| 1.61e-03  1.36e-01  1.80e-01  8.63e+01  1.69e+00  3.29e-01 \n",
      " 19250| 2.74e-04  9.76e-06  3.51e-06  8.60e+01  1.69e+00  3.33e-01 \n",
      " 19500| 2.67e-04  9.55e-06  3.42e-06  8.60e+01  1.69e+00  3.37e-01 \n",
      " 19750| 2.61e-04  9.34e-06  3.34e-06  8.60e+01  1.69e+00  3.41e-01 \n",
      " 20000| 2.55e-04  9.13e-06  3.26e-06  8.60e+01  1.69e+00  3.45e-01 \n",
      " 20250| 2.49e-04  8.93e-06  3.18e-06  8.60e+01  1.69e+00  3.49e-01 \n",
      " 20500| 2.44e-04  8.73e-06  3.10e-06  8.60e+01  1.69e+00  3.53e-01 \n",
      " 20750| 2.38e-04  8.54e-06  3.02e-06  8.61e+01  1.69e+00  3.56e-01 \n",
      " 21000| 2.32e-04  8.35e-06  2.95e-06  8.61e+01  1.69e+00  3.61e-01 \n",
      " 21250| 2.27e-04  8.17e-06  2.88e-06  8.61e+01  1.69e+00  3.65e-01 \n",
      " 21500| 2.22e-04  7.98e-06  2.81e-06  8.61e+01  1.69e+00  3.69e-01 \n",
      " 21750| 1.43e-03  1.08e-01  1.59e-01  8.63e+01  1.69e+00  3.73e-01 \n",
      " 22000| 2.12e-04  7.64e-06  2.68e-06  8.61e+01  1.69e+00  3.77e-01 \n",
      " 22250| 2.07e-04  7.47e-06  2.61e-06  8.61e+01  1.69e+00  3.81e-01 \n",
      " 22500| 2.02e-04  7.30e-06  2.55e-06  8.61e+01  1.69e+00  3.85e-01 \n",
      " 22750| 1.97e-04  7.14e-06  2.49e-06  8.62e+01  1.69e+00  3.89e-01 \n",
      " 23000| 1.93e-04  6.98e-06  2.43e-06  8.62e+01  1.69e+00  3.93e-01 \n",
      " 23250| 1.89e-04  6.83e-06  2.38e-06  8.62e+01  1.69e+00  3.98e-01 \n",
      " 23500| 1.84e-04  6.67e-06  2.32e-06  8.62e+01  1.69e+00  4.02e-01 \n",
      " 23750| 1.80e-04  6.53e-06  2.26e-06  8.62e+01  1.69e+00  4.06e-01 \n",
      " 24000| 1.76e-04  6.38e-06  2.21e-06  8.62e+01  1.69e+00  4.10e-01 \n",
      " 24250| 1.73e-04  6.24e-06  2.16e-06  8.62e+01  1.69e+00  4.15e-01 \n",
      " 24500| 1.15e-03  8.78e-02  1.29e-01  8.63e+01  1.69e+00  4.19e-01 \n",
      " 24750| 1.68e-04  5.96e-06  2.06e-06  8.62e+01  1.69e+00  4.23e-01 \n",
      " 25000| 1.65e-04  5.83e-06  2.02e-06  8.62e+01  1.69e+00  4.27e-01 \n",
      " 25250| 1.63e-04  5.70e-06  1.97e-06  8.62e+01  1.69e+00  4.32e-01 \n",
      " 25500| 1.60e-04  5.57e-06  1.92e-06  8.62e+01  1.69e+00  4.36e-01 \n",
      " 25750| 1.57e-04  5.45e-06  1.88e-06  8.62e+01  1.69e+00  4.40e-01 \n",
      " 26000| 1.55e-04  5.33e-06  1.84e-06  8.63e+01  1.69e+00  4.44e-01 \n",
      " 26250| 1.52e-04  5.21e-06  1.79e-06  8.63e+01  1.69e+00  4.49e-01 \n",
      " 26500| 1.50e-04  5.09e-06  1.75e-06  8.63e+01  1.69e+00  4.53e-01 \n",
      " 26750| 1.48e-04  4.98e-06  1.72e-06  8.63e+01  1.69e+00  4.57e-01 \n",
      " 27000| 1.45e-04  4.87e-06  1.68e-06  8.63e+01  1.69e+00  4.61e-01 \n",
      " 27250| 8.87e-04  6.84e-02  9.89e-02  8.64e+01  1.69e+00  4.65e-01 \n",
      " 27500| 1.40e-04  4.65e-06  1.60e-06  8.63e+01  1.69e+00  4.69e-01 \n",
      " 27750| 1.37e-04  4.48e-05  6.57e-06  8.63e+01  5.33e+00  4.73e-01 \n",
      " 28000| 1.34e-04  3.19e-02  3.02e-02  8.64e+01  5.33e+00  4.78e-01 \n",
      " 28250| 1.23e-04  3.88e-05  5.70e-06  8.63e+01  5.33e+00  4.82e-01 \n",
      " 28500| 1.16e-04  3.61e-05  5.32e-06  8.63e+01  5.33e+00  4.86e-01 \n",
      " 28575| 1.14e-04  3.54e-05  5.21e-06  8.63e+01  5.33e+00  4.87e-01 \n",
      "------------------------------------------------------------------\n",
      "status:  solved\n",
      "timings: total: 4.87e-01s = setup: 1.79e-03s + solve: 4.85e-01s\n",
      "\t lin-sys: 2.88e-01s, cones: 1.71e-01s, accel: 3.46e-03s\n",
      "------------------------------------------------------------------\n",
      "objective = 86.327637\n",
      "------------------------------------------------------------------\n",
      "-------------------------------------------------------------------------------\n",
      "                                    Summary                                    \n",
      "-------------------------------------------------------------------------------\n",
      "(CVXPY) Feb 23 04:25:17 PM: Problem status: optimal\n",
      "(CVXPY) Feb 23 04:25:17 PM: Optimal value: 8.633e+01\n",
      "(CVXPY) Feb 23 04:25:17 PM: Compilation took 7.854e-03 seconds\n",
      "(CVXPY) Feb 23 04:25:17 PM: Solver (including time spent in interface) took 4.874e-01 seconds\n",
      "obj value 86.32754245623393\n",
      "ACCURACY OF TRANSFORMATION ~ 0.003171965560657308\n"
     ]
    }
   ],
   "source": [
    "u, s, v = np.linalg.svd(stacked_mat, full_matrices=False)\n",
    "print(u.shape, s.shape, v.shape)\n",
    "assert np.allclose(u @ np.diag(s) @ v, stacked_mat)\n",
    "\n",
    "# these two are the new formulas for Y and S\n",
    "assert np.allclose(u @ np.diag(s) @ v[:, :mem], Y)\n",
    "assert np.allclose(u @ np.diag(s) @ v[:, mem:], S)\n",
    "\n",
    "\n",
    "newSigma = cp.Variable((2*mem, 2*mem), symmetric=True)\n",
    "newstructured_H = H0 + stacked_mat @ newSigma @ stacked_mat.T\n",
    "\n",
    "# translating from above\n",
    "distance_from_h0 = cp.sum_squares(np.diag(s) @ v @ newSigma @ v.T @ np.diag(s))\n",
    "soft_secant_condition = cp.sum_squares(gamma * np.diag(s) @ v[:, :mem] + np.diag(s) @ v @ newSigma @ v.T @ np.diag(s) @ np.diag(s) @ v[:, :mem] - np.diag(s) @ v[:, mem:])\n",
    "\n",
    "objective = alpha * distance_from_h0 + soft_secant_condition\n",
    "\n",
    "print(\"obj value\", cp.Problem(\n",
    "    cp.Minimize(objective),\n",
    "    #[ cp.lambda_min(np.diag(s) @ v @ newSigma @ v.T @ np.diag(s)) >= - gamma],# * np.eye(2*mem)],\n",
    "    # [ np.diag(s) @ v @ newSigma @ v.T @ np.diag(s) >> - gamma * np.eye(2*mem)],\n",
    "    [ newSigma >> - v.T @ np.diag(1./s) @ (gamma * np.eye(2*mem))  @ np.diag(1./s) @ v],\n",
    "\n",
    ").solve(\n",
    "    solver='SCS',\n",
    "    verbose=True,\n",
    "))\n",
    "\n",
    "print(\"ACCURACY OF TRANSFORMATION ~\", np.linalg.norm(newstructured_H.value- H.value)/np.linalg.norm(newstructured_H.value+ H.value))\n"
   ]
  },
  {
   "cell_type": "code",
   "execution_count": 365,
   "id": "38ee4d6a-fdfe-43f4-a236-b7e177f8524c",
   "metadata": {},
   "outputs": [
    {
     "data": {
      "text/plain": [
       "array(28.2018648)"
      ]
     },
     "execution_count": 365,
     "metadata": {},
     "output_type": "execute_result"
    }
   ],
   "source": [
    "distance_from_h0.value"
   ]
  },
  {
   "cell_type": "code",
   "execution_count": 366,
   "id": "178de23e-3427-4579-a9f2-7d1f41db0fc4",
   "metadata": {},
   "outputs": [],
   "source": [
    "assert np.isclose(\n",
    "    np.trace((np.diag(s) @ v @ newSigma @ v.T @ np.diag(s)).value @ (np.diag(s) @ v @ newSigma @ v.T @ np.diag(s)).value),\n",
    "    distance_from_h0.value)\n",
    "\n",
    "assert np.isclose(\n",
    "    np.trace(np.diag(s) @ v @ newSigma.value @ (v.T @ np.diag(s) @ np.diag(s) @ v) @ newSigma.value @ v.T @ np.diag(s)),\n",
    "    distance_from_h0.value)\n",
    "\n",
    "assert np.isclose(\n",
    "    np.trace(v @ newSigma.value @ (v.T @ np.diag(s**2) @ v) @ newSigma.value @ v.T @ np.diag(s**2)),\n",
    "    distance_from_h0.value)"
   ]
  },
  {
   "cell_type": "code",
   "execution_count": null,
   "id": "d43c162c-4876-48c9-aef9-2554b6957204",
   "metadata": {},
   "outputs": [],
   "source": []
  },
  {
   "cell_type": "code",
   "execution_count": 367,
   "id": "52e455e5-bb7d-48f4-bbd7-0ca7b6be34cb",
   "metadata": {},
   "outputs": [
    {
     "data": {
      "text/plain": [
       "array([-1.02410802, -1.00432768, -0.99224827, -0.99087242, -0.98787103,\n",
       "        1.77031025,  1.9299551 ,  2.16665606,  2.20348255,  2.60646515])"
      ]
     },
     "execution_count": 367,
     "metadata": {},
     "output_type": "execute_result"
    }
   ],
   "source": [
    "np.linalg.eigh(np.diag(s) @ v @ newSigma.value @ v.T @ np.diag(s))[0]"
   ]
  },
  {
   "cell_type": "code",
   "execution_count": 368,
   "id": "69df61ed-97a4-4e8b-8271-5bc829045cb5",
   "metadata": {},
   "outputs": [
    {
     "data": {
      "text/plain": [
       "[<matplotlib.lines.Line2D at 0x7f9fe20bb950>]"
      ]
     },
     "execution_count": 368,
     "metadata": {},
     "output_type": "execute_result"
    },
    {
     "data": {
      "image/png": "[encoded data removed]",
      "text/plain": [
       "<Figure size 640x480 with 1 Axes>"
      ]
     },
     "metadata": {},
     "output_type": "display_data"
    }
   ],
   "source": [
    "plt.plot(np.linalg.eigh(newstructured_H.value)[0])"
   ]
  },
  {
   "cell_type": "markdown",
   "id": "14784abf-70ac-4c44-8977-3d8dc49a301e",
   "metadata": {},
   "source": [
    "# Variable transformation - careful, some CVXPY bug"
   ]
  },
  {
   "cell_type": "code",
   "execution_count": 369,
   "id": "24fa5ec2-4e80-4b75-a8cd-9c3f8564b007",
   "metadata": {},
   "outputs": [
    {
     "name": "stdout",
     "output_type": "stream",
     "text": [
      "===============================================================================\n",
      "                                     CVXPY                                     \n",
      "                             v1.6.1.dev0+0.1777eb0                             \n",
      "===============================================================================\n",
      "(CVXPY) Feb 23 04:25:18 PM: Your problem has 100 variables, 1 constraints, and 0 parameters.\n",
      "(CVXPY) Feb 23 04:25:18 PM: It is compliant with the following grammars: DCP, DQCP\n",
      "(CVXPY) Feb 23 04:25:18 PM: (If you need to solve this problem multiple times, but with different data, consider using parameters.)\n",
      "(CVXPY) Feb 23 04:25:18 PM: CVXPY will first compile your problem; then, it will invoke a numerical solver to obtain a solution.\n",
      "(CVXPY) Feb 23 04:25:18 PM: Your problem is compiled with the CPP canonicalization backend.\n",
      "-------------------------------------------------------------------------------\n",
      "                                  Compilation                                  \n",
      "-------------------------------------------------------------------------------\n",
      "(CVXPY) Feb 23 04:25:18 PM: Compiling problem (target solver=SCS).\n",
      "(CVXPY) Feb 23 04:25:18 PM: Reduction chain: Dcp2Cone -> CvxAttr2Constr -> ConeMatrixStuffing -> SCS\n",
      "(CVXPY) Feb 23 04:25:18 PM: Applying reduction Dcp2Cone\n",
      "(CVXPY) Feb 23 04:25:18 PM: Applying reduction CvxAttr2Constr\n",
      "(CVXPY) Feb 23 04:25:18 PM: Applying reduction ConeMatrixStuffing\n",
      "(CVXPY) Feb 23 04:25:18 PM: Applying reduction SCS\n",
      "(CVXPY) Feb 23 04:25:18 PM: Finished problem compilation (took 1.234e-02 seconds).\n",
      "-------------------------------------------------------------------------------\n",
      "                                Numerical solver                               \n",
      "-------------------------------------------------------------------------------\n",
      "(CVXPY) Feb 23 04:25:18 PM: Invoking solver SCS  to obtain a solution.\n",
      "------------------------------------------------------------------\n",
      "\t       SCS v3.2.7 - Splitting Conic Solver\n",
      "\t(c) Brendan O'Donoghue, Stanford University, 2012\n",
      "------------------------------------------------------------------\n",
      "problem:  variables n: 206, constraints m: 206\n",
      "cones: \t  z: primal zero / dual free vars: 150\n",
      "\t  l: linear vars: 1\n",
      "\t  s: psd vars: 55, ssize: 1\n",
      "settings: eps_abs: 1.0e-05, eps_rel: 1.0e-05, eps_infeas: 1.0e-07\n",
      "\t  alpha: 1.50, scale: 1.00e-01, adaptive_scale: 1\n",
      "\t  max_iters: 100000, normalize: 1, rho_x: 1.00e-06\n",
      "\t  acceleration_lookback: 10, acceleration_interval: 10\n",
      "lin-sys:  sparse-direct-amd-qdldl\n",
      "\t  nnz(A): 816, nnz(P): 150\n",
      "------------------------------------------------------------------\n",
      " iter | pri res | dua res |   gap   |   obj   |  scale  | time (s)\n",
      "------------------------------------------------------------------\n",
      "     0| 1.05e+01  1.46e+00  6.52e+01  3.95e+01  1.00e-01  7.43e-04 \n",
      "   250| 1.24e-01  7.19e-03  1.43e-01  7.38e+01  3.33e-01  8.49e-03 \n",
      "   500| 2.64e-02  6.28e-03  3.58e-02  8.59e+01  1.07e+00  1.17e-02 \n",
      "   575| 5.84e-05  2.71e-06  8.43e-06  8.64e+01  1.07e+00  1.25e-02 \n",
      "------------------------------------------------------------------\n",
      "status:  solved\n",
      "timings: total: 1.25e-02s = setup: 4.72e-04s + solve: 1.21e-02s\n",
      "\t lin-sys: 6.25e-03s, cones: 4.97e-03s, accel: 1.16e-04s\n",
      "------------------------------------------------------------------\n",
      "objective = 86.404277\n",
      "------------------------------------------------------------------\n",
      "-------------------------------------------------------------------------------\n",
      "                                    Summary                                    \n",
      "-------------------------------------------------------------------------------\n",
      "(CVXPY) Feb 23 04:25:18 PM: Problem status: optimal\n",
      "(CVXPY) Feb 23 04:25:18 PM: Optimal value: 8.640e+01\n",
      "(CVXPY) Feb 23 04:25:18 PM: Compilation took 1.234e-02 seconds\n",
      "(CVXPY) Feb 23 04:25:18 PM: Solver (including time spent in interface) took 1.284e-02 seconds\n",
      "obj value 86.40428123780714\n",
      "ACCURACY OF TRANSFORMATION ~ 1.8367395397773864e-05\n"
     ]
    }
   ],
   "source": [
    "# Theta = np.diag(s) @ v @ Sigma @ v.T @ np.diag(s)\n",
    "\n",
    "Theta = cp.Variable((2*mem, 2*mem), symmetric=True)\n",
    "\n",
    "reconstructed_Sigma = v.T @ np.diag(1./s) @ Theta @ np.diag(1./s) @ v\n",
    "newstructured_H = H0 + stacked_mat @ reconstructed_Sigma @ stacked_mat.T\n",
    "\n",
    "# translating from above\n",
    "distance_from_h0 = cp.sum_squares(np.eye(2*mem) @ Theta @ np.eye(2*mem)) # BUG in CVXPY; without the two np.eye it fails\n",
    "soft_secant_condition = cp.sum_squares(gamma * np.diag(s) @ v[:, :mem] + Theta @ np.diag(s) @ v[:, :mem] - np.diag(s) @ v[:, mem:])\n",
    "soft_secant_condition = cp.sum_squares(Theta @ np.diag(s) @ v[:, :mem] + np.diag(s) @ (gamma * v[:, :mem] - v[:, mem:]))\n",
    "\n",
    "\n",
    "objective = alpha * distance_from_h0 + soft_secant_condition\n",
    "\n",
    "print(\"obj value\", cp.Problem(\n",
    "    cp.Minimize(objective),\n",
    "    [cp.lambda_min(Theta) >= - gamma],\n",
    ").solve(\n",
    "    solver='SCS',\n",
    "    verbose=True,\n",
    "))\n",
    "\n",
    "print(\"ACCURACY OF TRANSFORMATION ~\", np.linalg.norm(newstructured_H.value- H.value)/np.linalg.norm(newstructured_H.value+ H.value))\n",
    "\n"
   ]
  },
  {
   "cell_type": "markdown",
   "id": "3f3f26a7-397a-44e5-8b94-64e9f8d66458",
   "metadata": {},
   "source": [
    "# Reshape the objective, remove symmetry/PSD"
   ]
  },
  {
   "cell_type": "code",
   "execution_count": 370,
   "id": "6a28e314-9eed-4178-b7c9-6988749ec1fd",
   "metadata": {},
   "outputs": [
    {
     "name": "stdout",
     "output_type": "stream",
     "text": [
      "obj value -1004.0137699112543\n",
      "ACCURACY OF TRANSFORMATION ~ 0.22199265627433004\n"
     ]
    }
   ],
   "source": [
    "# Theta = np.diag(s) @ v @ Sigma @ v.T @ np.diag(s)\n",
    "\n",
    "Theta = cp.Variable(\n",
    "    (2*mem, 2*mem), \n",
    "    #symmetric=True\n",
    ")\n",
    "\n",
    "\n",
    "# translating from above\n",
    "distance_from_h0 = cp.sum_squares(np.eye(2*mem) @ Theta @ np.eye(2*mem)) # BUG in CVXPY; without the two np.eye it fails\n",
    "soft_secant_condition1 = cp.sum_squares(Theta @ np.diag(s) @ v[:, :mem])\n",
    "soft_secant_condition2 = 2 * cp.trace(Theta @ np.diag(s) @ v[:, :mem] @ (gamma * v[:, :mem] - v[:, mem:]).T @ np.diag(s)  )\n",
    "\n",
    "objective = alpha * distance_from_h0 + soft_secant_condition1 + soft_secant_condition2\n",
    "\n",
    "print(\"obj value\", cp.Problem(\n",
    "    cp.Minimize(objective),\n",
    "    #[cp.lambda_min(Theta) >= - gamma],\n",
    ").solve(\n",
    "    # solver='SCS',\n",
    "    # verbose=True,\n",
    "))\n",
    "\n",
    "reconstructed_Sigma = v.T @ np.diag(1./s) @ Theta @ np.diag(1./s) @ v\n",
    "newstructured_H = H0 + stacked_mat @ reconstructed_Sigma @ stacked_mat.T\n",
    "print(\"ACCURACY OF TRANSFORMATION ~\", np.linalg.norm(newstructured_H.value- H.value)/np.linalg.norm(newstructured_H.value+ H.value))\n",
    "\n"
   ]
  },
  {
   "cell_type": "markdown",
   "id": "94b0f0b8-a92f-400b-bc41-8d386abd0cbc",
   "metadata": {},
   "source": [
    "# YES"
   ]
  },
  {
   "cell_type": "code",
   "execution_count": 371,
   "id": "c5cd8b56-1101-4cc0-b7f8-e70d61a8897a",
   "metadata": {},
   "outputs": [],
   "source": [
    "A = np.eye(2*mem) + np.diag(s) @ v[:, :mem] @ v[:, :mem].T @ np.diag(s)\n",
    "B = np.diag(s) @ v[:, :mem] @ (gamma * v[:, :mem] - v[:, mem:]).T @ np.diag(s)\n",
    "assert np.allclose(-np.linalg.inv(A) @ B, Theta.value.T)\n",
    "assert np.allclose(Theta.value @ A, -B.T)"
   ]
  },
  {
   "cell_type": "markdown",
   "id": "97aa9da7-bb05-47d6-9761-10f5716b0758",
   "metadata": {},
   "source": [
    "# Add symmetry"
   ]
  },
  {
   "cell_type": "code",
   "execution_count": 372,
   "id": "4d183fc7-055a-44ce-8dfa-c00a57fe341c",
   "metadata": {},
   "outputs": [
    {
     "name": "stdout",
     "output_type": "stream",
     "text": [
      "obj value -994.3387767129957\n",
      "ACCURACY OF TRANSFORMATION ~ 0.20261327504067003\n"
     ]
    }
   ],
   "source": [
    "# Theta = np.diag(s) @ v @ Sigma @ v.T @ np.diag(s)\n",
    "\n",
    "Theta = cp.Variable(\n",
    "    (2*mem, 2*mem), \n",
    "    symmetric=True\n",
    ")\n",
    "\n",
    "# translating from above\n",
    "distance_from_h0 = cp.sum_squares(np.eye(2*mem) @ Theta @ np.eye(2*mem)) # BUG in CVXPY; without the two np.eye it fails\n",
    "soft_secant_condition1 = cp.sum_squares(Theta @ np.diag(s) @ v[:, :mem])\n",
    "soft_secant_condition2 = 2 * cp.trace(Theta @ np.diag(s) @ v[:, :mem] @ (gamma * v[:, :mem] - v[:, mem:]).T @ np.diag(s)  )\n",
    "\n",
    "objective = alpha * distance_from_h0 + soft_secant_condition1 + soft_secant_condition2\n",
    "\n",
    "print(\"obj value\", cp.Problem(\n",
    "    cp.Minimize(objective),\n",
    "    #[cp.lambda_min(Theta) >= - gamma],\n",
    ").solve(\n",
    "    # solver='SCS',\n",
    "    # verbose=True,\n",
    "))\n",
    "\n",
    "reconstructed_Sigma = v.T @ np.diag(1./s) @ Theta @ np.diag(1./s) @ v\n",
    "newstructured_H = H0 + stacked_mat @ reconstructed_Sigma @ stacked_mat.T\n",
    "print(\"ACCURACY OF TRANSFORMATION ~\", np.linalg.norm(newstructured_H.value- H.value)/np.linalg.norm(newstructured_H.value+ H.value))"
   ]
  },
  {
   "cell_type": "markdown",
   "id": "86e8fe58-6855-4efd-a1b0-da5ed47e4cb6",
   "metadata": {},
   "source": [
    "#### Error is anti symmetric!"
   ]
  },
  {
   "cell_type": "code",
   "execution_count": 373,
   "id": "675ba2cb-65da-474e-8b4a-6c018550e472",
   "metadata": {},
   "outputs": [],
   "source": [
    "err = Theta.value @ A + B.T\n",
    "assert np.allclose(err, -err.T)"
   ]
  },
  {
   "cell_type": "markdown",
   "id": "2a0a4abc-bc6c-4a3a-9f41-ad888c64d4c1",
   "metadata": {},
   "source": [
    "#### Obtained sort of close formula"
   ]
  },
  {
   "cell_type": "code",
   "execution_count": 374,
   "id": "cf291db5-1e2b-41fb-a21d-cd8598d342ac",
   "metadata": {},
   "outputs": [],
   "source": [
    "# Theta @ A + B.T - err = 0\n",
    "# err = Theta @ A + B.T\n",
    "# err = -err.T\n",
    "\n",
    "# Theta + B.T @ Ainv - err @ Ainv = 0\n",
    "# Theta + Ainv @ B - Ainv @ err.T = 0\n",
    "# Theta + Ainv @ B + Ainv @ (Theta @ A + B.T) = 0\n",
    "# Theta + Ainv @ (B + B.T) + Ainv @ Theta @ A = 0\n",
    "# A @ Theta + (B + B.T) + Theta @ A = 0\n",
    "\n",
    "# check it\n",
    "assert np.allclose(A @ Theta.value +  (B + B.T) + Theta.value @ A, 0.)\n",
    "\n",
    "\n"
   ]
  },
  {
   "cell_type": "markdown",
   "id": "a932189b-7bd9-4507-9088-53fd3a2e1117",
   "metadata": {},
   "source": [
    "# Great idea, this is solvable with only one extra eigendec!"
   ]
  },
  {
   "cell_type": "code",
   "execution_count": 375,
   "id": "2a6c1a2f-cff9-4ccc-97dd-69ab5dc25670",
   "metadata": {},
   "outputs": [],
   "source": [
    "C = np.diag(s) @ v[:, :mem] @ v[:, :mem].T @ np.diag(s)\n",
    "\n",
    "assert np.allclose(A @ Theta.value +  (B + B.T) + Theta.value @ A, 0.)\n",
    "# A = np.eye(2*mem) + np.diag(s) @ v[:, :mem] @ v[:, :mem].T @ np.diag(s)\n",
    "\n",
    "assert np.allclose(2*Theta.value  + C @ Theta.value +  (B + B.T) + Theta.value @ C, 0.)\n"
   ]
  },
  {
   "cell_type": "code",
   "execution_count": 376,
   "id": "870eaff0-b8c4-4aea-bcf6-fe71a5266dfc",
   "metadata": {},
   "outputs": [],
   "source": [
    "new_s, V = np.linalg.eigh(C)\n",
    "assert np.allclose(V @ np.diag(new_s) @ V.T, C)\n",
    "assert np.allclose(2*Theta.value  + V @ np.diag(new_s) @ V.T @ Theta.value +  (B + B.T) + Theta.value @ V @ np.diag(new_s) @ V.T, 0.)\n",
    "assert np.allclose(2* V.T @ Theta.value  + np.diag(new_s) @ V.T @ Theta.value +  V.T @ (B + B.T) + V.T @ Theta.value @ V @ np.diag(new_s) @ V.T, 0.)\n",
    "assert np.allclose(2* V.T @ Theta.value @ V  + np.diag(new_s) @ V.T @ Theta.value @ V +  V.T @ (B + B.T) @ V + V.T @ Theta.value @ V @ np.diag(new_s), 0.)\n",
    "\n",
    "Lambda = V.T @ Theta.value @ V\n",
    "assert np.allclose(2* Lambda + np.diag(new_s) @ Lambda+  V.T @ (B + B.T) @ V + Lambda @ np.diag(new_s), 0.)\n"
   ]
  },
  {
   "cell_type": "code",
   "execution_count": 377,
   "id": "cc8a34bd-1fd4-4d46-825c-f811c348086e",
   "metadata": {},
   "outputs": [],
   "source": [
    "# plt.imshow((np.ones_like(Lambda) * new_s).T + np.ones_like(Lambda) * new_s + 2 * np.ones_like(Lambda))\n",
    "# plt.colorbar()"
   ]
  },
  {
   "cell_type": "code",
   "execution_count": 378,
   "id": "841393ae-3853-49a4-bd1e-2b0c33edc564",
   "metadata": {},
   "outputs": [],
   "source": [
    "SCALING_MATRIX = (np.ones_like(Lambda) * new_s).T + np.ones_like(Lambda) * new_s + 2 * np.ones_like(Lambda)\n",
    "assert np.allclose((-V.T @ (B + B.T) @ V) / SCALING_MATRIX, Lambda)"
   ]
  },
  {
   "cell_type": "markdown",
   "id": "b2c6080c-ca2c-4750-a2e1-a53c563c2ff4",
   "metadata": {},
   "source": [
    "#### Can we improve it? No... these transformations are not invertible"
   ]
  },
  {
   "cell_type": "code",
   "execution_count": 379,
   "id": "4b04d143-6ac2-43d8-8aeb-b7095d25a566",
   "metadata": {},
   "outputs": [],
   "source": [
    "# # A = np.eye(2*mem) + np.diag(s) @ v[:, :mem] @ v[:, :mem].T @ np.diag(s)\n",
    "# # B = np.diag(s) @ v[:, :mem] @ (gamma * v[:, :mem] - v[:, mem:]).T @ np.diag(s)\n",
    "\n",
    "# assert np.allclose(\n",
    "#     2 * Theta.value +\n",
    "#     np.diag(s) @ v[:, :mem] @ v[:, :mem].T @ np.diag(s) @ Theta.value +  \n",
    "#     np.diag(s) @ (\n",
    "#         v[:, :mem] @ (gamma * v[:, :mem] - v[:, mem:]).T\n",
    "#         + (gamma * v[:, :mem] - v[:, mem:]) @ v[:, :mem].T\n",
    "#     ) @ np.diag(s) \n",
    "#     + Theta.value @ np.diag(s) @ v[:, :mem] @ v[:, :mem].T @ np.diag(s),\n",
    "#     0.)\n",
    "\n",
    "# assert np.allclose(\n",
    "#     2 * np.diag(1./s) @ Theta.value @ np.diag(1./s) +\n",
    "#     v[:, :mem] @ v[:, :mem].T @ np.diag(s) @ Theta.value @ np.diag(1./s)+  \n",
    "#     (\n",
    "#         v[:, :mem] @ (gamma * v[:, :mem] - v[:, mem:]).T\n",
    "#         + (gamma * v[:, :mem] - v[:, mem:]) @ v[:, :mem].T\n",
    "#     )\n",
    "#     + np.diag(1./s) @ Theta.value @ np.diag(s) @ v[:, :mem] @ v[:, :mem].T,\n",
    "#     0.)\n",
    "\n",
    "# assert np.allclose(\n",
    "#     2 * v[:, :mem].T @ np.diag(1./s) @ Theta.value @ np.diag(1./s) +\n",
    "#     v[:, :mem].T @ np.diag(s) @ Theta.value @ np.diag(1./s)+  \n",
    "#     (\n",
    "#          (gamma * v[:, :mem] - v[:, mem:]).T\n",
    "#         + (gamma * np.eye(mem)) @ v[:, :mem].T\n",
    "#     )\n",
    "#     + v[:, :mem].T @ np.diag(1./s) @ Theta.value @ np.diag(s) @ v[:, :mem] @ v[:, :mem].T,\n",
    "#     0.)\n",
    "\n",
    "# # this is nice but it's a smaller set of equations, not enough\n",
    "# assert np.allclose(\n",
    "#     2 * v[:, :mem].T @ np.diag(1./s) @ Theta.value @ np.diag(1./s) @ v[:, mem:] +\n",
    "#     v[:, :mem].T @ np.diag(s) @ Theta.value @ np.diag(1./s) @ v[:, mem:]+  \n",
    "#     (- (gamma * np.eye(3) )),\n",
    "#     0.)\n"
   ]
  },
  {
   "cell_type": "code",
   "execution_count": 380,
   "id": "303f50ff-66b2-45f5-b0d7-9c48f16d1523",
   "metadata": {},
   "outputs": [],
   "source": [
    "# v[:, mem:]  @ v[:, mem:].T"
   ]
  },
  {
   "cell_type": "markdown",
   "id": "1dd9277a-58d3-48de-a960-d9d1ec9c6b53",
   "metadata": {},
   "source": [
    "### PSD part "
   ]
  },
  {
   "cell_type": "code",
   "execution_count": 381,
   "id": "6348b9d2-8e7c-444f-b550-34c578d0364d",
   "metadata": {},
   "outputs": [],
   "source": [
    "# ONLY_SYMMETRIC_THETA = Theta.value\n",
    "# PROJECTED_THETA = eivec @ np.diag(np.maximum(eival, -gamma)) @ eivec.T"
   ]
  },
  {
   "cell_type": "code",
   "execution_count": 382,
   "id": "f6932d2b-e3c2-4cab-9a42-485b10cf616c",
   "metadata": {},
   "outputs": [],
   "source": [
    "# eival, eivec = np.linalg.eigh(Theta.value)\n",
    "# plt.imshow(eivec.T @ Theta.value @ eivec)\n",
    "# plt.colorbar()"
   ]
  },
  {
   "cell_type": "markdown",
   "id": "bb4fbc27-b8c0-4ce4-88fc-c733a77cbc9d",
   "metadata": {},
   "source": [
    "# Add PSD"
   ]
  },
  {
   "cell_type": "code",
   "execution_count": 597,
   "id": "d6b6403d-c73e-43cf-b0c9-48ca60726507",
   "metadata": {},
   "outputs": [
    {
     "name": "stdout",
     "output_type": "stream",
     "text": [
      "obj value -927.9448664997323\n",
      "ACCURACY OF TRANSFORMATION ~ 4.202839326931374e-06\n"
     ]
    }
   ],
   "source": [
    "# Theta = np.diag(s) @ v @ Sigma @ v.T @ np.diag(s)\n",
    "\n",
    "Theta = cp.Variable(\n",
    "    (2*mem, 2*mem), \n",
    "    symmetric=True\n",
    ")\n",
    "\n",
    "# translating from above\n",
    "distance_from_h0 = cp.sum_squares(np.eye(2*mem) @ Theta @ np.eye(2*mem)) # BUG in CVXPY; without the two np.eye it fails\n",
    "soft_secant_condition1 = cp.sum_squares(Theta @ np.diag(s) @ v[:, :mem])\n",
    "soft_secant_condition2 = 2 * cp.trace(np.diag(s) @ Theta @ np.diag(s) @ v[:, :mem] @ (gamma * v[:, :mem] - v[:, mem:]).T )\n",
    "\n",
    "objective = alpha * distance_from_h0 + soft_secant_condition1 + soft_secant_condition2\n",
    "\n",
    "print(\"obj value\", cp.Problem(\n",
    "    cp.Minimize(objective),\n",
    "    [cp.lambda_min(Theta) >= - gamma],\n",
    ").solve(\n",
    "    solver='SCS',\n",
    "    eps=1e-14\n",
    "    # verbose=True,\n",
    "))\n",
    "\n",
    "# reconstructed_Sigma = v.T @ np.diag(1./s) @ Theta @ np.diag(1./s) @ v\n",
    "# newstructured_H = H0 + stacked_mat @ reconstructed_Sigma @ stacked_mat.T\n",
    "newstructured_H = H0 + u @ Theta @ u.T\n",
    "\n",
    "print(\"ACCURACY OF TRANSFORMATION ~\", np.linalg.norm(newstructured_H.value- H.value)/np.linalg.norm(newstructured_H.value+ H.value))"
   ]
  },
  {
   "cell_type": "markdown",
   "id": "9f36b714-84a0-462b-bb28-4bf7002f84c0",
   "metadata": {},
   "source": [
    "# DR: remove regularization part of objective, truncate at ~10 iters"
   ]
  },
  {
   "cell_type": "code",
   "execution_count": 646,
   "id": "2ed4e6a6-210c-48c1-9fd4-a477849f9bc3",
   "metadata": {},
   "outputs": [
    {
     "name": "stdout",
     "output_type": "stream",
     "text": [
      "EIVALS [-1.         -1.         -1.         -1.         -1.          1.78697894\n",
      "  1.9383058   2.1590461   2.19991493  2.59619472]\n"
     ]
    }
   ],
   "source": [
    "np.linalg.eigh(Theta.value)[0]\n",
    "\n",
    "def PSD_PROJECT(theta):\n",
    "    eival, eivec = np.linalg.eigh(theta)\n",
    "    print('EIVALS', eival)\n",
    "    return eivec @ np.diag(np.maximum(eival, -1.)) @ eivec.T\n",
    "\n",
    "assert np.allclose(PSD_PROJECT(Theta.value), Theta.value)\n",
    "\n",
    "S_MULTIPLIER = 100 * 2*mem/(np.linalg.norm(s))\n",
    "GAMMA=0.5\n",
    "def quadratic_proximal(theta, GAMMA=0.5):\n",
    "    \n",
    "\n",
    "    theta_var = cp.Variable(\n",
    "        (2*mem, 2*mem), \n",
    "        symmetric=True)\n",
    "\n",
    "    # distance_from_h0 = cp.sum_squares(np.eye(2*mem) @ theta_var @ np.eye(2*mem)) # BUG in CVXPY; without the two np.eye it fails\n",
    "    distance_from_theta = cp.sum_squares(theta_var - theta)\n",
    "    soft_secant_condition1 = cp.sum_squares(theta_var @ np.diag(s*S_MULTIPLIER) @ v[:, :mem])\n",
    "    soft_secant_condition2 = 2 * cp.trace(np.diag(s*S_MULTIPLIER) @ theta_var @ np.diag(s*S_MULTIPLIER) @ v[:, :mem] @ (gamma * v[:, :mem] - v[:, mem:]).T )\n",
    "\n",
    "    # objective = alpha * distance_from_h0 + GAMMA * distance_from_theta + soft_secant_condition1 + soft_secant_condition2\n",
    "    objective = GAMMA * distance_from_theta + soft_secant_condition1 + soft_secant_condition2\n",
    "\n",
    "    cp.Problem(cp.Minimize(objective)).solve(solver='OSQP')\n",
    "    return theta_var.value\n",
    "\n",
    "#assert max(np.linalg.eigh(quadratic_proximal(Theta.value) - Theta.value)[0]) < 0\n",
    "\n",
    "    "
   ]
  },
  {
   "cell_type": "code",
   "execution_count": 647,
   "id": "4b4348ca-407b-4c5f-bf78-bd06adac8222",
   "metadata": {},
   "outputs": [],
   "source": [
    "#100 * 2*mem/(np.linalg.norm(s))"
   ]
  },
  {
   "cell_type": "code",
   "execution_count": 648,
   "id": "83da0073-a697-4d9e-ba5a-3ffd451157d7",
   "metadata": {},
   "outputs": [
    {
     "name": "stdout",
     "output_type": "stream",
     "text": [
      "EIVALS [0. 0. 0. 0. 0. 0. 0. 0. 0. 0.]\n",
      "1014.3491397873245\n",
      "EIVALS [-1.88159853 -1.70763315 -1.57836052 -1.53129927 -1.46437497  0.4602253\n",
      "  0.47814809  0.59114143  0.67907803  0.69530265]\n",
      "150.21512903896186\n",
      "EIVALS [-2.65669195 -2.32374678 -2.07620553 -1.99725079 -1.87144092  0.64295508\n",
      "  0.67757608  0.86678492  0.93264123  1.03721305]\n",
      "130.39320462431658\n",
      "EIVALS [-3.3474027  -2.86337114 -2.51093226 -2.4003071  -2.222383    0.85636703\n",
      "  0.91494402  1.1632526   1.23190264  1.42253996]\n",
      "112.66632900690425\n",
      "EIVALS [-3.97718    -3.34560056 -2.90007539 -2.75231569 -2.52520887  1.08035006\n",
      "  1.16392825  1.44990746  1.5491638   1.81160779]\n",
      "97.83664336863474\n",
      "EIVALS [-4.56283181 -3.78513906 -3.25520895 -3.06559965 -2.78845114  1.30398922\n",
      "  1.41211556  1.72326384  1.86409523  2.1898503 ]\n",
      "85.6669808809146\n",
      "EIVALS [-5.11548096 -4.19215694 -3.58389918 -3.34957795 -3.01933047  1.5221496\n",
      "  1.6539683   1.98312821  2.16852583  2.5525484 ]\n",
      "75.7542939517351\n",
      "EIVALS [-5.64251827 -4.5736281  -3.89138482 -3.61079547 -3.22356988  1.73268863\n",
      "  1.88728779  2.22981151  2.46022843  2.89888078]\n",
      "67.70324989507989\n",
      "EIVALS [-6.14901572 -4.93445225 -4.18145103 -3.85377447 -3.40563452  1.93493541\n",
      "  2.11146516  2.46409359  2.73912715  3.22954306]\n",
      "61.158707356373185\n",
      "EIVALS [-6.63859267 -5.27818743 -4.4569208  -4.08172639 -3.56901604  2.12892303\n",
      "  2.32663059  2.68696512  3.00592863  3.545766  ]\n",
      "55.81655734475177\n",
      "EIVALS [-7.11392936 -5.6075019  -4.71995668 -4.29701396 -3.71646973  2.31500588\n",
      "  2.53323856  2.8994554   3.26159271  3.84890153]\n",
      "51.426368013134336\n",
      "EIVALS [-7.57707484 -5.92445355 -4.97225412 -4.50143476 -3.85019483  2.49366879\n",
      "  2.73186503  3.1025482   3.50711473  4.14025065]\n",
      "47.787845597230955\n",
      "EIVALS [-8.02963748 -6.23066731 -5.21516899 -4.69639621 -3.97196787  2.66543217\n",
      "  2.92310874  3.29714718  3.74343665  4.42099819]\n",
      "44.74383235335073\n",
      "EIVALS [-8.47290728 -6.52745152 -5.44980418 -4.88302652 -4.08324067  2.83080582\n",
      "  3.10754502  3.48406613  3.97141463  4.69219547]\n",
      "42.172319549258155\n",
      "EIVALS [-8.90793753 -6.81587698 -5.67706984 -5.06224772 -4.18521288  2.99026796\n",
      "  3.28570595  3.66403074  4.19181194  4.95476384]\n",
      "39.97897369476416\n",
      "EIVALS [-9.3356011  -7.0968323  -5.89772655 -5.23482533 -4.278886    3.14425707\n",
      "  3.45807393  3.83768538  4.40530295  5.20950667]\n",
      "38.0908133006726\n",
      "EIVALS [-9.75663059 -7.37106384 -6.11241687 -5.40140342 -4.36510418  3.29317028\n",
      "  3.62508184  4.00560154  4.61248137  5.45712375]\n",
      "36.451155062323764\n",
      "EIVALS [-10.17164762  -7.63920502  -6.32168888  -5.56252998  -4.44458522\n",
      "   3.43736501   3.7871162    4.16828645   4.81386978   5.69822556]\n",
      "35.015705688262315\n",
      "EIVALS [-10.58118473  -7.90179845  -6.5260142   -5.71867584  -4.51794454\n",
      "   3.57716205   3.94452166   4.32619108   5.00992884   5.93334619]\n",
      "33.74959523235747\n",
      "EIVALS [-10.98570204  -8.1593128   -6.72580171  -5.87024894  -4.58571375\n",
      "   3.71284909   4.0976057    4.47971727   5.20106574   6.16295459]\n",
      "32.62514609138612\n",
      "EIVALS [-11.3856001   -8.4121559   -6.92140846  -6.01760543  -4.6483553\n",
      "   3.84468433   4.24664326   4.62922396   5.38764155   6.38746426]\n",
      "31.620200770276725\n",
      "EIVALS [-11.78123007  -8.66068509  -7.1131482   -6.16105831  -4.70627402\n",
      "   3.97289984   4.3918809    4.77503256   5.56997759   6.60724134]\n",
      "30.716867533376345\n",
      "EIVALS [-12.17290164  -8.90521534  -7.30129825  -6.30088439  -4.75982647\n",
      "   4.09770465   4.53354064   4.91743148   5.74836088   6.82261144]\n",
      "29.900576249752902\n",
      "EIVALS [-12.56088957  -9.1460259   -7.48610506  -6.43732978  -4.8093284\n",
      "   4.2192875    4.67182324   5.05668005   5.92304874   7.03386538]\n",
      "29.159363974602567\n",
      "EIVALS [-12.94543881  -9.38336559  -7.66778873  -6.57061443  -4.85506084\n",
      "   4.33781928   4.80691114   5.19301183   6.09427273   7.24126394]\n",
      "28.483330882944294\n",
      "EIVALS [-13.32676886  -9.61745722  -7.84654669  -6.7009358   -4.89727512\n",
      "   4.45345509   4.93897097   5.32663744   6.26224193   7.44504192]\n",
      "27.864222971492552\n",
      "EIVALS [-13.70507724  -9.84850115  -8.02255683  -6.82847192  -4.936197\n",
      "   4.56633616   5.06815572   5.45774698   6.4271458    7.64541151]\n",
      "27.29510957528407\n",
      "EIVALS [-14.0805424  -10.07667833  -8.19598006  -6.95338398  -4.97203008\n",
      "   4.67659144   5.19460657   5.58651215   6.58915654   7.84256512]\n",
      "26.77013223735349\n",
      "EIVALS [-14.45332623 -10.30215275  -8.36696242  -7.07581837  -5.0049587\n",
      "   4.78433899   5.31845446   5.71308812   6.74843122   8.03667789]\n",
      "26.284307637402094\n",
      "EIVALS [-14.82357605 -10.52507361  -8.53563697  -7.19590859  -5.03515035\n",
      "   4.88968721   5.43982143   5.83761512   6.90511343   8.22790965]\n",
      "25.83337176967455\n",
      "EIVALS [-15.19142641 -10.74557706  -8.70212528  -7.3137767   -5.0627577\n",
      "   4.99273593   5.55882168   5.96021993   7.05933491   8.41640678]\n",
      "25.413655825580236\n",
      "EIVALS [-15.55700055 -10.96378776  -8.86653877  -7.42953466  -5.08792037\n",
      "   5.09357733   5.67556254   6.08101716   7.21121676   8.60230369]\n",
      "25.02198662320125\n",
      "EIVALS [-15.92041167 -11.17982015  -9.02897986  -7.54328545  -5.11076642\n",
      "   5.19229674   5.79014515   6.20011047   7.36087064   8.78572412]\n",
      "24.6556061799625\n",
      "EIVALS [-16.28176405 -11.39377959  -9.18954292  -7.65512404  -5.13141362\n",
      "   5.2889734    5.90266513   6.31759366   7.50839974   8.96678228]\n",
      "24.312106319564563\n",
      "EIVALS [-16.64115399 -11.60576333  -9.34831514  -7.76513822  -5.14997054\n",
      "   5.38368101   6.01321305   6.43355163   7.6538996    9.14558387]\n",
      "23.98937516801285\n",
      "EIVALS [-16.9986706  -11.81586132  -9.50537724  -7.87340935  -5.16653756\n",
      "   5.4764884    6.12187483   6.54806132   7.79745891   9.32222689]\n",
      "23.685553114633738\n",
      "EIVALS [-17.35439657 -12.024157    -9.66080416  -7.98001296  -5.18120767\n",
      "   5.56745988   6.22873205   6.66119254   7.93916018   9.49680242]\n",
      "23.398996356279447\n",
      "EIVALS [-17.70840877 -12.23072788  -9.81466556  -8.08501934  -5.1940672\n",
      "   5.6566558    6.33386224   6.77300871   8.07908027   9.66939527]\n",
      "23.128246554108895\n",
      "EIVALS [-18.06077881 -12.43564617  -9.96702636  -8.18849405  -5.2051965\n",
      "   5.74413282   6.4373391    6.88356761   8.21729093   9.84008459]\n",
      "22.872005448153747\n",
      "EIVALS [-18.41157352 -12.63897919 -10.11794717  -8.2904983   -5.21467043\n",
      "   5.82994432   6.53923268   6.99292195   8.35385929  10.00894434]\n",
      "22.629113513974776\n",
      "EIVALS [-18.76085537 -12.8407899  -10.26748467  -8.39108938  -5.22255895\n",
      "   5.91414067   6.63960952   7.10111996   8.48884821  10.17604379]\n",
      "22.39853193442675\n",
      "EIVALS [-19.1086829  -13.04113723 -10.41569197  -8.49032098  -5.2289275\n",
      "   5.99676948   6.73853285   7.2082059    8.6223167   10.34144791]\n",
      "22.179327303039944\n",
      "EIVALS [-19.455111   -13.24007645 -10.56261888  -8.58824351  -5.2338374\n",
      "   6.07787586   6.83606268   7.31422051   8.75432017  10.50521774]\n",
      "21.970658590267284\n",
      "EIVALS [-19.80019126 -13.43765947 -10.70831222  -8.68490437  -5.23734625\n",
      "   6.15750261   6.93225595   7.41920142   8.88491082  10.66741068]\n",
      "21.77176599270854\n",
      "EIVALS [-20.14397222 -13.63393511 -10.85281606  -8.78034818  -5.23950816\n",
      "   6.23569042   7.02716667   7.52318346   9.01413779  10.82808084]\n",
      "21.58196135642241\n",
      "EIVALS [-20.48649961 -13.82894938 -10.99617194  -8.87461702  -5.24037411\n",
      "   6.31247801   7.12084601   7.62619904   9.14204749  10.98727926]\n",
      "21.400619921748635\n",
      "EIVALS [-20.82781658 -14.02274567 -11.13841903  -8.96775062  -5.23999215\n",
      "   6.38790231   7.21334247   7.72827839   9.26868376  11.14505416]\n",
      "21.22717318221693\n",
      "EIVALS [-21.1679639  -14.21536496 -11.27959438  -9.05978653  -5.23840766\n",
      "   6.46199857   7.30470195   7.82944976   9.39408806  11.30145115]\n",
      "21.061102686601064\n",
      "EIVALS [-21.50698015 -14.40684601 -11.41973301  -9.1507603   -5.23566352\n",
      "   6.53480049   7.39496793   7.92973971   9.51829967  11.45651344]\n",
      "20.9019346417352\n",
      "EIVALS [-21.84490184 -14.59722552 -11.55886812  -9.2407056   -5.23180034\n",
      "   6.60634031   7.48418153   8.02917321   9.64135583  11.61028197]\n",
      "20.74923519874041\n",
      "EIVALS [-22.18176361 -14.78653827 -11.69703117  -9.32965439  -5.22685659\n",
      "   6.67664893   7.57238168   8.12777385   9.76329191  11.76279563]\n",
      "20.60260632331233\n",
      "EIVALS [-22.51759831 -14.97481728 -11.83425203  -9.41763701  -5.22086877\n",
      "   6.74575597   7.65960521   8.22556397   9.88414148  11.91409135]\n",
      "20.46168216825632\n",
      "EIVALS [-22.85243719 -15.1620939  -11.97055909  -9.5046823   -5.21387156\n",
      "   6.81368987   7.74588697   8.32256473  10.00393651  12.06420428]\n",
      "20.326125877746737\n",
      "EIVALS [-23.18630993 -15.34839794 -12.10597934  -9.59081771  -5.2058979\n",
      "   6.88047795   7.83125992   8.4187963   10.1227074   12.21316786]\n",
      "20.195626765033566\n",
      "EIVALS [-23.51924481 -15.5337578  -12.2405385   -9.67606937  -5.19697918\n",
      "   6.94614647   7.91575527   8.51427787  10.24048316  12.36101399]\n",
      "20.069897813588476\n",
      "EIVALS [-23.85126879 -15.71820052 -12.37426107  -9.7604622   -5.18714529\n",
      "   7.01072071   7.99940256   8.60902778  10.35729142  12.50777307]\n",
      "19.948673459321828\n",
      "EIVALS [-24.18240754 -15.90175188 -12.50717042  -9.84401999  -5.17642471\n",
      "   7.07422498   8.08222978   8.70306354  10.47315859  12.65347414]\n",
      "19.83170761764472\n",
      "EIVALS [-24.51268561 -16.08443649 -12.63928884  -9.92676543  -5.16484465\n",
      "   7.13668272   8.16426342   8.79640197  10.58810988  12.79814494]\n",
      "19.718771924447484\n",
      "EIVALS [-24.84212641 -16.26627785 -12.77063767 -10.00872024  -5.1524311\n",
      "   7.19811651   8.24552861   8.88905916  10.7021694   12.94181202]\n",
      "19.609654164465745\n",
      "EIVALS [-25.17075237 -16.44729846 -12.90123729 -10.08990516  -5.1392089\n",
      "   7.25854812   8.32604915   8.98105058  10.81536023  13.08450077]\n",
      "19.504156864050838\n",
      "EIVALS [-25.49858491 -16.6275198  -13.0311072  -10.17034008  -5.12520181\n",
      "   7.31799858   8.40584765   9.07239111  10.92770447  13.2262355 ]\n",
      "19.402096028834592\n",
      "EIVALS [-25.82564456 -16.80696247 -13.16026608 -10.25004402  -5.11043262\n",
      "   7.37648814   8.48494557   9.16309508  11.0392233   13.36703953]\n",
      "19.30330000885631\n",
      "EIVALS [-26.15195099 -16.98564619 -13.28873183 -10.32903523  -5.09492313\n",
      "   7.43403638   8.56336327   9.25317626  11.14993701  13.50693523]\n",
      "19.20760847680213\n",
      "EIVALS [-26.47752307 -17.16358988 -13.41652163 -10.40733123  -5.07869428\n",
      "   7.49066222   8.64112013   9.34264798  11.25986512  13.64594406]\n",
      "19.11487150595621\n",
      "EIVALS [-26.8023789  -17.34081168 -13.54365195 -10.4849488   -5.06176614\n",
      "   7.54638391   8.71823456   9.43152306  11.36902632  13.78408664]\n",
      "19.02494873712105\n",
      "EIVALS [-27.12653585 -17.51732902 -13.67013862 -10.5619041   -5.04415802\n",
      "   7.60121911   8.79472411   9.51981389  11.4774386   13.92138278]\n",
      "18.937708624378924\n",
      "EIVALS [-27.45001062 -17.69315865 -13.79599684 -10.63821263  -5.02588845\n",
      "   7.65518487   8.87060548   9.60753247  11.58511926  14.05785155]\n",
      "18.853027751111448\n",
      "EIVALS [-27.77281927 -17.86831665 -13.92124124 -10.71388933  -5.00697526\n",
      "   7.70829771   8.94589458   9.69469038  11.69208494  14.19351127]\n",
      "18.7707902090554\n",
      "EIVALS [-28.09497724 -18.04281851 -14.04588587 -10.78894854  -4.98743563\n",
      "   7.76057359   9.02060661   9.78129881  11.79835164  14.3283796 ]\n",
      "18.690887033290153\n",
      "EIVALS [-28.4164994  -18.21667912 -14.16994429 -10.86340409  -4.96728608\n",
      "   7.81202793   9.09475606   9.86736863  11.90393479  14.46247357]\n",
      "18.61321568768609\n",
      "EIVALS [-28.73740006 -18.38991285 -14.29342953 -10.93726931  -4.94654253\n",
      "   7.86267569   9.16835678   9.95291034  12.00884926  14.59580957]\n",
      "18.53767959554749\n",
      "EIVALS [-29.05769301 -18.5625335  -14.41635416 -11.01055702  -4.92522035\n",
      "   7.91253132   9.24142201  10.03793411  12.11310938  14.7284034 ]\n",
      "18.464187710300745\n",
      "EIVALS [-29.37739156 -18.73455442 -14.53873031 -11.08327962  -4.90333436\n",
      "   7.96160883   9.31396442  10.12244983  12.21672898  14.86027035]\n",
      "18.392654124295653\n",
      "EIVALS [-29.69650854 -18.90598847 -14.66056966 -11.15544906  -4.88089884\n",
      "   8.00992178   9.38599614  10.20646704  12.3197214   14.99142513]\n",
      "18.322997708933396\n",
      "EIVALS [-30.01505632 -19.07684804 -14.7818835  -11.22707686  -4.85792763\n",
      "   8.05748328   9.45752879  10.28999505  12.42209954  15.12188199]\n",
      "18.255141785172817\n",
      "EIVALS [-30.33304685 -19.24714513 -14.90268274 -11.29817417  -4.83443406\n",
      "   8.10430606   9.52857353  10.37304285  12.52387584  15.25165468]\n",
      "18.189013821034223\n",
      "EIVALS [-30.6504917  -19.4168913  -15.02297789 -11.36875175  -4.81043104\n",
      "   8.15040244   9.59914104  10.4556192   12.62506235  15.3807565 ]\n",
      "18.124545153582027\n",
      "EIVALS [-30.96740201 -19.58609775 -15.14277914 -11.43882002  -4.78593107\n",
      "   8.19578435   9.6692416   10.53773258  12.7256707   15.50920032]\n",
      "18.061670732777024\n",
      "EIVALS [-31.28378857 -19.75477528 -15.26209632 -11.50838904  -4.76094621\n",
      "   8.24046337   9.73888507  10.61939124  12.82571214  15.63699858]\n",
      "18.000328885696415\n",
      "EIVALS [-31.59966184 -19.92293436 -15.38093897 -11.57746855  -4.73548818\n",
      "   8.28445072   9.80808096  10.70060321  12.92519759  15.76416334]\n",
      "17.940461098912177\n",
      "EIVALS [-31.9150319  -20.09058512 -15.49931629 -11.64606798  -4.70956832\n",
      "   8.32775726   9.87683838  10.78137627  13.02413759  15.89070628]\n",
      "17.88201181753862\n",
      "EIVALS [-32.22990853 -20.25773735 -15.61723721 -11.71419646  -4.68319761\n",
      "   8.37039354   9.94516614  10.861718    13.12254237  16.0166387 ]\n",
      "17.824928259413888\n",
      "EIVALS [-32.54430122 -20.42440055 -15.73471037 -11.78186284  -4.65638671\n",
      "   8.41236979  10.01307271  10.94163577  13.22042182  16.14197157]\n",
      "17.769160243254518\n",
      "EIVALS [-32.85821912 -20.59058391 -15.85174414 -11.8490757   -4.62914595\n",
      "   8.45369592  10.08056626  11.02113675  13.31778556  16.26671553]\n",
      "17.714660029329295\n",
      "EIVALS [-33.17167115 -20.75629636 -15.96834665 -11.91584334  -4.60148538\n",
      "   8.49438155  10.14765468  11.10022791  13.4146429   16.39088089]\n",
      "17.661382171851372\n",
      "EIVALS [-33.48466592 -20.92154653 -16.08452577 -11.98217384  -4.57341473\n",
      "   8.53443602  10.21434558  11.17891605  13.51100286  16.51447766]\n",
      "17.609283381915205\n",
      "EIVALS [-33.79721179 -21.08634282 -16.20028914 -12.04807501  -4.54494347\n",
      "   8.57386839  10.28064631  11.25720777  13.60687423  16.63751556]\n",
      "17.558322400099044\n",
      "EIVALS [-34.1093169  -21.25069336 -16.31564416 -12.11355445  -4.51608081\n",
      "   8.61268745  10.34656397  11.33510951  13.7022655   16.76000403]\n",
      "17.50845987824779\n",
      "EIVALS [-34.42098911 -21.41460605 -16.43059805 -12.17861954  -4.48683568\n",
      "   8.65090173  10.41210544  11.41262754  13.79718496  16.88195224]\n",
      "17.459658269116773\n",
      "EIVALS [-34.73223607 -21.57808856 -16.54515778 -12.24327742  -4.45721679\n",
      "   8.68851952  10.47727736  11.48976797  13.89164062  17.0033691 ]\n",
      "17.41188172392146\n",
      "EIVALS [-35.04306523 -21.74114834 -16.65933014 -12.30753508  -4.4272326\n",
      "   8.72554885  10.54208618  11.56653677  13.9856403   17.12426327]\n",
      "17.365095996598264\n",
      "EIVALS [-35.35348379 -21.90379263 -16.77312174 -12.37139926  -4.39689136\n",
      "   8.76199755  10.60653813  11.64293972  14.07919158  17.24464317]\n",
      "17.319268354461663\n",
      "EIVALS [-35.66349879 -22.06602848 -16.88653899 -12.43487654  -4.36620108\n",
      "   8.79787319  10.67063925  11.71898249  14.17230184  17.36451701]\n",
      "17.274367495036877\n",
      "EIVALS [-35.97311703 -22.22786271 -16.99958813 -12.49797333  -4.33516959\n",
      "   8.83318314  10.73439541  11.7946706   14.26497826  17.48389274]\n",
      "17.230363468105075\n",
      "EIVALS [-36.28234517 -22.389302   -17.11227521 -12.56069583  -4.30380451\n",
      "   8.86793456  10.79781228  11.87000944  14.35722782  17.60277815]\n",
      "17.18722760283832\n",
      "EIVALS [-36.59118965 -22.5503528  -17.22460615 -12.62305011  -4.27211327\n",
      "   8.90213441  10.86089539  11.94500424  14.44905733  17.72118077]\n",
      "17.144932439688034\n",
      "EIVALS [-36.89965676 -22.71102144 -17.3365867  -12.68504206  -4.24010311\n",
      "   8.93578943  10.92365008  12.01966015  14.54047339  17.83910798]\n",
      "17.10345166654747\n",
      "EIVALS [-37.20775262 -22.87131402 -17.44822243 -12.74667741  -4.20778109\n",
      "   8.9689062   10.98608157  12.09398215  14.63148245  17.95656694]\n",
      "17.062760058849804\n",
      "EIVALS [-37.51548317 -23.03123654 -17.55951881 -12.80796176  -4.17515413\n",
      "   9.00149109  11.04819492  12.16797514  14.7220908   18.07356463]\n",
      "17.02283342353573\n",
      "EIVALS [-37.82285423 -23.19079481 -17.67048113 -12.86890055  -4.14222895\n",
      "   9.0335503   11.10999503  12.24164388  14.81230454  18.19010788]\n",
      "16.983648546346636\n",
      "EIVALS [-38.12987143 -23.3499945  -17.78111458 -12.92949908  -4.10901213\n",
      "   9.06508987  11.17148669  12.31499303  14.90212965  18.30620331]\n"
     ]
    }
   ],
   "source": [
    "theta = np.zeros((2*mem,2*mem))\n",
    "\n",
    "for i in range(100):\n",
    "    pi1 = PSD_PROJECT(theta)\n",
    "\n",
    "    ## evaluate quality\n",
    "    H = np.eye(N) + u @ pi1 @ u.T\n",
    "    print(np.linalg.norm(H @ Y - S)**2)\n",
    "    \n",
    "    pi2 = quadratic_proximal(2 * pi1 - theta, GAMMA=0.5)\n",
    "    theta += pi2 - pi1 \n",
    "    # if np.linalg.eigh(theta)[0][-1] > 8:\n",
    "    #     print('iter', i)\n",
    "    #     break\n",
    "    # print(np.linalg.eigh(theta)[0][-1])\n",
    "\n",
    "result = PSD_PROJECT(theta)\n"
   ]
  },
  {
   "cell_type": "code",
   "execution_count": 649,
   "id": "5b907749-1f90-4328-a99f-df2044563fff",
   "metadata": {},
   "outputs": [
    {
     "name": "stdout",
     "output_type": "stream",
     "text": [
      "EIVALS [0. 0. 0. 0. 0. 0. 0. 0. 0. 0.]\n",
      "1014.3491397873245\n",
      "EIVALS [-1.87877313 -1.70700617 -1.57645676 -1.52944852 -1.46377747  0.46186099\n",
      "  0.47877057  0.59237685  0.68650796  0.70461848]\n",
      "149.69098319635802\n",
      "EIVALS [-2.65279319 -2.32287112 -2.07445115 -1.99334371 -1.87043765  0.64402905\n",
      "  0.67879286  0.8670185   0.93853719  1.04264272]\n",
      "130.05531884994429\n",
      "EIVALS [-3.34507007 -2.86297816 -2.51080171 -2.39618183 -2.22194088  0.8559645\n",
      "  0.91541437  1.15827702  1.23008779  1.41535674]\n",
      "112.6556554080819\n",
      "EIVALS [-3.97849432 -3.34638227 -2.90170675 -2.75035161 -2.52686592  1.07769351\n",
      "  1.16240526  1.43008857  1.54269204  1.78544246]\n",
      "98.15154241382061\n",
      "EIVALS [-4.56931514 -3.78768805 -3.25840005 -3.06754433 -2.79409471  1.29832171\n",
      "  1.40737553  1.68253186  1.85398361  2.13976184]\n",
      "86.27092416156883\n",
      "EIVALS [-5.12830146 -4.19698701 -3.58851297 -3.3564771  -3.030988    1.51268821\n",
      "  1.64464304  1.91774238  2.15437072  2.47432421]\n",
      "76.60332118925253\n",
      "EIVALS [-5.66263731 -4.58119902 -3.89737957 -3.62326685 -3.24326478  1.71858533\n",
      "  1.87171982  2.13712604  2.44131809  2.7887905 ]\n",
      "68.7546024040848\n",
      "EIVALS [-6.17726999 -4.94518583 -4.18884557 -3.87222559 -3.43531179  1.91524539\n",
      "  2.08755824  2.34243937  2.71464058  3.08426189]\n",
      "62.374717401219016\n",
      "EIVALS [-6.67573729 -5.2924768  -4.46576682 -4.10647414 -3.61051511  2.10257082\n",
      "  2.2916901   2.53577023  2.97497357  3.36235176]\n",
      "57.16602269259678\n",
      "EIVALS [-7.16066057 -5.62571681 -4.73032266 -4.32834149 -3.77152183  2.28074248\n",
      "  2.48383816  2.71939617  3.2232115   3.6247853 ]\n"
     ]
    }
   ],
   "source": [
    "theta = np.zeros((2*mem,2*mem))\n",
    "\n",
    "for i in range(10):\n",
    "    pi1 = PSD_PROJECT(theta)\n",
    "\n",
    "    ## evaluate quality\n",
    "    H = np.eye(N) + u @ pi1 @ u.T\n",
    "    print(np.linalg.norm(H @ Y - S)**2)\n",
    "    \n",
    "    pi2 = quadratic_proximal(2 * pi1 - theta, GAMMA=0.05)\n",
    "    theta += pi2 - pi1 \n",
    "    # if np.linalg.eigh(theta)[0][-1] > 8:\n",
    "    #     print('iter', i)\n",
    "    #     break\n",
    "    # print(np.linalg.eigh(theta)[0][-1])\n",
    "\n",
    "result = PSD_PROJECT(theta)\n"
   ]
  },
  {
   "cell_type": "code",
   "execution_count": 657,
   "id": "2fa1be0e-77d2-4f50-af67-ac326ba68bab",
   "metadata": {},
   "outputs": [],
   "source": [
    "# def quadratic_proximal1(theta0):\n",
    "#     theta_var = cp.Variable(\n",
    "#         (2*mem, 2*mem), \n",
    "#         symmetric=True)\n",
    "\n",
    "#     distance_from_theta = cp.sum_squares(theta_var - theta)\n",
    "#     soft_secant_condition1 = cp.sum_squares(theta_var @ np.diag(s*S_MULTIPLIER) @ v[:, :mem])\n",
    "#     soft_secant_condition2 = 2 * cp.trace(np.diag(s*S_MULTIPLIER) @ theta_var @ np.diag(s*S_MULTIPLIER) @ v[:, :mem] @ (gamma * v[:, :mem] - v[:, mem:]).T )\n",
    "\n",
    "#     objective = GAMMA * distance_from_theta + soft_secant_condition1 + soft_secant_condition2\n",
    "\n",
    "#     cp.Problem(cp.Minimize(objective)).solve()#solver='SCS', eps=1e-14)\n",
    "#     return theta_var.value"
   ]
  },
  {
   "cell_type": "markdown",
   "id": "df40802e-7375-4af0-85b6-0d2499d06a9e",
   "metadata": {},
   "source": [
    "# FINAL WORK, PROJECTION ON LINSPACE"
   ]
  },
  {
   "cell_type": "code",
   "execution_count": 658,
   "id": "f48592e5-020c-46c5-b5cf-47299b7780b0",
   "metadata": {},
   "outputs": [],
   "source": [
    "theta0 = np.random.randn(2*mem, 2*mem)\n",
    "theta0 = (theta0.T @ theta0) * 10\n",
    "\n",
    "newA = GAMMA * np.eye(2*mem) + np.diag(s*S_MULTIPLIER) @ v[:, :mem] @ v[:, :mem].T @ np.diag(s*S_MULTIPLIER)\n",
    "newC = np.diag(s*S_MULTIPLIER) @ v[:, :mem] @ v[:, :mem].T @ np.diag(s*S_MULTIPLIER)\n",
    "newB = np.diag(s*S_MULTIPLIER) @ v[:, :mem] @ (gamma * v[:, :mem] - v[:, mem:]).T @ np.diag(s*S_MULTIPLIER) - GAMMA * theta0\n",
    "# assert np.allclose(newA @ quadratic_proximal1(theta0) +  (newB + newB.T) + quadratic_proximal1(theta0) @ newA, 0.)\n",
    "assert np.linalg.norm(2 * GAMMA *quadratic_proximal(theta0) + newC @ quadratic_proximal(theta0) +  (newB + newB.T) + quadratic_proximal(theta0) @ newC) < 1e-4\n",
    "\n",
    "\n",
    "new_eival, new_eivec = np.linalg.eigh(newC)\n",
    "assert np.allclose(new_eivec @ np.diag(new_eival) @ new_eivec.T, newC)\n",
    "\n",
    "assert np.linalg.norm(2 * GAMMA *quadratic_proximal(theta0) + new_eivec @ np.diag(new_eival) @ new_eivec.T @ quadratic_proximal(theta0) +  (newB + newB.T) + quadratic_proximal(theta0) @ new_eivec @ np.diag(new_eival) @ new_eivec.T) < 1e-4\n",
    "\n",
    "assert np.linalg.norm(2 * GAMMA * new_eivec.T @ quadratic_proximal(theta0) @ new_eivec\n",
    "                      + np.diag(new_eival) @ new_eivec.T @ quadratic_proximal(theta0) @ new_eivec \n",
    "                      + new_eivec.T @ (newB + newB.T) @ new_eivec \n",
    "                      + new_eivec.T @ quadratic_proximal(theta0) @ new_eivec @ np.diag(new_eival) ) < 1e-4\n",
    "\n",
    "NEWSCALING_MATRIX = (np.ones_like(theta0) * new_eival).T + np.ones_like(theta0) * new_eival + 2 * np.ones_like(theta0) * GAMMA\n",
    "\n",
    "(new_eivec.T @ (newB + newB.T) @ new_eivec) / NEWSCALING_MATRIX + new_eivec.T @ quadratic_proximal1(theta0) @ new_eivec \n",
    "\n",
    "# assert np.allclose(newA @ quadratic_proximal1(theta0) +  (newB + newB.T) + quadratic_proximal1(theta0) @ newA, 0.)\n",
    "\n",
    "assert np.allclose(\n",
    "    quadratic_proximal(theta0),\n",
    "    -new_eivec @ ((new_eivec.T @ (newB + newB.T) @ new_eivec) / NEWSCALING_MATRIX) @ new_eivec.T\n",
    ")\n"
   ]
  },
  {
   "cell_type": "code",
   "execution_count": 608,
   "id": "0ab2dd21-ee96-4408-89c7-156e89a222c2",
   "metadata": {},
   "outputs": [
    {
     "data": {
      "text/plain": [
       "<matplotlib.colorbar.Colorbar at 0x7f9fda8121b0>"
      ]
     },
     "execution_count": 608,
     "metadata": {},
     "output_type": "execute_result"
    },
    {
     "data": {
      "image/png": "[encoded data removed]",
      "text/plain": [
       "<Figure size 640x480 with 2 Axes>"
      ]
     },
     "metadata": {},
     "output_type": "display_data"
    }
   ],
   "source": [
    "plt.imshow(GAMMA *quadratic_proximal1(theta0) + newC @ quadratic_proximal1(theta0) +  (newB + newB.T) + quadratic_proximal1(theta0) @ newC)\n",
    "plt.colorbar()"
   ]
  },
  {
   "cell_type": "code",
   "execution_count": 609,
   "id": "8f5a0ea5-af22-4fac-897f-ffe3165b335e",
   "metadata": {},
   "outputs": [
    {
     "ename": "AssertionError",
     "evalue": "",
     "output_type": "error",
     "traceback": [
      "\u001b[0;31m---------------------------------------------------------------------------\u001b[0m",
      "\u001b[0;31mAssertionError\u001b[0m                            Traceback (most recent call last)",
      "Cell \u001b[0;32mIn[609], line 1\u001b[0m\n\u001b[0;32m----> 1\u001b[0m \u001b[38;5;28;01massert\u001b[39;00m np\u001b[38;5;241m.\u001b[39mallclose(\n\u001b[1;32m      2\u001b[0m     quadratic_proximal(np\u001b[38;5;241m.\u001b[39mzeros((\u001b[38;5;241m2\u001b[39m\u001b[38;5;241m*\u001b[39mmem, \u001b[38;5;241m2\u001b[39m\u001b[38;5;241m*\u001b[39mmem))),\n\u001b[1;32m      3\u001b[0m     quadratic_proximal1(np\u001b[38;5;241m.\u001b[39mzeros((\u001b[38;5;241m2\u001b[39m\u001b[38;5;241m*\u001b[39mmem, \u001b[38;5;241m2\u001b[39m\u001b[38;5;241m*\u001b[39mmem))))\n",
      "\u001b[0;31mAssertionError\u001b[0m: "
     ]
    }
   ],
   "source": [
    "assert np.allclose(\n",
    "    quadratic_proximal(np.zeros((2*mem, 2*mem))),\n",
    "    quadratic_proximal1(np.zeros((2*mem, 2*mem))))"
   ]
  },
  {
   "cell_type": "code",
   "execution_count": 613,
   "id": "bbb6ceca-53d6-4a04-ad20-5aa03ad2d7ae",
   "metadata": {},
   "outputs": [
    {
     "name": "stdout",
     "output_type": "stream",
     "text": [
      "EIVALS [0. 0. 0. 0. 0. 0. 0. 0. 0. 0.]\n",
      "1014.3491397873245\n",
      "EIVALS [-1.88159853 -1.70763315 -1.57836052 -1.53129927 -1.46437497  0.4602253\n",
      "  0.47814809  0.59114143  0.67907803  0.69530265]\n",
      "150.21512903896186\n",
      "EIVALS [-2.65669195 -2.32374678 -2.07620553 -1.99725079 -1.87144092  0.64295508\n",
      "  0.67757608  0.86678492  0.93264123  1.03721305]\n",
      "130.39320462431658\n",
      "EIVALS [-3.3474027  -2.86337114 -2.51093226 -2.4003071  -2.222383    0.85636703\n",
      "  0.91494402  1.1632526   1.23190264  1.42253996]\n",
      "112.66632900690425\n",
      "EIVALS [-3.97718    -3.34560056 -2.90007539 -2.75231569 -2.52520887  1.08035006\n",
      "  1.16392825  1.44990746  1.5491638   1.81160779]\n",
      "97.83664336863474\n",
      "EIVALS [-4.56283181 -3.78513906 -3.25520895 -3.06559965 -2.78845114  1.30398922\n",
      "  1.41211556  1.72326384  1.86409523  2.1898503 ]\n",
      "85.6669808809146\n",
      "EIVALS [-5.11548096 -4.19215694 -3.58389918 -3.34957795 -3.01933047  1.5221496\n",
      "  1.6539683   1.98312821  2.16852583  2.5525484 ]\n",
      "75.7542939517351\n",
      "EIVALS [-5.64251827 -4.5736281  -3.89138482 -3.61079547 -3.22356988  1.73268863\n",
      "  1.88728779  2.22981151  2.46022843  2.89888078]\n",
      "67.70324989507989\n",
      "EIVALS [-6.14901572 -4.93445225 -4.18145103 -3.85377447 -3.40563452  1.93493541\n",
      "  2.11146516  2.46409359  2.73912715  3.22954306]\n",
      "61.158707356373185\n",
      "EIVALS [-6.63859267 -5.27818743 -4.4569208  -4.08172639 -3.56901604  2.12892303\n",
      "  2.32663059  2.68696512  3.00592863  3.545766  ]\n",
      "55.81655734475177\n",
      "EIVALS [-7.11392936 -5.6075019  -4.71995668 -4.29701396 -3.71646973  2.31500588\n",
      "  2.53323856  2.8994554   3.26159271  3.84890153]\n"
     ]
    }
   ],
   "source": [
    "theta = np.zeros((2*mem,2*mem))\n",
    "\n",
    "for i in range(10):\n",
    "    pi1 = PSD_PROJECT(theta)\n",
    "\n",
    "    ## evaluate quality\n",
    "    H = np.eye(N) + u @ pi1 @ u.T\n",
    "    print(np.linalg.norm(H @ Y - S)**2)\n",
    "    \n",
    "    pi2 = quadratic_proximal(2 * pi1 - theta)\n",
    "    theta += pi2 - pi1 \n",
    "    # if np.linalg.eigh(theta)[0][-1] > 8:\n",
    "    #     print('iter', i)\n",
    "    #     break\n",
    "    # print(np.linalg.eigh(theta)[0][-1])\n",
    "\n",
    "result = PSD_PROJECT(theta)\n"
   ]
  },
  {
   "cell_type": "code",
   "execution_count": 520,
   "id": "cdc28e42-daeb-47d6-8698-16c8fa68f9cb",
   "metadata": {},
   "outputs": [
    {
     "data": {
      "text/plain": [
       "array([[ 1.01390518e+00, -9.80549485e-01,  8.10907236e-01,\n",
       "        -1.75159878e-01, -8.28075756e-01,  3.24913170e-01,\n",
       "         3.98401372e-01, -3.14250491e-01,  9.60413584e-01,\n",
       "        -4.76709840e-01],\n",
       "       [-9.80549485e-01,  7.34848778e-01, -8.12691122e-01,\n",
       "        -1.07126988e+00,  6.67641810e-01,  2.19870541e-01,\n",
       "         3.99625263e-01, -4.15268918e-01,  6.64471296e-01,\n",
       "        -5.27055709e-01],\n",
       "       [ 8.10907236e-01, -8.12691122e-01, -2.40836330e-01,\n",
       "        -2.22119630e-02, -4.86677037e-01,  5.37557517e-04,\n",
       "         1.21592621e-01, -6.20789992e-01, -1.56988046e-01,\n",
       "         6.95501288e-01],\n",
       "       [-1.75159878e-01, -1.07126988e+00, -2.22119630e-02,\n",
       "         1.05904783e+00,  3.16109696e-01,  1.34909164e-01,\n",
       "        -6.84564165e-02,  1.77665918e+00, -4.91478996e-01,\n",
       "         7.36043525e-01],\n",
       "       [-8.28075756e-01,  6.67641810e-01, -4.86677037e-01,\n",
       "         3.16109696e-01, -2.58867807e-01,  4.29365626e-01,\n",
       "         7.41424375e-02,  4.04888973e-01,  3.27277397e-01,\n",
       "         5.23093613e-01],\n",
       "       [ 3.24913170e-01,  2.19870541e-01,  5.37557517e-04,\n",
       "         1.34909164e-01,  4.29365626e-01, -1.38007753e-02,\n",
       "        -1.52242023e-01, -2.55320637e-02,  1.28930287e+00,\n",
       "         6.74979810e-01],\n",
       "       [ 3.98401372e-01,  3.99625263e-01,  1.21592621e-01,\n",
       "        -6.84564165e-02,  7.41424375e-02, -1.52242023e-01,\n",
       "         2.71339193e+00,  3.03156190e-01,  1.03379749e-01,\n",
       "        -2.14073742e-01],\n",
       "       [-3.14250491e-01, -4.15268918e-01, -6.20789992e-01,\n",
       "         1.77665918e+00,  4.04888973e-01, -2.55320637e-02,\n",
       "         3.03156190e-01,  1.32212273e+00, -1.47113910e-01,\n",
       "        -7.04795746e-01],\n",
       "       [ 9.60413584e-01,  6.64471296e-01, -1.56988046e-01,\n",
       "        -4.91478996e-01,  3.27277397e-01,  1.28930287e+00,\n",
       "         1.03379749e-01, -1.47113910e-01,  1.34384941e+00,\n",
       "        -3.35657769e-01],\n",
       "       [-4.76709840e-01, -5.27055709e-01,  6.95501288e-01,\n",
       "         7.36043525e-01,  5.23093613e-01,  6.74979810e-01,\n",
       "        -2.14073742e-01, -7.04795746e-01, -3.35657769e-01,\n",
       "         2.18453314e+00]])"
      ]
     },
     "execution_count": 520,
     "metadata": {},
     "output_type": "execute_result"
    }
   ],
   "source": [
    "# result"
   ]
  },
  {
   "cell_type": "code",
   "execution_count": 483,
   "id": "e78c3f38-bb57-4af6-9d2e-0bc934c78eb3",
   "metadata": {},
   "outputs": [
    {
     "data": {
      "text/plain": [
       "array([11.6810677 , 11.31221525, 10.68110585, 10.51361038, 10.05537111,\n",
       "        9.55365885,  9.32427011,  8.99286775,  8.29657204,  7.63003063])"
      ]
     },
     "execution_count": 483,
     "metadata": {},
     "output_type": "execute_result"
    }
   ],
   "source": [
    "reconstructed_Sigma = v.T @ np.diag(1./s) @ result @ np.diag(1./s) @ v\n",
    "newstructured_H = H0 + stacked_mat @ reconstructed_Sigma @ stacked_mat.T\n",
    "newstructured_H1 = H0 + u  @ result @ u.T\n",
    "assert np.allclose(newstructured_H, newstructured_H1)\n",
    "s"
   ]
  },
  {
   "cell_type": "code",
   "execution_count": 484,
   "id": "9778252b-33c3-482e-aff5-a882c80aa078",
   "metadata": {},
   "outputs": [
    {
     "data": {
      "text/plain": [
       "<matplotlib.colorbar.Colorbar at 0x7f9fdbf33d10>"
      ]
     },
     "execution_count": 484,
     "metadata": {},
     "output_type": "execute_result"
    },
    {
     "data": {
      "image/png": "[encoded data removed]",
      "text/plain": [
       "<Figure size 640x480 with 2 Axes>"
      ]
     },
     "metadata": {},
     "output_type": "display_data"
    }
   ],
   "source": [
    "plt.imshow(newstructured_H1)\n",
    "plt.colorbar()"
   ]
  },
  {
   "cell_type": "code",
   "execution_count": 485,
   "id": "cb508312-ca9e-4474-a328-91f41ab29241",
   "metadata": {},
   "outputs": [
    {
     "data": {
      "text/plain": [
       "[<matplotlib.lines.Line2D at 0x7f9fdbe12420>]"
      ]
     },
     "execution_count": 485,
     "metadata": {},
     "output_type": "execute_result"
    },
    {
     "data": {
      "image/png": "[encoded data removed]",
      "text/plain": [
       "<Figure size 640x480 with 1 Axes>"
      ]
     },
     "metadata": {},
     "output_type": "display_data"
    }
   ],
   "source": [
    "plt.plot(np.linalg.eigh(result)[0])\n",
    "plt.plot(np.linalg.eigh(Theta.value)[0])\n"
   ]
  },
  {
   "cell_type": "code",
   "execution_count": 490,
   "id": "e736f01a-4e4b-4b83-a1a8-7e75740a7fd5",
   "metadata": {},
   "outputs": [
    {
     "data": {
      "text/plain": [
       "array([373.84774109, 362.04277071, 341.84437535, 336.48375227,\n",
       "       321.81799391, 305.76090051, 298.41940888, 287.81301337,\n",
       "       265.52835692, 244.19597476])"
      ]
     },
     "execution_count": 490,
     "metadata": {},
     "output_type": "execute_result"
    }
   ],
   "source": [
    "s*S_MULTIPLIER"
   ]
  },
  {
   "cell_type": "code",
   "execution_count": 487,
   "id": "be854a31-43ad-4a27-830f-26caa2421f9b",
   "metadata": {},
   "outputs": [
    {
     "data": {
      "text/plain": [
       "<matplotlib.colorbar.Colorbar at 0x7f9fdbe8bb30>"
      ]
     },
     "execution_count": 487,
     "metadata": {},
     "output_type": "execute_result"
    },
    {
     "data": {
      "image/png": "[encoded data removed]",
      "text/plain": [
       "<Figure size 640x480 with 2 Axes>"
      ]
     },
     "metadata": {},
     "output_type": "display_data"
    }
   ],
   "source": [
    "plt.imshow((result-Theta.value))\n",
    "plt.colorbar()"
   ]
  },
  {
   "cell_type": "code",
   "execution_count": 488,
   "id": "30239f35-cd65-4bd5-a690-8f4f85f98644",
   "metadata": {},
   "outputs": [
    {
     "data": {
      "text/plain": [
       "<matplotlib.colorbar.Colorbar at 0x7f9fdbefbb30>"
      ]
     },
     "execution_count": 488,
     "metadata": {},
     "output_type": "execute_result"
    },
    {
     "data": {
      "image/png": "[encoded data removed]",
      "text/plain": [
       "<Figure size 640x480 with 2 Axes>"
      ]
     },
     "metadata": {},
     "output_type": "display_data"
    }
   ],
   "source": [
    "plt.imshow(result)\n",
    "plt.colorbar()"
   ]
  },
  {
   "cell_type": "code",
   "execution_count": 489,
   "id": "562c89c1-0cf5-4b30-963d-e7f253707ac8",
   "metadata": {},
   "outputs": [
    {
     "data": {
      "text/plain": [
       "<matplotlib.colorbar.Colorbar at 0x7f9fdbdebb30>"
      ]
     },
     "execution_count": 489,
     "metadata": {},
     "output_type": "execute_result"
    },
    {
     "data": {
      "image/png": "[encoded data removed]",
      "text/plain": [
       "<Figure size 640x480 with 2 Axes>"
      ]
     },
     "metadata": {},
     "output_type": "display_data"
    }
   ],
   "source": [
    "plt.imshow(Theta.value)\n",
    "plt.colorbar()"
   ]
  },
  {
   "cell_type": "code",
   "execution_count": 450,
   "id": "399914a8-6582-4b6d-b4dd-786ecbd578a6",
   "metadata": {},
   "outputs": [
    {
     "data": {
      "text/plain": [
       "[<matplotlib.lines.Line2D at 0x7f9fe0bd8080>]"
      ]
     },
     "execution_count": 450,
     "metadata": {},
     "output_type": "execute_result"
    },
    {
     "data": {
      "image/png": "[encoded data removed]",
      "text/plain": [
       "<Figure size 640x480 with 1 Axes>"
      ]
     },
     "metadata": {},
     "output_type": "display_data"
    }
   ],
   "source": [
    "plt.plot(np.diag(result))\n",
    "plt.plot(np.diag(Theta.value))"
   ]
  },
  {
   "cell_type": "markdown",
   "id": "cc18a1b7-1cf1-4cd1-8022-adb5c0cb2bf8",
   "metadata": {},
   "source": [
    "# Check with KKT system of only symmetric"
   ]
  },
  {
   "cell_type": "code",
   "execution_count": 390,
   "id": "834fdd38-7374-48be-881a-821d18085ff7",
   "metadata": {},
   "outputs": [
    {
     "data": {
      "text/plain": [
       "<matplotlib.colorbar.Colorbar at 0x7f9fe1d06870>"
      ]
     },
     "execution_count": 390,
     "metadata": {},
     "output_type": "execute_result"
    },
    {
     "data": {
      "image/png": "[encoded data removed]",
      "text/plain": [
       "<Figure size 640x480 with 2 Axes>"
      ]
     },
     "metadata": {},
     "output_type": "display_data"
    }
   ],
   "source": [
    "# this was zero with symm\n",
    "Dual = 2*Theta.value  + C @ Theta.value +  (B + B.T) + Theta.value @ C\n",
    "plt.imshow(Dual)\n",
    "plt.colorbar()\n"
   ]
  },
  {
   "cell_type": "markdown",
   "id": "a84f49c7-70e5-470f-82cf-ba4036e5a28d",
   "metadata": {},
   "source": [
    "# Great, that's looks like the KKT change we need "
   ]
  },
  {
   "cell_type": "code",
   "execution_count": 234,
   "id": "d5b68b0d-8cb6-45cc-bce7-90649fee4e34",
   "metadata": {},
   "outputs": [
    {
     "data": {
      "text/plain": [
       "[<matplotlib.lines.Line2D at 0x7f9fe57fc950>]"
      ]
     },
     "execution_count": 234,
     "metadata": {},
     "output_type": "execute_result"
    },
    {
     "data": {
      "image/png": "[encoded data removed]",
      "text/plain": [
       "<Figure size 640x480 with 1 Axes>"
      ]
     },
     "metadata": {},
     "output_type": "display_data"
    }
   ],
   "source": [
    "plt.plot(np.linalg.eigh(Dual)[0])\n",
    "# plt.plot(np.linalg.eigh(ONLY_SYMMETRIC_THETA)[0])"
   ]
  },
  {
   "cell_type": "markdown",
   "id": "a0cb1d3a-fe4f-4a5e-b837-038bf38270d6",
   "metadata": {},
   "source": [
    "# smaller than -1 eigenspace of original rhs"
   ]
  },
  {
   "cell_type": "code",
   "execution_count": 235,
   "id": "a043b8b6-73b4-4675-a6db-1862db7d0abc",
   "metadata": {},
   "outputs": [],
   "source": [
    "# # only symm RSH\n",
    "# old_rhs = (-V.T @ (B + B.T) @ V) / SCALING_MATRIX\n",
    "\n",
    "# eival_d, eivec_d = np.linalg.eigh(old_rhs)\n",
    "# assert np.allclose(eivec_d @ np.diag(eival_d) @ eivec_d.T, old_rhs)\n",
    "# orig_rhs_nullspace_proj = eivec_d @ np.diag((eival_d <= -1) * 1) @ eivec_d.T\n",
    "# eival_d"
   ]
  },
  {
   "cell_type": "code",
   "execution_count": 236,
   "id": "8999c448-2735-44b8-819c-9f1165efe6bf",
   "metadata": {},
   "outputs": [],
   "source": [
    "# plt.plot(np.linalg.eigh(Dual)[0])\n",
    "# plt.plot(np.linalg.eigh(orig_rhs_nullspace_proj @ Dual @ orig_rhs_nullspace_proj)[0])"
   ]
  },
  {
   "cell_type": "code",
   "execution_count": 237,
   "id": "207195b1-fc86-41fd-92bd-112941706850",
   "metadata": {},
   "outputs": [],
   "source": [
    "# plt.plot(np.linalg.eigh(Theta.value)[0])\n",
    "# plt.plot(np.linalg.eigh(orig_rhs_nullspace_proj @ Theta.value @ orig_rhs_nullspace_proj)[0])"
   ]
  },
  {
   "cell_type": "code",
   "execution_count": 238,
   "id": "bbc76ab5-183d-43a1-810f-8a46eae36675",
   "metadata": {},
   "outputs": [],
   "source": [
    "# eival_d, eivec_d = np.linalg.eigh(Dual)\n",
    "# assert np.allclose(eivec_d @ np.diag(eival_d) @ eivec_d.T, Dual)\n",
    "# dual_nullspace_proj = eivec_d @ np.diag((eival_d <= 1e-6) * 1) @ eivec_d.T\n",
    "\n",
    "# # only symm RSH\n",
    "# old_rhs = (-V.T @ (B + B.T) @ V) / SCALING_MATRIX\n",
    "\n",
    "# # plt.imshow(dual_nullspace_proj @ old_rhs @ dual_nullspace_proj)\n",
    "\n",
    "# plt.plot(np.linalg.eigh(dual_nullspace_proj @ old_rhs @ dual_nullspace_proj)[0])"
   ]
  },
  {
   "cell_type": "code",
   "execution_count": 32,
   "id": "d81c0236-7de0-44f2-b315-44477cb37d6a",
   "metadata": {},
   "outputs": [],
   "source": [
    "# plt.plot(np.linalg.eigh(dual_nullspace_proj @ Theta.value @ dual_nullspace_proj)[0])"
   ]
  },
  {
   "cell_type": "markdown",
   "id": "25a79491-2ea5-470c-9ef7-d86ac81fa262",
   "metadata": {},
   "source": [
    "# YES! the condition that I though"
   ]
  },
  {
   "cell_type": "code",
   "execution_count": 491,
   "id": "c648f395-4d0e-4a00-84a7-d9289f9c3e2a",
   "metadata": {},
   "outputs": [],
   "source": [
    "assert np.allclose(Dual @ (Theta.value + np.eye(2*mem)), 0.)"
   ]
  },
  {
   "cell_type": "markdown",
   "id": "a4afc820-1389-4733-9d2b-3abbbc8eba40",
   "metadata": {},
   "source": [
    "# So the KKT conditions are like this"
   ]
  },
  {
   "cell_type": "code",
   "execution_count": 492,
   "id": "5d72a407-7043-44b5-9bdd-84649cf98d04",
   "metadata": {},
   "outputs": [],
   "source": [
    "# 2*Theta.value  + C @ Theta.value +  (B + B.T) + Theta.value @ C = Dual\n",
    "# Dual + Dual @ Theta.value = 0\n",
    "# Dual >> 0"
   ]
  },
  {
   "cell_type": "code",
   "execution_count": 493,
   "id": "f06c1cfe-cd9e-424b-b0fa-4d820d032b28",
   "metadata": {},
   "outputs": [],
   "source": [
    "new_s, V = np.linalg.eigh(C)\n",
    "Lambda = V.T @ Theta.value @ V\n",
    "assert np.allclose(2* Lambda + np.diag(new_s) @ Lambda + Lambda @ np.diag(new_s), V.T @ (Dual) @ V - V.T @ (B + B.T) @ V)\n",
    "assert np.allclose(Dual + Dual @ Theta.value, 0)\n",
    "rotated_dual = V.T @ (Dual) @ V\n",
    "rotated_const = V.T @ (B + B.T) @ V\n",
    "\n",
    "assert np.allclose(2* Lambda + np.diag(new_s) @ Lambda + Lambda @ np.diag(new_s), rotated_dual - rotated_const)\n",
    "assert np.allclose(rotated_dual +rotated_dual @ Lambda, 0)\n",
    "\n",
    "SCALING_MATRIX = (np.ones_like(Lambda) * new_s).T + np.ones_like(Lambda) * new_s + 2 * np.ones_like(Lambda)\n",
    "\n",
    "# Here we are\n",
    "assert np.allclose(SCALING_MATRIX * Lambda, rotated_dual - rotated_const)\n",
    "assert np.allclose(rotated_dual +rotated_dual @ Lambda, 0)\n",
    "assert np.isclose(np.min(np.linalg.eigh(rotated_dual)[0]), 0.)\n"
   ]
  },
  {
   "cell_type": "code",
   "execution_count": 494,
   "id": "6907e4bf-19e3-4f07-b1f8-36b562ce5d2e",
   "metadata": {},
   "outputs": [],
   "source": [
    "myeival, myeivec =np.linalg.eigh(rotated_const/SCALING_MATRIX)"
   ]
  },
  {
   "cell_type": "code",
   "execution_count": 495,
   "id": "92881c86-b2de-4d67-ab95-5c49422fd0fd",
   "metadata": {},
   "outputs": [
    {
     "data": {
      "text/plain": [
       "<matplotlib.colorbar.Colorbar at 0x7f9fdbc16a50>"
      ]
     },
     "execution_count": 495,
     "metadata": {},
     "output_type": "execute_result"
    },
    {
     "data": {
      "image/png": "[encoded data removed]",
      "text/plain": [
       "<Figure size 640x480 with 2 Axes>"
      ]
     },
     "metadata": {},
     "output_type": "display_data"
    }
   ],
   "source": [
    "plt.imshow(myeivec.T @ Lambda @ myeivec)\n",
    "plt.colorbar()"
   ]
  },
  {
   "cell_type": "code",
   "execution_count": 496,
   "id": "0859890b-7504-40c3-b48c-187a4d278cb3",
   "metadata": {},
   "outputs": [
    {
     "data": {
      "text/plain": [
       "[<matplotlib.lines.Line2D at 0x7f9fdbb7cb90>]"
      ]
     },
     "execution_count": 496,
     "metadata": {},
     "output_type": "execute_result"
    },
    {
     "data": {
      "image/png": "[encoded data removed]",
      "text/plain": [
       "<Figure size 640x480 with 1 Axes>"
      ]
     },
     "metadata": {},
     "output_type": "display_data"
    }
   ],
   "source": [
    "plt.plot(np.linalg.eigh(rotated_dual/SCALING_MATRIX)[0])\n",
    "plt.plot(np.linalg.eigh(-rotated_const/SCALING_MATRIX)[0])\n",
    "# plt.plot(np.linalg.eigh(SCALING_MATRIX * Lambda)[0])\n",
    "plt.plot(np.linalg.eigh(Lambda)[0])\n"
   ]
  },
  {
   "cell_type": "markdown",
   "id": "461d0066-1566-4b7b-8d51-cb9ffd313877",
   "metadata": {},
   "source": [
    "## Solve these!"
   ]
  },
  {
   "cell_type": "code",
   "execution_count": 497,
   "id": "85b2b42c-09e7-440a-a4ed-4a84df9676f0",
   "metadata": {},
   "outputs": [],
   "source": [
    "# Here we are\n",
    "# assert np.allclose(np.sqrt(SCALING_MATRIX) * Lambda * np.sqrt(SCALING_MATRIX) - rotated_dual, - rotated_const)\n",
    "assert np.allclose(2* Lambda + np.diag(new_s) @ Lambda + Lambda @ np.diag(new_s), rotated_dual - rotated_const)\n",
    "assert np.allclose(2 * rotated_dual + rotated_dual @ Lambda + Lambda @ rotated_dual, 0)\n",
    "assert np.min(np.linalg.eigh(rotated_dual)[0]) >= -1e-6\n",
    "assert np.min(np.linalg.eigh(Lambda)[0]) >= -1 -1e-6\n"
   ]
  },
  {
   "cell_type": "markdown",
   "id": "1a9cd50a-d70f-4ffc-b4c9-60a8c9a19976",
   "metadata": {},
   "source": [
    "# If I use this I only need first equation above"
   ]
  },
  {
   "cell_type": "code",
   "execution_count": 498,
   "id": "14543b4f-6e93-4698-912f-53c04c5fa081",
   "metadata": {},
   "outputs": [],
   "source": [
    "def spd_proj(sym_mat):\n",
    "    eival, eivec = np.linalg.eigh(sym_mat)\n",
    "    return eivec @ np.diag(np.maximum(eival, 0.)) @ eivec.T\n",
    "\n",
    "pridual = Lambda + np.eye(2*mem) - rotated_dual\n",
    "\n",
    "assert(np.allclose(spd_proj(pridual) -  np.eye(2*mem),  Lambda))\n",
    "assert(np.allclose(spd_proj(pridual) - pridual,  rotated_dual))"
   ]
  },
  {
   "cell_type": "markdown",
   "id": "eed681f5-4c41-4b63-8e73-b5189ce8c263",
   "metadata": {},
   "source": [
    "### Let's try to rewrite it?"
   ]
  },
  {
   "cell_type": "code",
   "execution_count": 499,
   "id": "24910996-a04e-489f-a04f-b2d5d239a772",
   "metadata": {},
   "outputs": [],
   "source": [
    "assert np.allclose(\n",
    "    2 * (spd_proj(pridual) -  np.eye(2*mem)) \n",
    "    + np.diag(new_s) @ (spd_proj(pridual) -  np.eye(2*mem)) \n",
    "    + (spd_proj(pridual) -  np.eye(2*mem)) @ np.diag(new_s),\n",
    "    spd_proj(pridual) - pridual - rotated_const)\n"
   ]
  },
  {
   "cell_type": "code",
   "execution_count": 500,
   "id": "6d9a1e7e-6592-4a4d-a771-90af4c0d8824",
   "metadata": {},
   "outputs": [],
   "source": [
    "assert np.allclose(\n",
    "    + pridual\n",
    "    + spd_proj(pridual)\n",
    "    + np.diag(new_s) @ spd_proj(pridual) \n",
    "    + spd_proj(pridual) @ np.diag(new_s),\n",
    "    \n",
    "    2 * np.eye(2*mem)  - rotated_const + 2 * np.diag(new_s) )\n"
   ]
  },
  {
   "cell_type": "markdown",
   "id": "e6b14f7c-f56d-467b-8c3b-ac26bda5f59c",
   "metadata": {},
   "source": [
    "## This seems the shortest I can make it..."
   ]
  },
  {
   "cell_type": "code",
   "execution_count": 501,
   "id": "9459ec11-e3b4-4891-a6dc-1f77f6de936e",
   "metadata": {},
   "outputs": [],
   "source": [
    "NEW_SCALING_MATRIX = (\n",
    "    np.ones_like(Lambda) * new_s).T + np.ones_like(Lambda) * new_s + np.ones_like(Lambda)\n",
    "\n",
    "assert np.allclose(\n",
    "    + pridual\n",
    "    + spd_proj(pridual) * NEW_SCALING_MATRIX,\n",
    "    2 * np.eye(2*mem)  - rotated_const + 2 * np.diag(new_s) )\n",
    "\n"
   ]
  },
  {
   "cell_type": "code",
   "execution_count": 502,
   "id": "7c6285d4-371c-442e-b03b-09da9b694a21",
   "metadata": {},
   "outputs": [],
   "source": [
    "RHS = 2 * np.eye(2*mem)  - rotated_const + 2 * np.diag(new_s)\n",
    "\n",
    "assert np.allclose(pridual + spd_proj(pridual) * NEW_SCALING_MATRIX, RHS)"
   ]
  },
  {
   "cell_type": "markdown",
   "id": "0b7fc766-51e4-4351-a613-5b04b62eed48",
   "metadata": {},
   "source": [
    "## Iterative process?"
   ]
  },
  {
   "cell_type": "code",
   "execution_count": 503,
   "id": "e973b920-8775-4edb-80fe-4cd361946a1d",
   "metadata": {},
   "outputs": [
    {
     "name": "stdout",
     "output_type": "stream",
     "text": [
      "96203.74824086012\n",
      "45566.93328350381\n"
     ]
    },
    {
     "data": {
      "text/plain": [
       "[<matplotlib.lines.Line2D at 0x7f9fdbbc28a0>]"
      ]
     },
     "execution_count": 503,
     "metadata": {},
     "output_type": "execute_result"
    },
    {
     "data": {
      "image/png": "[encoded data removed]",
      "text/plain": [
       "<Figure size 640x480 with 1 Axes>"
      ]
     },
     "metadata": {},
     "output_type": "display_data"
    }
   ],
   "source": [
    "init_sol = RHS / (NEW_SCALING_MATRIX+1.) # important, +1\n",
    "\n",
    "print(np.linalg.norm(RHS)**2)\n",
    "err = init_sol + spd_proj(init_sol) * NEW_SCALING_MATRIX - RHS\n",
    "print(np.linalg.norm(err)**2)\n",
    "\n",
    "plt.plot(np.linalg.eigh(err)[0])\n",
    "plt.plot(np.linalg.eigh(init_sol)[0])"
   ]
  },
  {
   "cell_type": "markdown",
   "id": "59c03233-21dd-45d0-b0f2-0d26ac54d6c1",
   "metadata": {},
   "source": [
    "# At this point; best solution is DR splitting on original program; one PSD proj per iteration :)"
   ]
  },
  {
   "cell_type": "code",
   "execution_count": 504,
   "id": "405e8d02-eadb-43c7-bbd2-bb21c1766113",
   "metadata": {},
   "outputs": [],
   "source": [
    "zio = np.random.randn(20,20)\n",
    "zia = zio.T @ zio"
   ]
  },
  {
   "cell_type": "code",
   "execution_count": 505,
   "id": "454224e0-7b77-4bd5-bb08-952172330b52",
   "metadata": {},
   "outputs": [
    {
     "name": "stdout",
     "output_type": "stream",
     "text": [
      "20.1 μs ± 391 ns per loop (mean ± std. dev. of 7 runs, 10,000 loops each)\n"
     ]
    }
   ],
   "source": [
    "%timeit np.linalg.eigh(zia)"
   ]
  },
  {
   "cell_type": "code",
   "execution_count": 506,
   "id": "e442a3ae-ba3a-4603-92f7-263fc9296eea",
   "metadata": {},
   "outputs": [
    {
     "name": "stdout",
     "output_type": "stream",
     "text": [
      "906 ns ± 11 ns per loop (mean ± std. dev. of 7 runs, 1,000,000 loops each)\n"
     ]
    }
   ],
   "source": [
    "%timeit zio @ zio"
   ]
  },
  {
   "cell_type": "code",
   "execution_count": 507,
   "id": "b5267b55-7014-49c5-b2b9-fd0a5628e727",
   "metadata": {},
   "outputs": [
    {
     "name": "stdout",
     "output_type": "stream",
     "text": [
      "252 ns ± 1.9 ns per loop (mean ± std. dev. of 7 runs, 1,000,000 loops each)\n"
     ]
    }
   ],
   "source": [
    "%timeit zio * zio"
   ]
  },
  {
   "cell_type": "markdown",
   "id": "c37b937b-bbd8-4be3-bf96-747182760193",
   "metadata": {},
   "source": [
    "# PSD proj dominates; on fast processor we are at ~20mus per iter; if we do 5 it's 1ms per iteration; probably too slow"
   ]
  },
  {
   "cell_type": "markdown",
   "id": "b746c01e-b78c-45d0-8430-01a4626a5d3e",
   "metadata": {},
   "source": [
    "# If this analysis is correct; only few steps of 2019 refinement/gradient descent necessary to get decent solution; b/c pos/neg eigenspaces of init_sol almost coincide w/ pos/neg eigenspaces of real sol"
   ]
  },
  {
   "cell_type": "code",
   "execution_count": 508,
   "id": "82483a7c-d8c9-44dc-9ca6-edde143a54ab",
   "metadata": {},
   "outputs": [
    {
     "data": {
      "text/plain": [
       "[<matplotlib.lines.Line2D at 0x7f9fdba398e0>]"
      ]
     },
     "execution_count": 508,
     "metadata": {},
     "output_type": "execute_result"
    },
    {
     "data": {
      "image/png": "[encoded data removed]",
      "text/plain": [
       "<Figure size 640x480 with 1 Axes>"
      ]
     },
     "metadata": {},
     "output_type": "display_data"
    }
   ],
   "source": [
    "eival_init, eivec_init = np.linalg.eigh(init_sol)\n",
    "assert np.allclose(eivec_init @ np.diag(eival_init) @ eivec_init.T, init_sol)\n",
    "init_sol_negspace_proj = eivec_init @ np.diag((eival_init <= 1e-6) * 1) @ eivec_init.T\n",
    "\n",
    "plt.plot(np.linalg.eigh(pridual)[0])\n",
    "plt.plot(np.linalg.eigh(init_sol_negspace_proj @ pridual @ init_sol_negspace_proj)[0])"
   ]
  },
  {
   "cell_type": "code",
   "execution_count": 509,
   "id": "eed70edc-bd8f-4102-b793-619625cd9ea1",
   "metadata": {},
   "outputs": [
    {
     "data": {
      "text/plain": [
       "[<matplotlib.lines.Line2D at 0x7f9fdba7fcb0>]"
      ]
     },
     "execution_count": 509,
     "metadata": {},
     "output_type": "execute_result"
    },
    {
     "data": {
      "image/png": "[encoded data removed]",
      "text/plain": [
       "<Figure size 640x480 with 1 Axes>"
      ]
     },
     "metadata": {},
     "output_type": "display_data"
    }
   ],
   "source": [
    "init_sol_posspace_proj = eivec_init @ np.diag((eival_init >= -1e-6) * 1) @ eivec_init.T\n",
    "\n",
    "plt.plot(np.linalg.eigh(pridual)[0])\n",
    "plt.plot(np.linalg.eigh(init_sol_posspace_proj @ pridual @ init_sol_posspace_proj)[0])"
   ]
  },
  {
   "cell_type": "markdown",
   "id": "67435272-3379-4bf4-8c2d-bb54e9e99abf",
   "metadata": {},
   "source": [
    "## Opposite, check eigenstructure of init sol on real sol's; this one is exact, same eigenspaces! But of course we don't know it"
   ]
  },
  {
   "cell_type": "code",
   "execution_count": 510,
   "id": "382bd29e-94ec-4e8b-a8a9-ca865ce261a2",
   "metadata": {},
   "outputs": [
    {
     "data": {
      "text/plain": [
       "[<matplotlib.lines.Line2D at 0x7f9fdbaf9cd0>]"
      ]
     },
     "execution_count": 510,
     "metadata": {},
     "output_type": "execute_result"
    },
    {
     "data": {
      "image/png": "[encoded data removed]",
      "text/plain": [
       "<Figure size 640x480 with 1 Axes>"
      ]
     },
     "metadata": {},
     "output_type": "display_data"
    }
   ],
   "source": [
    "eival_pridual, eivec_pridual = np.linalg.eigh(pridual)\n",
    "assert np.allclose(eivec_pridual @ np.diag(eival_pridual) @ eivec_pridual.T, pridual)\n",
    "pridual_negspace_proj = eivec_pridual @ np.diag((eival_pridual <= -1+1e-4) * 1) @ eivec_pridual.T\n",
    "\n",
    "plt.plot(np.linalg.eigh(init_sol)[0])\n",
    "plt.plot(np.linalg.eigh(pridual_negspace_proj @ init_sol @ pridual_negspace_proj)[0])"
   ]
  },
  {
   "cell_type": "code",
   "execution_count": 511,
   "id": "1e8193f8-a774-4059-8b69-e4623da39682",
   "metadata": {},
   "outputs": [
    {
     "data": {
      "text/plain": [
       "[<matplotlib.lines.Line2D at 0x7f9fdb933f80>]"
      ]
     },
     "execution_count": 511,
     "metadata": {},
     "output_type": "execute_result"
    },
    {
     "data": {
      "image/png": "[encoded data removed]",
      "text/plain": [
       "<Figure size 640x480 with 1 Axes>"
      ]
     },
     "metadata": {},
     "output_type": "display_data"
    }
   ],
   "source": [
    "eival_pridual, eivec_pridual = np.linalg.eigh(pridual)\n",
    "assert np.allclose(eivec_pridual @ np.diag(eival_pridual) @ eivec_pridual.T, pridual)\n",
    "pridual_posspace_proj = eivec_pridual @ np.diag((eival_pridual >= -1-1e-4) * 1) @ eivec_pridual.T\n",
    "\n",
    "plt.plot(np.linalg.eigh(init_sol)[0])\n",
    "plt.plot(np.linalg.eigh(pridual_posspace_proj @ init_sol @ pridual_posspace_proj)[0])"
   ]
  },
  {
   "cell_type": "markdown",
   "id": "e236d2f9-c1ea-430d-bf88-6c5ef1c86b8f",
   "metadata": {},
   "source": [
    "# Easier; we can use the eigendec of the \"init sol\" and simply optimize on the eigenvals; maybe it's enough of an approx solution"
   ]
  },
  {
   "cell_type": "code",
   "execution_count": 512,
   "id": "d5bbb4bd-168a-470a-b066-37058670992f",
   "metadata": {},
   "outputs": [
    {
     "name": "stdout",
     "output_type": "stream",
     "text": [
      "96203.74824086014\n",
      "45566.933283503815\n",
      "3367.616070691954\n"
     ]
    }
   ],
   "source": [
    "assert np.allclose(pridual + spd_proj(pridual) * NEW_SCALING_MATRIX, RHS)\n",
    "init_sol = RHS / (NEW_SCALING_MATRIX+1.) # important, +1\n",
    "\n",
    "eival_init, eivec_init = np.linalg.eigh(init_sol)\n",
    "assert np.allclose(eivec_init @ np.diag(eival_init) @ eivec_init.T, init_sol)\n",
    "\n",
    "num_neg_eivals = sum(eival_init<0)\n",
    "variable_eigenvals = cp.Variable(2*mem)\n",
    "\n",
    "my_pridual = eivec_init @ cp.diag(variable_eigenvals) @ eivec_init.T\n",
    "my_sol = (\n",
    "    my_pridual\n",
    "    + cp.multiply(eivec_init[:, num_neg_eivals:] @ cp.diag(variable_eigenvals[num_neg_eivals:]) @ eivec_init[:, num_neg_eivals:].T, NEW_SCALING_MATRIX))\n",
    "\n",
    "obj = cp.Minimize(cp.sum_squares(my_sol - RHS))\n",
    "\n",
    "variable_eigenvals.value = np.zeros(2*mem)\n",
    "print(obj.value)\n",
    "variable_eigenvals.value = eival_init\n",
    "print(obj.value)\n",
    "print(cp.Problem(obj).solve())"
   ]
  },
  {
   "cell_type": "code",
   "execution_count": 513,
   "id": "d57eec82-9b9b-4fc9-bfef-e982e87a3d83",
   "metadata": {},
   "outputs": [
    {
     "data": {
      "text/plain": [
       "[<matplotlib.lines.Line2D at 0x7f9fdb9c48c0>]"
      ]
     },
     "execution_count": 513,
     "metadata": {},
     "output_type": "execute_result"
    },
    {
     "data": {
      "image/png": "[encoded data removed]",
      "text/plain": [
       "<Figure size 640x480 with 1 Axes>"
      ]
     },
     "metadata": {},
     "output_type": "display_data"
    }
   ],
   "source": [
    "assert(np.allclose(spd_proj(pridual) -  np.eye(2*mem),  Lambda))\n",
    "plt.plot(np.linalg.eigh(Lambda)[0])"
   ]
  },
  {
   "cell_type": "code",
   "execution_count": 514,
   "id": "9dd2bdd6-4c58-4335-8135-ec805e5aeed6",
   "metadata": {},
   "outputs": [
    {
     "data": {
      "text/plain": [
       "[<matplotlib.lines.Line2D at 0x7f9fdb8079b0>]"
      ]
     },
     "execution_count": 514,
     "metadata": {},
     "output_type": "execute_result"
    },
    {
     "data": {
      "image/png": "[encoded data removed]",
      "text/plain": [
       "<Figure size 640x480 with 1 Axes>"
      ]
     },
     "metadata": {},
     "output_type": "display_data"
    }
   ],
   "source": [
    "my_lambda = spd_proj(my_pridual.value) -  np.eye(2*mem)\n",
    "plt.plot(np.linalg.eigh(my_lambda)[0])"
   ]
  },
  {
   "cell_type": "code",
   "execution_count": 515,
   "id": "cf1833e8-5b01-47ca-a17f-f573a562c761",
   "metadata": {},
   "outputs": [
    {
     "data": {
      "text/plain": [
       "[<matplotlib.lines.Line2D at 0x7f9fdb87e420>]"
      ]
     },
     "execution_count": 515,
     "metadata": {},
     "output_type": "execute_result"
    },
    {
     "data": {
      "image/png": "[encoded data removed]",
      "text/plain": [
       "<Figure size 640x480 with 1 Axes>"
      ]
     },
     "metadata": {},
     "output_type": "display_data"
    }
   ],
   "source": [
    "variable_eigenvals.value = eival_init\n",
    "init_lambda = spd_proj(my_pridual.value) -  np.eye(2*mem)\n",
    "plt.plot(np.linalg.eigh(init_lambda)[0])"
   ]
  },
  {
   "cell_type": "markdown",
   "id": "7f9ffc0f-0b71-440c-baf8-b86747dc8a10",
   "metadata": {},
   "source": [
    "# No it's very bad; basically worse than projection of init sol"
   ]
  },
  {
   "cell_type": "code",
   "execution_count": 516,
   "id": "4b537634-fef4-4a96-98bf-f60dc39a88d6",
   "metadata": {},
   "outputs": [],
   "source": [
    "# plt.imshow(Lambda)\n",
    "# plt.colorbar()"
   ]
  },
  {
   "cell_type": "code",
   "execution_count": 517,
   "id": "f9756af5-4f0d-4492-ae13-f5e0d9bbea4b",
   "metadata": {},
   "outputs": [],
   "source": [
    "# plt.imshow(my_lambda)\n",
    "# plt.colorbar()"
   ]
  },
  {
   "cell_type": "markdown",
   "id": "8edb6047-164d-4ea9-b2fb-ee8f5c0f2715",
   "metadata": {},
   "source": [
    "# END"
   ]
  },
  {
   "cell_type": "code",
   "execution_count": 51,
   "id": "282a8662-5a65-4fed-8760-e7c060401eed",
   "metadata": {},
   "outputs": [
    {
     "ename": "Exception",
     "evalue": "",
     "output_type": "error",
     "traceback": [
      "\u001b[0;31m---------------------------------------------------------------------------\u001b[0m",
      "\u001b[0;31mException\u001b[0m                                 Traceback (most recent call last)",
      "Cell \u001b[0;32mIn[51], line 1\u001b[0m\n\u001b[0;32m----> 1\u001b[0m \u001b[38;5;28;01mraise\u001b[39;00m \u001b[38;5;167;01mException\u001b[39;00m\n",
      "\u001b[0;31mException\u001b[0m: "
     ]
    }
   ],
   "source": [
    "raise Exception"
   ]
  },
  {
   "cell_type": "raw",
   "id": "b4749030-784f-4fb8-a281-1c24a29e81d8",
   "metadata": {},
   "source": []
  },
  {
   "cell_type": "code",
   "execution_count": null,
   "id": "8407793d-2906-4e13-9d95-4a57fb6394b4",
   "metadata": {},
   "outputs": [],
   "source": [
    "np.linalg.eigh(rotated_dual)[0], np.linalg.eigh(Lambda + np.eye(2*mem))[0]"
   ]
  },
  {
   "cell_type": "markdown",
   "id": "1cbe18a9-6f5e-46ff-bedc-c871caf68673",
   "metadata": {},
   "source": [
    "#### Common diagonalizer of Lambda and rotated dual"
   ]
  },
  {
   "cell_type": "code",
   "execution_count": null,
   "id": "9c879336-ec6f-499d-a699-132fd033f4e5",
   "metadata": {},
   "outputs": [],
   "source": [
    "testV = np.linalg.eigh(rotated_dual + Lambda)[1]\n",
    "\n",
    "dua_diag = np.diag(testV.T @ rotated_dual @ testV )\n",
    "lam_diag = np.diag(testV.T @ Lambda @ testV )\n",
    "\n",
    "rotated_rotated_s = testV.T @ np.diag(new_s) @ testV\n",
    "rotated_rotated_const = testV.T @ rotated_const @ testV\n",
    "\n",
    "# WE GET TO THIS FORM\n",
    "assert np.allclose(2* np.diag(lam_diag) + rotated_rotated_s @ np.diag(lam_diag) + np.diag(lam_diag) @ rotated_rotated_s, np.diag(dua_diag) - rotated_rotated_const)\n",
    "assert np.allclose(dua_diag * (lam_diag + 1), 0.)\n",
    "assert np.isclose(np.min(dua_diag), 0.)\n",
    "\n"
   ]
  },
  {
   "cell_type": "code",
   "execution_count": null,
   "id": "7e2de1a2-1c14-45fa-9151-f7c55e92eceb",
   "metadata": {},
   "outputs": [],
   "source": [
    "plt.plot(np.diag( testV.T @ (rotated_dual + Lambda) @ testV ))\n",
    "plt.plot(np.diag(testV.T @ (rotated_dual) @ testV) -1.)\n",
    "plt.plot(np.diag(testV.T @ (Lambda) @ testV))\n"
   ]
  },
  {
   "cell_type": "code",
   "execution_count": null,
   "id": "64e1d333-362a-4233-8960-68fcd151d828",
   "metadata": {},
   "outputs": [],
   "source": [
    "plt.imshow(rotated_rotated_s)"
   ]
  },
  {
   "cell_type": "code",
   "execution_count": null,
   "id": "93e46301-3868-47a1-bd78-62bd4ef2505c",
   "metadata": {},
   "outputs": [],
   "source": [
    "# testV = np.linalg.eigh(rotated_dual + Lambda)[1]\n",
    "# #plt.imshow(\n",
    "# testV @ (rotated_const/ SCALING_MATRIX) @ testV.T\n",
    "# #)#, testV @ rotated_const @ testV.T"
   ]
  },
  {
   "cell_type": "code",
   "execution_count": null,
   "id": "a5c69a34-efc1-41ac-b558-7a7d76401838",
   "metadata": {},
   "outputs": [],
   "source": [
    "testV = np.linalg.eigh(ro / SCALING_MATRIX)[1]"
   ]
  },
  {
   "cell_type": "code",
   "execution_count": null,
   "id": "a16a4289-568a-452c-bde8-d41d77cd3600",
   "metadata": {},
   "outputs": [],
   "source": [
    "# testV = np.linalg.eigh(rotated_const / SCALING_MATRIX)[1]\n",
    "# testV.T @ rotated_dual @ testV, testV @ rotated_dual @ testV.T"
   ]
  },
  {
   "cell_type": "code",
   "execution_count": null,
   "id": "3afa98ee-18a9-42c7-a4c6-3fb3dd8c6c19",
   "metadata": {},
   "outputs": [],
   "source": [
    "# testV = np.linalg.eigh(rotated_const)[1]\n",
    "# testV.T @ rotated_dual @ testV, testV @ rotated_dual @ testV.T"
   ]
  },
  {
   "cell_type": "markdown",
   "id": "24c1e69f-cbbc-47b4-b0ef-16eeb09b303f",
   "metadata": {},
   "source": [
    "# End"
   ]
  },
  {
   "cell_type": "code",
   "execution_count": null,
   "id": "2ec518bc-ce42-46b4-94da-8947b842f413",
   "metadata": {},
   "outputs": [],
   "source": [
    "raise Exception"
   ]
  },
  {
   "cell_type": "code",
   "execution_count": null,
   "id": "e119da48-c3bf-4009-81d2-854b14e31042",
   "metadata": {},
   "outputs": [],
   "source": [
    "plt.imshow(old_kkt @ (Theta.value + np.eye(2*mem)))\n",
    "plt.colorbar()"
   ]
  },
  {
   "cell_type": "code",
   "execution_count": null,
   "id": "b06df69a-d212-4913-80f1-cdc506619e0b",
   "metadata": {},
   "outputs": [],
   "source": [
    "np.diag(myV.T @ Theta.value @ myV)"
   ]
  },
  {
   "cell_type": "code",
   "execution_count": null,
   "id": "7ab854bc-288b-4509-8ec4-be4fc9ce9a4c",
   "metadata": {},
   "outputs": [],
   "source": [
    "plt.imshow(myV.T @ Theta.value @ myV)\n",
    "plt.colorbar()"
   ]
  },
  {
   "cell_type": "code",
   "execution_count": null,
   "id": "23328eac-a936-487d-a931-49cf97ef5e17",
   "metadata": {},
   "outputs": [],
   "source": [
    "plt.plot(np.linalg.eigh(Theta.value + np.eye(2 * mem))[0])\n"
   ]
  },
  {
   "cell_type": "code",
   "execution_count": null,
   "id": "088ad31f-c0e6-46d5-9237-5587f3765edf",
   "metadata": {},
   "outputs": [],
   "source": [
    "old_kkt @ Theta.value"
   ]
  },
  {
   "cell_type": "markdown",
   "id": "15600b33-4a4f-4e62-8302-ba0b92d6b6d4",
   "metadata": {},
   "source": [
    "### Sadly not trivial projection"
   ]
  },
  {
   "cell_type": "code",
   "execution_count": null,
   "id": "4ca1d872-e9c3-4130-bb0e-29231b88e367",
   "metadata": {},
   "outputs": [],
   "source": [
    "# #plt.imshow(\n",
    "# eivec.T @ Theta.value @ eivec#)\n",
    "# #plt.colorbar()"
   ]
  },
  {
   "cell_type": "code",
   "execution_count": null,
   "id": "43b69763-0dd4-479a-9ed2-ab4f92a45a3e",
   "metadata": {},
   "outputs": [],
   "source": [
    "objective.value , distance_from_h0.value , soft_secant_condition1.value , soft_secant_condition2.value"
   ]
  },
  {
   "cell_type": "markdown",
   "id": "2f6605b8-7a0b-4f8b-97f2-e906d0e4c673",
   "metadata": {},
   "source": [
    "#### Using projected theta gives worse obj value"
   ]
  },
  {
   "cell_type": "code",
   "execution_count": null,
   "id": "a3a84811-5808-46f8-9abf-d85d0344dd56",
   "metadata": {},
   "outputs": [],
   "source": [
    "Theta.value = PROJECTED_THETA\n",
    "objective.value , distance_from_h0.value , soft_secant_condition1.value , soft_secant_condition2.value"
   ]
  },
  {
   "cell_type": "markdown",
   "id": "a4240f92-2bf1-43eb-bfa0-47af0199f997",
   "metadata": {},
   "source": [
    "# Reshape objective"
   ]
  },
  {
   "cell_type": "code",
   "execution_count": null,
   "id": "9e178ac7-79f3-4c24-b79b-71d799d47c62",
   "metadata": {},
   "outputs": [],
   "source": [
    "# Theta = np.diag(s) @ v @ Sigma @ v.T @ np.diag(s)\n",
    "\n",
    "Theta = cp.Variable(\n",
    "    (2*mem, 2*mem), \n",
    "    # symmetric=True\n",
    ")\n",
    "\n",
    "# translating from above\n",
    "distance_from_h0 = cp.sum_squares(np.eye(2*mem) @ Theta @ np.eye(2*mem)) # BUG in CVXPY; without the two np.eye it fails\n",
    "soft_secant_condition1 = cp.sum_squares(Theta @ np.diag(s) @ v[:, :mem])\n",
    "soft_secant_condition2 = 2 * gamma * cp.trace( v[:, :mem].T @ np.diag(s) @ Theta @ np.diag(s) @ v[:, :mem])\n",
    "soft_secant_condition3 = -2 * cp.trace( v[:, mem:].T @ np.diag(s) @ Theta @ np.diag(s) @ v[:, :mem] )\n",
    "\n",
    "objective = alpha * distance_from_h0 + soft_secant_condition1 + soft_secant_condition2 + soft_secant_condition3\n",
    "\n",
    "print(\"obj value\", cp.Problem(\n",
    "    cp.Minimize(objective),\n",
    "    [cp.lambda_min(Theta) >= - gamma],\n",
    ").solve(\n",
    "    solver='CLARABEL',\n",
    "    # verbose=True,\n",
    "    # eps=1e-14\n",
    "))\n",
    "\n",
    "reconstructed_Sigma = v.T @ np.diag(1./s) @ Theta @ np.diag(1./s) @ v\n",
    "newstructured_H = H0 + stacked_mat @ reconstructed_Sigma @ stacked_mat.T\n",
    "print(\"ACCURACY OF TRANSFORMATION ~\", np.linalg.norm(newstructured_H.value- H.value)/np.linalg.norm(newstructured_H.value+ H.value))"
   ]
  },
  {
   "cell_type": "code",
   "execution_count": null,
   "id": "8d976932-28fd-460c-bbb4-d433f5675959",
   "metadata": {},
   "outputs": [],
   "source": [
    "soft_secant_condition1.value"
   ]
  },
  {
   "cell_type": "code",
   "execution_count": null,
   "id": "39c825d8-3c9e-474c-ada0-3dc7167d1a08",
   "metadata": {},
   "outputs": [],
   "source": [
    "cp.trace(Theta @ np.diag(s) @ v[:, :mem] @ v[:, :mem].T @ np.diag(s) @ Theta.T).value"
   ]
  },
  {
   "cell_type": "code",
   "execution_count": null,
   "id": "94bc004e-d109-48b9-b54b-25957c333dad",
   "metadata": {},
   "outputs": [],
   "source": [
    "v[:, :mem].T @ v[:, :mem]"
   ]
  },
  {
   "cell_type": "code",
   "execution_count": null,
   "id": "ef6334c4-7372-4f7c-bc0e-1b30900ecaa4",
   "metadata": {},
   "outputs": [],
   "source": [
    "v[:, :mem] @ v[:, :mem].T"
   ]
  },
  {
   "cell_type": "code",
   "execution_count": null,
   "id": "68b9610d-e6be-4882-a512-c4b7f2688907",
   "metadata": {},
   "outputs": [],
   "source": [
    "v[:, :mem].T @ v[:, :mem]"
   ]
  },
  {
   "cell_type": "code",
   "execution_count": null,
   "id": "913f28b3-3b4b-49f5-8100-55593aa4e0a0",
   "metadata": {},
   "outputs": [],
   "source": [
    "v[:, :mem] @ v[:, mem:].T"
   ]
  },
  {
   "cell_type": "code",
   "execution_count": null,
   "id": "151f421b-f448-4b29-a1df-a0438b4b4828",
   "metadata": {},
   "outputs": [],
   "source": [
    "raise Exception"
   ]
  },
  {
   "cell_type": "code",
   "execution_count": null,
   "id": "2a8b8cae-5640-46ca-986c-997459696915",
   "metadata": {},
   "outputs": [],
   "source": [
    "#assert np.isclose\n",
    "(\n",
    "    cp.sum_squares(\n",
    "        + gamma * np.diag(s) @ v[:, :mem] \n",
    "        + Theta @ np.diag(s) @ v[:, :mem] \n",
    "        - np.diag(s) @ v[:, mem:]\n",
    "    ).value,\n",
    "\n",
    "    cp.trace(\n",
    "        + gamma * np.diag(s) @ v[:, :mem] @ v[:, :mem].T @ np.diag(s) * gamma\n",
    "        + Theta @ np.diag(s) @ v[:, :mem] @ v[:, :mem].T @ np.diag(s) * gamma\n",
    "        - np.diag(s) @ v[:, mem:] @ v[:, :mem].T @ np.diag(s) * gamma\n",
    "        \n",
    "        + gamma * np.diag(s) @ v[:, :mem] @ v[:, :mem].T @ np.diag(s) @ Theta\n",
    "        + Theta @ np.diag(s) @ v[:, :mem] @ v[:, :mem].T @ np.diag(s) @ Theta\n",
    "        - np.diag(s) @ v[:, mem:] @ v[:, :mem].T @ np.diag(s) @ Theta\n",
    "        \n",
    "        - gamma * np.diag(s) @ v[:, :mem] @ v[:, mem:].T @ np.diag(s)\n",
    "        - Theta @ np.diag(s) @ v[:, :mem] @ v[:, mem:].T @ np.diag(s)\n",
    "        + np.diag(s) @ v[:, mem:] @ v[:, mem:].T @ np.diag(s)\n",
    "    ).value\n",
    ")"
   ]
  },
  {
   "cell_type": "code",
   "execution_count": null,
   "id": "4aacb659-9172-4f18-8a02-c54160782bee",
   "metadata": {},
   "outputs": [],
   "source": [
    "# cp.trace(gamma * np.diag(s) @ v[:, :mem] @ v[:, :mem].T @ np.diag(s) * gamma\n",
    "#     + Theta @ np.diag(s) @ v[:, :mem] @ v[:, :mem].T @ np.diag(s) * gamma\n",
    "#     - np.diag(s) @ v[:, mem:] @ v[:, :mem].T @ np.diag(s) * gamma\n",
    "#     + gamma * np.diag(s) @ v[:, :mem] @ v[:, :mem].T @ Theta\n",
    "#     + Theta @ np.diag(s) @ v[:, :mem] @ v[:, :mem].T @ Theta\n",
    "#     - np.diag(s) @ v[:, mem:] @ v[:, :mem].T @ Theta\n",
    "#     - gamma * np.diag(s) @ v[:, :mem] @ v[:, mem:].T @ np.diag(s)\n",
    "#     - Theta @ np.diag(s) @ v[:, :mem] @ v[:, mem:].T @ np.diag(s)\n",
    "#     + np.diag(s) @ v[:, mem:] @ v[:, mem:].T @ np.diag(s)\n",
    "# ).value/2."
   ]
  },
  {
   "cell_type": "code",
   "execution_count": null,
   "id": "9c09cf2e-ff9b-450f-af88-ded87ea53a45",
   "metadata": {},
   "outputs": [],
   "source": [
    "np.linalg.eigh(Theta.value)[0]"
   ]
  },
  {
   "cell_type": "code",
   "execution_count": null,
   "id": "7cacd11a-5d51-4138-856f-d9675995f1e6",
   "metadata": {},
   "outputs": [],
   "source": [
    "(gamma * np.diag(s) @ v[:, :mem] + Theta @ np.diag(s) @ v[:, :mem] - np.diag(s) @ v[:, mem:]).value"
   ]
  },
  {
   "cell_type": "code",
   "execution_count": null,
   "id": "e3afa6e6-2e92-4559-96bb-0b53e3240d64",
   "metadata": {},
   "outputs": [],
   "source": [
    "plt.plot(np.linalg.eigh(Theta.value)[0])"
   ]
  },
  {
   "cell_type": "code",
   "execution_count": null,
   "id": "5c65bc62-5796-44b1-8bd1-8250cfceee03",
   "metadata": {},
   "outputs": [],
   "source": []
  }
 ],
 "metadata": {
  "kernelspec": {
   "display_name": "cvxportfolio",
   "language": "python",
   "name": "cvxportfolio"
  },
  "language_info": {
   "codemirror_mode": {
    "name": "ipython",
    "version": 3
   },
   "file_extension": ".py",
   "mimetype": "text/x-python",
   "name": "python",
   "nbconvert_exporter": "python",
   "pygments_lexer": "ipython3",
   "version": "3.12.8"
  }
 },
 "nbformat": 4,
 "nbformat_minor": 5
}
