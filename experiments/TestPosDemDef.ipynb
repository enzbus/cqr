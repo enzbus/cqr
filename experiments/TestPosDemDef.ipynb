{
 "cells": [
  {
   "cell_type": "code",
   "execution_count": 1,
   "id": "fda5905b-e8b0-4d8d-b133-96e4f28b0d18",
   "metadata": {},
   "outputs": [],
   "source": [
    "import numpy as np\n",
    "import matplotlib.pyplot as plt\n",
    "import cvxpy as cp"
   ]
  },
  {
   "cell_type": "markdown",
   "id": "65e6609f-0849-46ac-a39a-f1422fd3a533",
   "metadata": {},
   "source": [
    "# Constant definitions"
   ]
  },
  {
   "cell_type": "code",
   "execution_count": 329,
   "id": "839f1748-1f0f-4e37-86cf-a2b2026c562b",
   "metadata": {},
   "outputs": [],
   "source": [
    "# sizes\n",
    "N = 200\n",
    "mem = 10\n",
    "\n",
    "# these are the matrices representing steps and gradient changes\n",
    "np.random.seed(0)\n",
    "Y = np.random.randn(N, mem)*1e-5\n",
    "S = np.random.randn(N, mem)*1e-5\n",
    "\n",
    "# define H0\n",
    "gamma = 1 # diagonal of H0\n",
    "H0 = np.eye(N) * gamma\n",
    "\n",
    "# regularizer\n",
    "alpha = 1 # scaler of first obj term / regularizer"
   ]
  },
  {
   "cell_type": "markdown",
   "id": "39564b5b-9fdc-4b64-94db-9c374ccacd9c",
   "metadata": {},
   "source": [
    "# Basic program"
   ]
  },
  {
   "cell_type": "code",
   "execution_count": 330,
   "id": "44c97a9c-c7b0-4bd8-8c42-4b137a678aee",
   "metadata": {},
   "outputs": [
    {
     "name": "stdout",
     "output_type": "stream",
     "text": [
      "===============================================================================\n",
      "                                     CVXPY                                     \n",
      "                             v1.6.1.dev0+0.1777eb0                             \n",
      "===============================================================================\n",
      "(CVXPY) Feb 23 02:57:20 PM: Your problem has 40000 variables, 0 constraints, and 0 parameters.\n",
      "(CVXPY) Feb 23 02:57:20 PM: It is compliant with the following grammars: DCP, DQCP\n",
      "(CVXPY) Feb 23 02:57:20 PM: (If you need to solve this problem multiple times, but with different data, consider using parameters.)\n",
      "(CVXPY) Feb 23 02:57:20 PM: CVXPY will first compile your problem; then, it will invoke a numerical solver to obtain a solution.\n",
      "(CVXPY) Feb 23 02:57:20 PM: Your problem is compiled with the CPP canonicalization backend.\n",
      "-------------------------------------------------------------------------------\n",
      "                                  Compilation                                  \n",
      "-------------------------------------------------------------------------------\n",
      "(CVXPY) Feb 23 02:57:20 PM: Compiling problem (target solver=SCS).\n",
      "(CVXPY) Feb 23 02:57:20 PM: Reduction chain: Dcp2Cone -> CvxAttr2Constr -> ConeMatrixStuffing -> SCS\n",
      "(CVXPY) Feb 23 02:57:20 PM: Applying reduction Dcp2Cone\n",
      "(CVXPY) Feb 23 02:57:20 PM: Applying reduction CvxAttr2Constr\n",
      "(CVXPY) Feb 23 02:57:20 PM: Applying reduction ConeMatrixStuffing\n",
      "(CVXPY) Feb 23 02:57:20 PM: Applying reduction SCS\n",
      "(CVXPY) Feb 23 02:57:20 PM: Finished problem compilation (took 1.134e-01 seconds).\n",
      "-------------------------------------------------------------------------------\n",
      "                                Numerical solver                               \n",
      "-------------------------------------------------------------------------------\n",
      "(CVXPY) Feb 23 02:57:20 PM: Invoking solver SCS  to obtain a solution.\n",
      "------------------------------------------------------------------\n",
      "\t       SCS v3.2.7 - Splitting Conic Solver\n",
      "\t(c) Brendan O'Donoghue, Stanford University, 2012\n",
      "------------------------------------------------------------------\n",
      "problem:  variables n: 62100, constraints m: 62100\n",
      "cones: \t  z: primal zero / dual free vars: 42000\n",
      "\t  s: psd vars: 20100, ssize: 1\n",
      "settings: eps_abs: 1.0e-05, eps_rel: 1.0e-05, eps_infeas: 1.0e-07\n",
      "\t  alpha: 1.50, scale: 1.00e-01, adaptive_scale: 1\n",
      "\t  max_iters: 100000, normalize: 1, rho_x: 1.00e-06\n",
      "\t  acceleration_lookback: 10, acceleration_interval: 10\n",
      "lin-sys:  sparse-direct-amd-qdldl\n",
      "\t  nnz(A): 502100, nnz(P): 42000\n",
      "------------------------------------------------------------------\n",
      " iter | pri res | dua res |   gap   |   obj   |  scale  | time (s)\n",
      "------------------------------------------------------------------\n",
      "     0| 9.98e-01  1.37e-01  2.55e+01  1.37e+01  1.00e-01  7.42e-01 \n",
      "    25| 8.02e-09  2.12e-08  4.24e-06 -1.73e-06  1.00e-01  9.88e-01 \n",
      "------------------------------------------------------------------\n",
      "status:  solved\n",
      "timings: total: 9.88e-01s = setup: 7.21e-01s + solve: 2.67e-01s\n",
      "\t lin-sys: 1.09e-01s, cones: 1.37e-01s, accel: 3.00e-03s\n",
      "------------------------------------------------------------------\n",
      "objective = -0.000002\n",
      "------------------------------------------------------------------\n",
      "-------------------------------------------------------------------------------\n",
      "                                    Summary                                    \n",
      "-------------------------------------------------------------------------------\n",
      "(CVXPY) Feb 23 02:57:21 PM: Problem status: optimal\n",
      "(CVXPY) Feb 23 02:57:21 PM: Optimal value: 3.892e-07\n",
      "(CVXPY) Feb 23 02:57:21 PM: Compilation took 1.134e-01 seconds\n",
      "(CVXPY) Feb 23 02:57:21 PM: Solver (including time spent in interface) took 9.905e-01 seconds\n",
      "obj value 3.891615397143223e-07\n"
     ]
    },
    {
     "data": {
      "text/plain": [
       "[<matplotlib.lines.Line2D at 0x7f9fe23a0800>]"
      ]
     },
     "execution_count": 330,
     "metadata": {},
     "output_type": "execute_result"
    },
    {
     "data": {
      "image/png": "[encoded data removed]",
      "text/plain": [
       "<Figure size 640x480 with 1 Axes>"
      ]
     },
     "metadata": {},
     "output_type": "display_data"
    }
   ],
   "source": [
    "H = cp.Variable((N,N), PSD=True)\n",
    "\n",
    "distance_from_h0 = cp.sum_squares(H - H0)\n",
    "soft_secant_condition = cp.sum_squares(H @ Y - S)\n",
    "\n",
    "objective = alpha * distance_from_h0 + soft_secant_condition\n",
    "\n",
    "print(\"obj value\", cp.Problem(cp.Minimize(objective)).solve(\n",
    "    solver='SCS',\n",
    "    verbose=True,\n",
    "))\n",
    "\n",
    "plt.plot(np.linalg.eigh(H.value)[0])"
   ]
  },
  {
   "cell_type": "markdown",
   "id": "973177b3-5eff-42c7-aa22-821809cd2a65",
   "metadata": {},
   "source": [
    "# Using assumption that H is structured"
   ]
  },
  {
   "cell_type": "code",
   "execution_count": 331,
   "id": "2ef009c8-32ce-442f-8021-793ee73b675b",
   "metadata": {},
   "outputs": [],
   "source": [
    "stacked_mat = np.hstack([Y, S])\n",
    "\n",
    "Sigma = cp.Variable((2*mem, 2*mem), symmetric=True)\n",
    "structured_H = H0 + stacked_mat @ Sigma @ stacked_mat.T\n",
    "\n",
    "distance_from_h0 = cp.sum_squares(stacked_mat @ Sigma @ stacked_mat.T)\n",
    "# soft_secant_condition = cp.sum_squares(structured_H @ Y - S)\n",
    "soft_secant_condition = cp.sum_squares(gamma * Y + stacked_mat @ Sigma @ (stacked_mat.T @ Y) - S)\n",
    "\n",
    "objective = alpha * distance_from_h0 + soft_secant_condition\n",
    "\n",
    "# print(\"obj value\", cp.Problem(\n",
    "#     cp.Minimize(objective),\n",
    "#     [structured_H >> 0],\n",
    "# ).solve(\n",
    "#     solver='SCS',\n",
    "#     verbose=True,\n",
    "# ))\n",
    "\n",
    "# print(\"ACCURACY OF TRANSFORMATION ~\", np.linalg.norm(structured_H.value- H.value)/np.linalg.norm(structured_H.value+ H.value))\n",
    "\n",
    "# plt.plot(np.linalg.eigh(structured_H.value)[0])"
   ]
  },
  {
   "cell_type": "markdown",
   "id": "f8e18062-936a-4c47-9f9d-c3f456b7a258",
   "metadata": {},
   "source": [
    "# Using SVD"
   ]
  },
  {
   "cell_type": "code",
   "execution_count": 332,
   "id": "60cc6409-b359-48ec-b55d-4c517300a209",
   "metadata": {
    "scrolled": true
   },
   "outputs": [
    {
     "name": "stdout",
     "output_type": "stream",
     "text": [
      "(200, 20) (20,) (20, 20)\n",
      "===============================================================================\n",
      "                                     CVXPY                                     \n",
      "                             v1.6.1.dev0+0.1777eb0                             \n",
      "===============================================================================\n",
      "(CVXPY) Feb 23 02:57:21 PM: Your problem has 400 variables, 400 constraints, and 0 parameters.\n",
      "(CVXPY) Feb 23 02:57:21 PM: It is compliant with the following grammars: DCP, DQCP\n",
      "(CVXPY) Feb 23 02:57:21 PM: (If you need to solve this problem multiple times, but with different data, consider using parameters.)\n",
      "(CVXPY) Feb 23 02:57:21 PM: CVXPY will first compile your problem; then, it will invoke a numerical solver to obtain a solution.\n",
      "(CVXPY) Feb 23 02:57:21 PM: Your problem is compiled with the CPP canonicalization backend.\n",
      "-------------------------------------------------------------------------------\n",
      "                                  Compilation                                  \n",
      "-------------------------------------------------------------------------------\n",
      "(CVXPY) Feb 23 02:57:21 PM: Compiling problem (target solver=SCS).\n",
      "(CVXPY) Feb 23 02:57:21 PM: Reduction chain: Dcp2Cone -> CvxAttr2Constr -> ConeMatrixStuffing -> SCS\n",
      "(CVXPY) Feb 23 02:57:21 PM: Applying reduction Dcp2Cone\n",
      "(CVXPY) Feb 23 02:57:21 PM: Applying reduction CvxAttr2Constr\n",
      "(CVXPY) Feb 23 02:57:21 PM: Applying reduction ConeMatrixStuffing\n",
      "(CVXPY) Feb 23 02:57:21 PM: Applying reduction SCS\n",
      "(CVXPY) Feb 23 02:57:21 PM: Finished problem compilation (took 2.547e-02 seconds).\n",
      "-------------------------------------------------------------------------------\n",
      "                                Numerical solver                               \n",
      "-------------------------------------------------------------------------------\n",
      "(CVXPY) Feb 23 02:57:21 PM: Invoking solver SCS  to obtain a solution.\n",
      "------------------------------------------------------------------\n",
      "\t       SCS v3.2.7 - Splitting Conic Solver\n",
      "\t(c) Brendan O'Donoghue, Stanford University, 2012\n",
      "------------------------------------------------------------------\n",
      "problem:  variables n: 810, constraints m: 810\n",
      "cones: \t  z: primal zero / dual free vars: 600\n",
      "\t  s: psd vars: 210, ssize: 1\n",
      "settings: eps_abs: 1.0e-05, eps_rel: 1.0e-05, eps_infeas: 1.0e-07\n",
      "\t  alpha: 1.50, scale: 1.00e-01, adaptive_scale: 1\n",
      "\t  max_iters: 100000, normalize: 1, rho_x: 1.00e-06\n",
      "\t  acceleration_lookback: 10, acceleration_interval: 10\n",
      "lin-sys:  sparse-direct-amd-qdldl\n",
      "\t  nnz(A): 126810, nnz(P): 600\n",
      "------------------------------------------------------------------\n",
      " iter | pri res | dua res |   gap   |   obj   |  scale  | time (s)\n",
      "------------------------------------------------------------------\n",
      "     0| 7.19e+07  5.60e-06  1.57e+02  1.32e-05  1.00e-01  2.76e-02 \n",
      "   250| 6.75e-08  4.53e-08  4.00e+01  1.96e-07  1.00e-06  1.26e-01 \n",
      "   500| 3.37e-07  4.53e-08  4.00e+01  1.96e-07  1.00e-06  1.87e-01 \n",
      "   750| 2.40e-01  3.60e-08  1.20e+01 -1.28e-06  1.00e-06  2.49e-01 \n",
      "  1000| 6.50e-07  4.53e-08  4.00e+01  1.96e-07  1.00e-06  3.17e-01 \n",
      "  1250| 7.39e-07  4.53e-08  4.00e+01  1.96e-07  1.00e-06  3.85e-01 \n",
      "  1500| 7.99e-07  4.53e-08  4.00e+01  1.96e-07  1.00e-06  4.52e-01 \n",
      "  1750| 8.41e-07  4.53e-08  4.00e+01  1.96e-07  1.00e-06  5.21e-01 \n",
      "  2000| 8.70e-07  4.53e-08  4.00e+01  1.96e-07  1.00e-06  5.86e-01 \n",
      "  2250| 8.90e-07  4.53e-08  4.00e+01  1.96e-07  1.00e-06  6.52e-01 \n",
      "  2500| 9.04e-07  4.53e-08  4.00e+01  1.96e-07  1.00e-06  7.22e-01 \n",
      "  2750| 9.14e-07  4.53e-08  4.00e+01  1.96e-07  1.00e-06  7.90e-01 \n",
      "  3000| 9.20e-07  4.53e-08  4.00e+01  1.96e-07  1.00e-06  8.59e-01 \n",
      "  3250| 9.25e-07  4.53e-08  4.00e+01  1.96e-07  1.00e-06  9.21e-01 \n",
      "  3500| 1.26e-01  4.96e-08  7.15e+00  5.54e-06  1.00e-06  9.82e-01 \n",
      "  3750| 9.30e-07  4.53e-08  4.00e+01  1.96e-07  1.00e-06  1.04e+00 \n",
      "  4000| 9.31e-07  4.53e-08  4.00e+01  1.96e-07  1.00e-06  1.10e+00 \n",
      "  4250| 9.32e-07  4.53e-08  4.00e+01  1.96e-07  1.00e-06  1.16e+00 \n",
      "  4500| 9.33e-07  4.53e-08  4.00e+01  1.96e-07  1.00e-06  1.22e+00 \n",
      "  4750| 9.34e-07  4.53e-08  4.00e+01  1.96e-07  1.00e-06  1.28e+00 \n",
      "  5000| 9.34e-07  4.53e-08  4.00e+01  1.96e-07  1.00e-06  1.34e+00 \n",
      "  5250| 9.34e-07  4.53e-08  4.00e+01  1.96e-07  1.00e-06  1.40e+00 \n",
      "  5500| 9.34e-07  4.53e-08  4.00e+01  1.96e-07  1.00e-06  1.47e+00 \n",
      "  5750| 9.34e-07  4.53e-08  4.00e+01  1.96e-07  1.00e-06  1.53e+00 \n",
      "  6000| 9.35e-07  4.53e-08  4.00e+01  1.96e-07  1.00e-06  1.58e+00 \n",
      "  6250| 3.20e-01  6.27e-08  4.52e+00  1.85e-07  1.00e-06  1.64e+00 \n",
      "  6500| 9.35e-07  4.53e-08  4.00e+01  1.96e-07  1.00e-06  1.70e+00 \n",
      "  6750| 9.35e-07  4.53e-08  4.00e+01  1.97e-07  1.00e-06  1.76e+00 \n",
      "  7000| 9.35e-07  4.53e-08  4.00e+01  1.96e-07  1.00e-06  1.82e+00 \n",
      "  7250| 9.35e-07  4.53e-08  4.00e+01  1.96e-07  1.00e-06  1.88e+00 \n",
      "  7500| 9.35e-07  4.53e-08  4.00e+01  1.96e-07  1.00e-06  1.94e+00 \n",
      "  7750| 9.35e-07  4.53e-08  4.00e+01  1.96e-07  1.00e-06  2.00e+00 \n",
      "  8000| 9.35e-07  4.53e-08  4.00e+01  1.96e-07  1.00e-06  2.06e+00 \n",
      "  8250| 9.35e-07  4.53e-08  4.00e+01  1.96e-07  1.00e-06  2.11e+00 \n",
      "  8500| 9.35e-07  4.53e-08  4.00e+01  1.96e-07  1.00e-06  2.17e+00 \n",
      "  8750| 9.35e-07  4.53e-08  4.00e+01  1.96e-07  1.00e-06  2.23e+00 \n",
      "  9000| 1.49e-01  3.08e-08  9.67e+00  4.06e-06  1.00e-06  2.29e+00 \n",
      "  9250| 9.35e-07  4.53e-08  4.00e+01  1.96e-07  1.00e-06  2.35e+00 \n",
      "  9500| 9.35e-07  4.53e-08  4.00e+01  1.96e-07  1.00e-06  2.40e+00 \n",
      "  9750| 9.35e-07  4.53e-08  4.00e+01  1.96e-07  1.00e-06  2.46e+00 \n",
      " 10000| 9.35e-07  4.53e-08  4.00e+01  1.96e-07  1.00e-06  2.52e+00 \n",
      " 10250| 9.35e-07  4.53e-08  4.00e+01  1.96e-07  1.00e-06  2.58e+00 \n",
      " 10500| 9.35e-07  4.53e-08  4.00e+01  1.96e-07  1.00e-06  2.63e+00 \n",
      " 10750| 9.35e-07  4.53e-08  4.00e+01  1.96e-07  1.00e-06  2.69e+00 \n",
      " 11000| 9.35e-07  4.53e-08  4.00e+01  1.96e-07  1.00e-06  2.75e+00 \n",
      " 11250| 9.35e-07  4.53e-08  4.00e+01  1.96e-07  1.00e-06  2.81e+00 \n",
      " 11500| 9.35e-07  4.53e-08  4.00e+01  1.96e-07  1.00e-06  2.86e+00 \n",
      " 11750| 2.03e-01  1.09e-07  6.93e+00  1.12e-05  1.00e-06  2.92e+00 \n",
      " 12000| 9.35e-07  4.53e-08  4.00e+01  1.96e-07  1.00e-06  2.98e+00 \n",
      " 12250| 9.35e-07  4.53e-08  4.00e+01  1.96e-07  1.00e-06  3.04e+00 \n",
      " 12500| 9.35e-07  4.53e-08  4.00e+01  1.95e-07  1.00e-06  3.09e+00 \n",
      " 12750| 9.35e-07  4.53e-08  4.00e+01  1.96e-07  1.00e-06  3.15e+00 \n",
      " 13000| 9.35e-07  4.53e-08  4.00e+01  1.96e-07  1.00e-06  3.21e+00 \n",
      " 13250| 9.35e-07  4.53e-08  4.00e+01  1.96e-07  1.00e-06  3.26e+00 \n",
      " 13500| 9.35e-07  4.53e-08  4.00e+01  1.96e-07  1.00e-06  3.32e+00 \n",
      " 13750| 9.35e-07  4.53e-08  4.00e+01  1.96e-07  1.00e-06  3.38e+00 \n",
      " 14000| 9.35e-07  4.53e-08  4.00e+01  1.96e-07  1.00e-06  3.44e+00 \n",
      " 14250| 9.35e-07  4.53e-08  4.00e+01  1.96e-07  1.00e-06  3.50e+00 \n",
      " 14500| 1.15e-01  4.21e-08  1.05e+01 -2.58e-06  1.00e-06  3.55e+00 \n",
      " 14750| 9.35e-07  4.53e-08  4.00e+01  1.96e-07  1.00e-06  3.61e+00 \n",
      " 15000| 9.35e-07  4.53e-08  4.00e+01  1.96e-07  1.00e-06  3.67e+00 \n",
      " 15250| 9.35e-07  4.53e-08  4.00e+01  1.96e-07  1.00e-06  3.73e+00 \n",
      " 15500| 9.35e-07  4.53e-08  4.00e+01  1.96e-07  1.00e-06  3.79e+00 \n",
      " 15750| 9.35e-07  4.53e-08  4.00e+01  1.97e-07  1.00e-06  3.85e+00 \n",
      " 16000| 9.35e-07  4.53e-08  4.00e+01  1.96e-07  1.00e-06  3.91e+00 \n",
      " 16250| 9.35e-07  4.53e-08  4.00e+01  1.96e-07  1.00e-06  3.96e+00 \n",
      " 16500| 9.35e-07  4.53e-08  4.00e+01  1.97e-07  1.00e-06  4.02e+00 \n",
      " 16750| 9.35e-07  4.53e-08  4.00e+01  1.96e-07  1.00e-06  4.08e+00 \n",
      " 17000| 9.35e-07  4.53e-08  4.00e+01  1.95e-07  1.00e-06  4.14e+00 \n",
      " 17250| 7.91e-02  5.42e-08  1.19e+01 -6.86e-07  1.00e-06  4.20e+00 \n",
      " 17500| 9.35e-07  4.53e-08  4.00e+01  1.96e-07  1.00e-06  4.26e+00 \n",
      " 17750| 9.35e-07  4.53e-08  4.00e+01  1.96e-07  1.00e-06  4.32e+00 \n",
      " 18000| 9.35e-07  4.53e-08  4.00e+01  1.97e-07  1.00e-06  4.38e+00 \n",
      " 18250| 9.35e-07  4.53e-08  4.00e+01  1.96e-07  1.00e-06  4.44e+00 \n",
      " 18500| 9.35e-07  4.53e-08  4.00e+01  1.96e-07  1.00e-06  4.50e+00 \n",
      " 18750| 9.35e-07  4.53e-08  4.00e+01  1.96e-07  1.00e-06  4.56e+00 \n",
      " 19000| 9.35e-07  4.53e-08  4.00e+01  1.96e-07  1.00e-06  4.62e+00 \n",
      " 19250| 9.35e-07  4.53e-08  4.00e+01  1.96e-07  1.00e-06  4.68e+00 \n",
      " 19500| 9.35e-07  4.53e-08  4.00e+01  1.96e-07  1.00e-06  4.74e+00 \n",
      " 19750| 9.35e-07  4.53e-08  4.00e+01  1.96e-07  1.00e-06  4.80e+00 \n",
      " 20000| 8.61e-02  4.46e-08  1.22e+01 -4.34e-07  1.00e-06  4.85e+00 \n",
      " 20250| 9.35e-07  4.53e-08  4.00e+01  1.96e-07  1.00e-06  4.91e+00 \n",
      " 20500| 9.35e-07  4.53e-08  4.00e+01  1.96e-07  1.00e-06  4.97e+00 \n",
      " 20750| 9.35e-07  4.53e-08  4.00e+01  1.96e-07  1.00e-06  5.03e+00 \n",
      " 21000| 9.35e-07  4.53e-08  4.00e+01  1.96e-07  1.00e-06  5.09e+00 \n",
      " 21250| 9.35e-07  4.53e-08  4.00e+01  1.96e-07  1.00e-06  5.15e+00 \n",
      " 21500| 9.35e-07  4.53e-08  4.00e+01  1.96e-07  1.00e-06  5.21e+00 \n",
      " 21750| 9.35e-07  4.53e-08  4.00e+01  1.96e-07  1.00e-06  5.27e+00 \n",
      " 22000| 9.35e-07  4.53e-08  4.00e+01  1.96e-07  1.00e-06  5.33e+00 \n",
      " 22250| 9.35e-07  4.53e-08  4.00e+01  1.97e-07  1.00e-06  5.39e+00 \n",
      " 22500| 9.35e-07  4.53e-08  4.00e+01  1.97e-07  1.00e-06  5.45e+00 \n",
      " 22750| 8.85e-02  5.35e-08  1.28e+01 -2.62e-06  1.00e-06  5.51e+00 \n",
      " 23000| 9.35e-07  4.53e-08  4.00e+01  1.96e-07  1.00e-06  5.57e+00 \n",
      " 23250| 9.35e-07  4.53e-08  4.00e+01  1.97e-07  1.00e-06  5.64e+00 \n",
      " 23500| 9.35e-07  4.53e-08  4.00e+01  1.96e-07  1.00e-06  5.70e+00 \n",
      " 23750| 9.35e-07  4.53e-08  4.00e+01  1.96e-07  1.00e-06  5.76e+00 \n",
      " 24000| 9.35e-07  4.53e-08  4.00e+01  1.96e-07  1.00e-06  5.82e+00 \n",
      " 24250| 9.35e-07  4.53e-08  4.00e+01  1.96e-07  1.00e-06  5.88e+00 \n",
      " 24500| 9.35e-07  4.53e-08  4.00e+01  1.96e-07  1.00e-06  5.94e+00 \n",
      " 24750| 9.35e-07  4.53e-08  4.00e+01  1.96e-07  1.00e-06  6.00e+00 \n",
      " 25000| 9.35e-07  4.53e-08  4.00e+01  1.96e-07  1.00e-06  6.06e+00 \n",
      " 25250| 9.35e-07  4.53e-08  4.00e+01  1.96e-07  1.00e-06  6.12e+00 \n",
      " 25500| 1.32e-01  4.68e-08  1.27e+01 -9.98e-07  1.00e-06  6.17e+00 \n",
      " 25750| 9.35e-07  4.53e-08  4.00e+01  1.95e-07  1.00e-06  6.23e+00 \n",
      " 26000| 9.35e-07  4.53e-08  4.00e+01  1.96e-07  1.00e-06  6.29e+00 \n",
      " 26250| 9.35e-07  4.53e-08  4.00e+01  1.96e-07  1.00e-06  6.35e+00 \n",
      " 26500| 9.35e-07  4.53e-08  4.00e+01  1.96e-07  1.00e-06  6.41e+00 \n",
      " 26750| 9.35e-07  4.53e-08  4.00e+01  1.96e-07  1.00e-06  6.47e+00 \n",
      " 27000| 9.35e-07  4.53e-08  4.00e+01  1.97e-07  1.00e-06  6.53e+00 \n",
      " 27250| 9.35e-07  4.53e-08  4.00e+01  1.97e-07  1.00e-06  6.58e+00 \n",
      " 27500| 9.35e-07  4.53e-08  4.00e+01  1.96e-07  1.00e-06  6.64e+00 \n",
      " 27750| 9.35e-07  4.53e-08  4.00e+01  1.96e-07  1.00e-06  6.70e+00 \n",
      " 28000| 9.35e-07  4.53e-08  4.00e+01  1.96e-07  1.00e-06  6.76e+00 \n",
      " 28250| 2.44e-01  4.87e-08  8.37e+00  1.17e-06  1.00e-06  6.82e+00 \n",
      " 28500| 9.35e-07  4.53e-08  4.00e+01  1.97e-07  1.00e-06  6.88e+00 \n",
      " 28750| 9.35e-07  4.53e-08  4.00e+01  1.96e-07  1.00e-06  6.94e+00 \n",
      " 29000| 9.35e-07  4.53e-08  4.00e+01  1.96e-07  1.00e-06  6.99e+00 \n",
      " 29250| 9.35e-07  4.53e-08  4.00e+01  1.96e-07  1.00e-06  7.05e+00 \n",
      " 29500| 9.35e-07  4.53e-08  4.00e+01  1.96e-07  1.00e-06  7.11e+00 \n",
      " 29750| 9.35e-07  4.53e-08  4.00e+01  1.96e-07  1.00e-06  7.17e+00 \n",
      " 30000| 9.35e-07  4.53e-08  4.00e+01  1.97e-07  1.00e-06  7.23e+00 \n",
      " 30250| 9.35e-07  4.53e-08  4.00e+01  1.96e-07  1.00e-06  7.29e+00 \n",
      " 30500| 9.35e-07  4.53e-08  4.00e+01  1.96e-07  1.00e-06  7.35e+00 \n",
      " 30750| 9.35e-07  4.53e-08  4.00e+01  1.96e-07  1.00e-06  7.41e+00 \n",
      " 31000| 1.71e-01  6.88e-08  4.82e+00 -5.47e-06  1.00e-06  7.47e+00 \n",
      " 31250| 9.35e-07  4.53e-08  4.00e+01  1.96e-07  1.00e-06  7.53e+00 \n",
      " 31500| 9.35e-07  4.53e-08  4.00e+01  1.96e-07  1.00e-06  7.58e+00 \n",
      " 31750| 9.35e-07  4.53e-08  4.00e+01  1.97e-07  1.00e-06  7.64e+00 \n",
      " 32000| 9.35e-07  4.53e-08  4.00e+01  1.96e-07  1.00e-06  7.71e+00 \n",
      " 32250| 9.35e-07  4.53e-08  4.00e+01  1.96e-07  1.00e-06  7.77e+00 \n",
      " 32500| 9.35e-07  4.53e-08  4.00e+01  1.96e-07  1.00e-06  7.83e+00 \n",
      " 32750| 9.35e-07  4.53e-08  4.00e+01  1.97e-07  1.00e-06  7.89e+00 \n",
      " 33000| 9.35e-07  4.53e-08  4.00e+01  1.96e-07  1.00e-06  7.95e+00 \n",
      " 33250| 9.35e-07  4.53e-08  4.00e+01  1.95e-07  1.00e-06  8.01e+00 \n",
      " 33500| 9.35e-07  4.53e-08  4.00e+01  1.96e-07  1.00e-06  8.07e+00 \n",
      " 33750| 1.43e-01  4.41e-08  6.67e+00 -9.12e-06  1.00e-06  8.13e+00 \n",
      " 34000| 9.35e-07  4.53e-08  4.00e+01  1.97e-07  1.00e-06  8.19e+00 \n",
      " 34250| 9.35e-07  4.53e-08  4.00e+01  1.96e-07  1.00e-06  8.25e+00 \n",
      " 34500| 9.35e-07  4.53e-08  4.00e+01  1.96e-07  1.00e-06  8.32e+00 \n",
      " 34750| 9.35e-07  4.53e-08  4.00e+01  1.96e-07  1.00e-06  8.38e+00 \n",
      " 35000| 9.35e-07  4.53e-08  4.00e+01  1.96e-07  1.00e-06  8.44e+00 \n",
      " 35250| 9.35e-07  4.53e-08  4.00e+01  1.97e-07  1.00e-06  8.50e+00 \n",
      " 35500| 9.35e-07  4.53e-08  4.00e+01  1.96e-07  1.00e-06  8.56e+00 \n",
      " 35750| 9.35e-07  4.53e-08  4.00e+01  1.96e-07  1.00e-06  8.62e+00 \n",
      " 36000| 9.35e-07  4.53e-08  4.00e+01  1.96e-07  1.00e-06  8.69e+00 \n",
      " 36250| 9.35e-07  4.53e-08  4.00e+01  1.95e-07  1.00e-06  8.75e+00 \n",
      " 36500| 1.52e-01  6.48e-08  6.21e+00  1.28e-06  1.00e-06  8.81e+00 \n",
      " 36750| 9.35e-07  4.53e-08  4.00e+01  1.95e-07  1.00e-06  8.87e+00 \n",
      " 37000| 9.35e-07  4.53e-08  4.00e+01  1.96e-07  1.00e-06  8.94e+00 \n",
      " 37250| 9.35e-07  4.53e-08  4.00e+01  1.96e-07  1.00e-06  9.00e+00 \n",
      " 37500| 9.35e-07  4.53e-08  4.00e+01  1.96e-07  1.00e-06  9.06e+00 \n",
      " 37750| 9.35e-07  4.53e-08  4.00e+01  1.96e-07  1.00e-06  9.12e+00 \n",
      " 38000| 9.35e-07  4.53e-08  4.00e+01  1.97e-07  1.00e-06  9.18e+00 \n",
      " 38250| 9.35e-07  4.53e-08  4.00e+01  1.96e-07  1.00e-06  9.24e+00 \n",
      " 38500| 9.35e-07  4.53e-08  4.00e+01  1.97e-07  1.00e-06  9.30e+00 \n",
      " 38750| 9.35e-07  4.53e-08  4.00e+01  1.96e-07  1.00e-06  9.36e+00 \n",
      " 39000| 9.35e-07  4.53e-08  4.00e+01  1.97e-07  1.00e-06  9.41e+00 \n",
      " 39250| 1.41e-01  5.08e-08  9.87e+00  2.82e-06  1.00e-06  9.47e+00 \n",
      " 39500| 9.35e-07  4.53e-08  4.00e+01  1.96e-07  1.00e-06  9.53e+00 \n",
      " 39750| 9.35e-07  4.53e-08  4.00e+01  1.96e-07  1.00e-06  9.59e+00 \n",
      " 40000| 9.35e-07  4.53e-08  4.00e+01  1.96e-07  1.00e-06  9.65e+00 \n",
      " 40250| 9.35e-07  4.53e-08  4.00e+01  1.96e-07  1.00e-06  9.71e+00 \n",
      " 40500| 9.35e-07  4.53e-08  4.00e+01  1.96e-07  1.00e-06  9.77e+00 \n",
      " 40750| 9.35e-07  4.53e-08  4.00e+01  1.96e-07  1.00e-06  9.83e+00 \n",
      " 41000| 9.35e-07  4.53e-08  4.00e+01  1.96e-07  1.00e-06  9.89e+00 \n",
      " 41250| 9.35e-07  4.53e-08  4.00e+01  1.96e-07  1.00e-06  9.96e+00 \n",
      " 41500| 9.35e-07  4.53e-08  4.00e+01  1.97e-07  1.00e-06  1.00e+01 \n",
      " 41750| 9.35e-07  4.53e-08  4.00e+01  1.96e-07  1.00e-06  1.01e+01 \n",
      " 42000| 9.35e-07  4.53e-08  4.00e+01  1.96e-07  1.00e-06  1.01e+01 \n",
      " 42250| 9.35e-07  4.53e-08  4.00e+01  1.96e-07  1.00e-06  1.02e+01 \n",
      " 42500| 9.35e-07  4.53e-08  4.00e+01  1.97e-07  1.00e-06  1.03e+01 \n",
      " 42750| 9.35e-07  4.53e-08  4.00e+01  1.98e-07  1.00e-06  1.03e+01 \n",
      " 43000| 9.35e-07  4.53e-08  4.00e+01  1.96e-07  1.00e-06  1.04e+01 \n",
      " 43250| 9.35e-07  4.53e-08  4.00e+01  1.97e-07  1.00e-06  1.04e+01 \n",
      " 43500| 9.35e-07  4.53e-08  4.00e+01  1.96e-07  1.00e-06  1.05e+01 \n",
      " 43750| 8.82e-02  4.09e-08  1.06e+01  1.47e-06  1.00e-06  1.06e+01 \n",
      " 44000| 9.35e-07  4.53e-08  4.00e+01  1.97e-07  1.00e-06  1.06e+01 \n",
      " 44250| 9.35e-07  4.53e-08  4.00e+01  1.96e-07  1.00e-06  1.07e+01 \n",
      " 44500| 9.35e-07  4.53e-08  4.00e+01  1.97e-07  1.00e-06  1.08e+01 \n",
      " 44750| 9.35e-07  4.53e-08  4.00e+01  1.96e-07  1.00e-06  1.08e+01 \n",
      " 45000| 9.35e-07  4.53e-08  4.00e+01  1.95e-07  1.00e-06  1.09e+01 \n",
      " 45250| 9.35e-07  4.53e-08  4.00e+01  1.95e-07  1.00e-06  1.09e+01 \n",
      " 45500| 9.35e-07  4.53e-08  4.00e+01  1.96e-07  1.00e-06  1.10e+01 \n",
      " 45750| 9.35e-07  4.53e-08  4.00e+01  1.97e-07  1.00e-06  1.11e+01 \n",
      " 46000| 9.35e-07  4.53e-08  4.00e+01  1.97e-07  1.00e-06  1.11e+01 \n",
      " 46250| 9.35e-07  4.53e-08  4.00e+01  1.97e-07  1.00e-06  1.12e+01 \n",
      " 46500| 3.01e-01  1.51e-07  5.87e+00  3.37e-06  1.00e-06  1.12e+01 \n",
      " 46750| 9.35e-07  4.53e-08  4.00e+01  1.97e-07  1.00e-06  1.13e+01 \n",
      " 47000| 9.35e-07  4.53e-08  4.00e+01  1.96e-07  1.00e-06  1.14e+01 \n",
      " 47250| 9.35e-07  4.53e-08  4.00e+01  1.95e-07  1.00e-06  1.14e+01 \n",
      " 47500| 9.35e-07  4.53e-08  4.00e+01  1.96e-07  1.00e-06  1.15e+01 \n",
      " 47750| 9.35e-07  4.53e-08  4.00e+01  1.96e-07  1.00e-06  1.16e+01 \n",
      " 48000| 9.35e-07  4.53e-08  4.00e+01  1.97e-07  1.00e-06  1.16e+01 \n",
      " 48250| 9.35e-07  4.53e-08  4.00e+01  1.95e-07  1.00e-06  1.17e+01 \n",
      " 48500| 9.35e-07  4.53e-08  4.00e+01  1.96e-07  1.00e-06  1.18e+01 \n",
      " 48750| 9.35e-07  4.53e-08  4.00e+01  1.95e-07  1.00e-06  1.18e+01 \n",
      " 49000| 9.35e-07  4.53e-08  4.00e+01  1.96e-07  1.00e-06  1.19e+01 \n",
      " 49250| 1.96e-01  7.62e-08  6.71e+00 -5.26e-07  1.00e-06  1.20e+01 \n",
      " 49500| 9.35e-07  4.53e-08  4.00e+01  1.97e-07  1.00e-06  1.20e+01 \n",
      " 49750| 9.35e-07  4.53e-08  4.00e+01  1.96e-07  1.00e-06  1.21e+01 \n",
      " 50000| 9.35e-07  4.53e-08  4.00e+01  1.97e-07  1.00e-06  1.21e+01 \n",
      " 50250| 9.35e-07  4.53e-08  4.00e+01  1.97e-07  1.00e-06  1.22e+01 \n",
      " 50500| 9.35e-07  4.53e-08  4.00e+01  1.96e-07  1.00e-06  1.23e+01 \n",
      " 50750| 9.35e-07  4.53e-08  4.00e+01  1.95e-07  1.00e-06  1.23e+01 \n",
      " 51000| 9.35e-07  4.53e-08  4.00e+01  1.95e-07  1.00e-06  1.24e+01 \n",
      " 51250| 9.35e-07  4.53e-08  4.00e+01  1.96e-07  1.00e-06  1.25e+01 \n",
      " 51500| 9.35e-07  4.53e-08  4.00e+01  1.96e-07  1.00e-06  1.25e+01 \n",
      " 51750| 9.35e-07  4.53e-08  4.00e+01  1.96e-07  1.00e-06  1.26e+01 \n",
      " 52000| 1.15e-01  7.68e-08  1.12e+01  1.04e-06  1.00e-06  1.27e+01 \n",
      " 52250| 9.35e-07  4.53e-08  4.00e+01  1.98e-07  1.00e-06  1.27e+01 \n",
      " 52500| 9.35e-07  4.53e-08  4.00e+01  1.95e-07  1.00e-06  1.28e+01 \n",
      " 52750| 9.35e-07  4.53e-08  4.00e+01  1.96e-07  1.00e-06  1.29e+01 \n",
      " 53000| 9.35e-07  4.53e-08  4.00e+01  1.97e-07  1.00e-06  1.29e+01 \n",
      " 53250| 9.35e-07  4.53e-08  4.00e+01  1.97e-07  1.00e-06  1.30e+01 \n",
      " 53500| 9.35e-07  4.53e-08  4.00e+01  1.97e-07  1.00e-06  1.30e+01 \n",
      " 53750| 9.35e-07  4.53e-08  4.00e+01  1.97e-07  1.00e-06  1.31e+01 \n",
      " 54000| 9.35e-07  4.53e-08  4.00e+01  1.96e-07  1.00e-06  1.32e+01 \n",
      " 54250| 9.35e-07  4.53e-08  4.00e+01  1.97e-07  1.00e-06  1.32e+01 \n",
      " 54500| 9.35e-07  4.53e-08  4.00e+01  1.97e-07  1.00e-06  1.33e+01 \n",
      " 54750| 7.27e-02  3.28e-08  1.41e+01 -8.62e-06  1.00e-06  1.33e+01 \n",
      " 55000| 9.35e-07  4.53e-08  4.00e+01  1.97e-07  1.00e-06  1.34e+01 \n",
      " 55250| 9.35e-07  4.53e-08  4.00e+01  1.97e-07  1.00e-06  1.35e+01 \n",
      " 55500| 9.35e-07  4.53e-08  4.00e+01  1.96e-07  1.00e-06  1.35e+01 \n",
      " 55750| 9.35e-07  4.53e-08  4.00e+01  1.95e-07  1.00e-06  1.36e+01 \n",
      " 56000| 9.35e-07  4.53e-08  4.00e+01  1.97e-07  1.00e-06  1.37e+01 \n",
      " 56250| 9.35e-07  4.53e-08  4.00e+01  1.97e-07  1.00e-06  1.37e+01 \n",
      " 56500| 9.35e-07  4.53e-08  4.00e+01  1.95e-07  1.00e-06  1.38e+01 \n",
      " 56750| 9.35e-07  4.53e-08  4.00e+01  1.97e-07  1.00e-06  1.38e+01 \n",
      " 57000| 9.35e-07  4.53e-08  4.00e+01  1.97e-07  1.00e-06  1.39e+01 \n",
      " 57250| 9.35e-07  4.53e-08  4.00e+01  1.95e-07  1.00e-06  1.40e+01 \n",
      " 57500| 7.72e-02  4.28e-08  1.02e+01 -1.08e-06  1.00e-06  1.40e+01 \n",
      " 57750| 9.35e-07  4.53e-08  4.00e+01  1.96e-07  1.00e-06  1.41e+01 \n",
      " 58000| 9.35e-07  4.53e-08  4.00e+01  1.96e-07  1.00e-06  1.41e+01 \n",
      " 58250| 9.35e-07  4.53e-08  4.00e+01  1.96e-07  1.00e-06  1.42e+01 \n",
      " 58500| 9.35e-07  4.53e-08  4.00e+01  1.96e-07  1.00e-06  1.43e+01 \n",
      " 58750| 9.35e-07  4.53e-08  4.00e+01  1.96e-07  1.00e-06  1.43e+01 \n",
      " 59000| 9.35e-07  4.53e-08  4.00e+01  1.96e-07  1.00e-06  1.44e+01 \n",
      " 59250| 9.35e-07  4.53e-08  4.00e+01  1.97e-07  1.00e-06  1.44e+01 \n",
      " 59500| 9.35e-07  4.53e-08  4.00e+01  1.95e-07  1.00e-06  1.45e+01 \n",
      " 59750| 9.35e-07  4.53e-08  4.00e+01  1.96e-07  1.00e-06  1.46e+01 \n",
      " 60000| 9.35e-07  4.53e-08  4.00e+01  1.98e-07  1.00e-06  1.46e+01 \n",
      " 60250| 1.31e-01  5.50e-08  8.79e+00  1.33e-06  1.00e-06  1.47e+01 \n",
      " 60500| 9.35e-07  4.53e-08  4.00e+01  1.97e-07  1.00e-06  1.48e+01 \n",
      " 60750| 9.35e-07  4.53e-08  4.00e+01  1.95e-07  1.00e-06  1.48e+01 \n",
      " 61000| 9.35e-07  4.53e-08  4.00e+01  1.97e-07  1.00e-06  1.49e+01 \n",
      " 61250| 9.35e-07  4.53e-08  4.00e+01  1.96e-07  1.00e-06  1.49e+01 \n",
      " 61500| 9.35e-07  4.53e-08  4.00e+01  1.97e-07  1.00e-06  1.50e+01 \n",
      " 61750| 9.35e-07  4.53e-08  4.00e+01  1.95e-07  1.00e-06  1.51e+01 \n",
      " 62000| 9.35e-07  4.53e-08  4.00e+01  1.96e-07  1.00e-06  1.51e+01 \n",
      " 62250| 9.35e-07  4.53e-08  4.00e+01  1.96e-07  1.00e-06  1.52e+01 \n",
      " 62500| 9.35e-07  4.53e-08  4.00e+01  1.97e-07  1.00e-06  1.52e+01 \n",
      " 62750| 9.35e-07  4.53e-08  4.00e+01  1.95e-07  1.00e-06  1.53e+01 \n",
      " 63000| 2.75e-01  1.72e-07  6.79e+00  6.07e-07  1.00e-06  1.54e+01 \n",
      " 63250| 9.35e-07  4.53e-08  4.00e+01  1.97e-07  1.00e-06  1.54e+01 \n",
      " 63500| 9.35e-07  4.53e-08  4.00e+01  1.95e-07  1.00e-06  1.55e+01 \n",
      " 63750| 9.35e-07  4.53e-08  4.00e+01  1.97e-07  1.00e-06  1.56e+01 \n",
      " 64000| 9.35e-07  4.53e-08  4.00e+01  1.95e-07  1.00e-06  1.56e+01 \n",
      " 64250| 9.35e-07  4.53e-08  4.00e+01  1.98e-07  1.00e-06  1.57e+01 \n",
      " 64500| 9.35e-07  4.53e-08  4.00e+01  1.96e-07  1.00e-06  1.58e+01 \n",
      " 64750| 9.35e-07  4.53e-08  4.00e+01  1.95e-07  1.00e-06  1.58e+01 \n",
      " 65000| 9.35e-07  4.53e-08  4.00e+01  1.96e-07  1.00e-06  1.59e+01 \n",
      " 65250| 9.35e-07  4.53e-08  4.00e+01  1.96e-07  1.00e-06  1.60e+01 \n",
      " 65500| 9.35e-07  4.53e-08  4.00e+01  1.95e-07  1.00e-06  1.60e+01 \n",
      " 65750| 1.44e-01  5.76e-08  7.91e+00  2.14e-07  1.00e-06  1.61e+01 \n",
      " 66000| 9.35e-07  4.53e-08  4.00e+01  1.97e-07  1.00e-06  1.61e+01 \n",
      " 66250| 9.35e-07  4.53e-08  4.00e+01  1.94e-07  1.00e-06  1.62e+01 \n",
      " 66500| 9.35e-07  4.53e-08  4.00e+01  1.96e-07  1.00e-06  1.63e+01 \n",
      " 66750| 9.35e-07  4.53e-08  4.00e+01  1.99e-07  1.00e-06  1.63e+01 \n",
      " 67000| 9.35e-07  4.53e-08  4.00e+01  1.95e-07  1.00e-06  1.64e+01 \n",
      " 67250| 9.35e-07  4.53e-08  4.00e+01  1.97e-07  1.00e-06  1.65e+01 \n",
      " 67500| 9.35e-07  4.53e-08  4.00e+01  1.96e-07  1.00e-06  1.65e+01 \n",
      " 67750| 9.35e-07  4.53e-08  4.00e+01  1.97e-07  1.00e-06  1.66e+01 \n",
      " 68000| 9.35e-07  4.53e-08  4.00e+01  1.95e-07  1.00e-06  1.67e+01 \n",
      " 68250| 9.35e-07  4.53e-08  4.00e+01  1.96e-07  1.00e-06  1.67e+01 \n",
      " 68500| 2.76e-01  1.04e-07  4.52e+00 -5.49e-06  1.00e-06  1.68e+01 \n",
      " 68750| 9.35e-07  4.53e-08  4.00e+01  1.95e-07  1.00e-06  1.68e+01 \n",
      " 69000| 9.35e-07  4.53e-08  4.00e+01  1.96e-07  1.00e-06  1.69e+01 \n",
      " 69250| 9.35e-07  4.53e-08  4.00e+01  1.96e-07  1.00e-06  1.70e+01 \n",
      " 69500| 9.35e-07  4.53e-08  4.00e+01  1.97e-07  1.00e-06  1.70e+01 \n",
      " 69750| 9.35e-07  4.53e-08  4.00e+01  1.96e-07  1.00e-06  1.71e+01 \n",
      " 70000| 9.35e-07  4.53e-08  4.00e+01  1.97e-07  1.00e-06  1.72e+01 \n",
      " 70250| 9.35e-07  4.53e-08  4.00e+01  1.95e-07  1.00e-06  1.72e+01 \n",
      " 70500| 9.35e-07  4.53e-08  4.00e+01  1.95e-07  1.00e-06  1.73e+01 \n",
      " 70750| 9.35e-07  4.53e-08  4.00e+01  1.97e-07  1.00e-06  1.74e+01 \n",
      " 71000| 9.35e-07  4.53e-08  4.00e+01  1.96e-07  1.00e-06  1.74e+01 \n",
      " 71250| 8.89e+07  6.29e+01  7.04e+10 -3.52e+10  1.00e-06  1.75e+01 \n",
      " 71500| 9.35e-07  4.53e-08  4.00e+01  1.95e-07  1.00e-06  1.75e+01 \n",
      " 71750| 9.35e-07  4.53e-08  4.00e+01  1.98e-07  1.00e-06  1.76e+01 \n",
      " 72000| 9.35e-07  4.53e-08  4.00e+01  1.96e-07  1.00e-06  1.77e+01 \n",
      " 72250| 9.35e-07  4.53e-08  4.00e+01  1.96e-07  1.00e-06  1.77e+01 \n",
      " 72500| 9.35e-07  4.53e-08  4.00e+01  1.96e-07  1.00e-06  1.78e+01 \n",
      " 72750| 9.35e-07  4.53e-08  4.00e+01  1.98e-07  1.00e-06  1.78e+01 \n",
      " 73000| 9.35e-07  4.53e-08  4.00e+01  1.96e-07  1.00e-06  1.79e+01 \n",
      " 73250| 9.35e-07  4.53e-08  4.00e+01  1.96e-07  1.00e-06  1.80e+01 \n",
      " 73500| 9.35e-07  4.53e-08  4.00e+01  1.96e-07  1.00e-06  1.80e+01 \n",
      " 73750| 9.35e-07  4.53e-08  4.00e+01  1.97e-07  1.00e-06  1.81e+01 \n",
      " 74000| 1.02e+08  7.23e+01  6.66e+10 -3.33e+10  1.00e-06  1.81e+01 \n",
      " 74250| 9.35e-07  4.53e-08  4.00e+01  1.96e-07  1.00e-06  1.82e+01 \n",
      " 74500| 9.35e-07  4.53e-08  4.00e+01  1.97e-07  1.00e-06  1.83e+01 \n",
      " 74750| 9.35e-07  4.53e-08  4.00e+01  1.97e-07  1.00e-06  1.83e+01 \n",
      " 75000| 9.35e-07  4.53e-08  4.00e+01  1.95e-07  1.00e-06  1.84e+01 \n",
      " 75250| 9.35e-07  4.53e-08  4.00e+01  1.96e-07  1.00e-06  1.85e+01 \n",
      " 75500| 9.35e-07  4.53e-08  4.00e+01  1.96e-07  1.00e-06  1.85e+01 \n",
      " 75750| 9.35e-07  4.53e-08  4.00e+01  1.96e-07  1.00e-06  1.86e+01 \n",
      " 76000| 9.35e-07  4.53e-08  4.00e+01  1.97e-07  1.00e-06  1.86e+01 \n",
      " 76250| 9.35e-07  4.53e-08  4.00e+01  1.95e-07  1.00e-06  1.87e+01 \n",
      " 76500| 9.35e-07  4.53e-08  4.00e+01  1.96e-07  1.00e-06  1.88e+01 \n",
      " 76750| 1.25e-01  5.54e-08  1.03e+01  2.24e-06  1.00e-06  1.88e+01 \n",
      " 77000| 9.35e-07  4.53e-08  4.00e+01  1.98e-07  1.00e-06  1.89e+01 \n",
      " 77250| 9.35e-07  4.53e-08  4.00e+01  1.96e-07  1.00e-06  1.89e+01 \n",
      " 77500| 9.35e-07  4.53e-08  4.00e+01  1.97e-07  1.00e-06  1.90e+01 \n",
      " 77750| 9.35e-07  4.53e-08  4.00e+01  1.95e-07  1.00e-06  1.91e+01 \n",
      " 78000| 9.35e-07  4.53e-08  4.00e+01  1.96e-07  1.00e-06  1.91e+01 \n",
      " 78250| 9.35e-07  4.53e-08  4.00e+01  1.96e-07  1.00e-06  1.92e+01 \n",
      " 78500| 9.35e-07  4.53e-08  4.00e+01  1.95e-07  1.00e-06  1.92e+01 \n",
      " 78750| 9.35e-07  4.53e-08  4.00e+01  1.97e-07  1.00e-06  1.93e+01 \n",
      " 79000| 9.35e-07  4.53e-08  4.00e+01  1.97e-07  1.00e-06  1.94e+01 \n",
      " 79250| 9.35e-07  4.53e-08  4.00e+01  1.97e-07  1.00e-06  1.94e+01 \n",
      " 79500| 9.46e-02  3.68e-08  1.22e+01 -7.18e-07  1.00e-06  1.95e+01 \n",
      " 79750| 9.35e-07  4.53e-08  4.00e+01  1.98e-07  1.00e-06  1.95e+01 \n",
      " 80000| 9.35e-07  4.53e-08  4.00e+01  1.96e-07  1.00e-06  1.96e+01 \n",
      " 80250| 9.35e-07  4.53e-08  4.00e+01  1.95e-07  1.00e-06  1.97e+01 \n",
      " 80500| 9.35e-07  4.53e-08  4.00e+01  1.96e-07  1.00e-06  1.97e+01 \n",
      " 80750| 9.35e-07  4.53e-08  4.00e+01  1.97e-07  1.00e-06  1.98e+01 \n",
      " 81000| 9.35e-07  4.53e-08  4.00e+01  1.96e-07  1.00e-06  1.99e+01 \n",
      " 81250| 9.35e-07  4.53e-08  4.00e+01  1.97e-07  1.00e-06  1.99e+01 \n",
      " 81500| 9.35e-07  4.53e-08  4.00e+01  1.96e-07  1.00e-06  2.00e+01 \n",
      " 81750| 9.35e-07  4.53e-08  4.00e+01  1.95e-07  1.00e-06  2.00e+01 \n",
      " 82000| 9.35e-07  4.53e-08  4.00e+01  1.97e-07  1.00e-06  2.01e+01 \n",
      " 82250| 1.36e-01  3.01e-08  8.70e+00  5.57e-06  1.00e-06  2.02e+01 \n",
      " 82500| 9.35e-07  4.53e-08  4.00e+01  1.95e-07  1.00e-06  2.02e+01 \n",
      " 82750| 9.35e-07  4.53e-08  4.00e+01  1.96e-07  1.00e-06  2.03e+01 \n",
      " 83000| 9.35e-07  4.53e-08  4.00e+01  1.96e-07  1.00e-06  2.03e+01 \n",
      " 83250| 9.35e-07  4.53e-08  4.00e+01  1.98e-07  1.00e-06  2.04e+01 \n",
      " 83500| 9.35e-07  4.53e-08  4.00e+01  1.96e-07  1.00e-06  2.05e+01 \n",
      " 83750| 9.35e-07  4.53e-08  4.00e+01  1.96e-07  1.00e-06  2.05e+01 \n",
      " 84000| 9.35e-07  4.53e-08  4.00e+01  1.98e-07  1.00e-06  2.06e+01 \n",
      " 84250| 9.35e-07  4.53e-08  4.00e+01  1.97e-07  1.00e-06  2.06e+01 \n",
      " 84500| 9.35e-07  4.53e-08  4.00e+01  1.95e-07  1.00e-06  2.07e+01 \n",
      " 84750| 9.35e-07  4.53e-08  4.00e+01  1.97e-07  1.00e-06  2.08e+01 \n",
      " 85000| 1.24e-01  6.24e-08  6.03e+00 -3.50e-06  1.00e-06  2.08e+01 \n",
      " 85250| 9.35e-07  4.53e-08  4.00e+01  1.96e-07  1.00e-06  2.09e+01 \n",
      " 85500| 9.35e-07  4.53e-08  4.00e+01  1.95e-07  1.00e-06  2.10e+01 \n",
      " 85750| 9.35e-07  4.53e-08  4.00e+01  1.96e-07  1.00e-06  2.10e+01 \n",
      " 86000| 9.35e-07  4.53e-08  4.00e+01  1.95e-07  1.00e-06  2.11e+01 \n",
      " 86250| 9.35e-07  4.53e-08  4.00e+01  1.97e-07  1.00e-06  2.11e+01 \n",
      " 86500| 9.35e-07  4.53e-08  4.00e+01  1.95e-07  1.00e-06  2.12e+01 \n",
      " 86750| 9.35e-07  4.53e-08  4.00e+01  1.95e-07  1.00e-06  2.13e+01 \n",
      " 87000| 9.35e-07  4.53e-08  4.00e+01  1.97e-07  1.00e-06  2.13e+01 \n",
      " 87250| 9.35e-07  4.53e-08  4.00e+01  1.95e-07  1.00e-06  2.14e+01 \n",
      " 87500| 9.35e-07  4.53e-08  4.00e+01  1.96e-07  1.00e-06  2.14e+01 \n",
      " 87750| 3.23e-01  8.68e-08  4.59e+00  4.10e-06  1.00e-06  2.15e+01 \n",
      " 88000| 9.35e-07  4.53e-08  4.00e+01  1.95e-07  1.00e-06  2.16e+01 \n",
      " 88250| 9.35e-07  4.53e-08  4.00e+01  1.94e-07  1.00e-06  2.16e+01 \n",
      " 88500| 9.35e-07  4.53e-08  4.00e+01  1.97e-07  1.00e-06  2.17e+01 \n",
      " 88750| 9.35e-07  4.53e-08  4.00e+01  1.97e-07  1.00e-06  2.17e+01 \n",
      " 89000| 9.35e-07  4.53e-08  4.00e+01  1.97e-07  1.00e-06  2.18e+01 \n",
      " 89250| 9.35e-07  4.53e-08  4.00e+01  1.97e-07  1.00e-06  2.19e+01 \n",
      " 89500| 9.35e-07  4.53e-08  4.00e+01  1.96e-07  1.00e-06  2.19e+01 \n",
      " 89750| 9.35e-07  4.53e-08  4.00e+01  1.96e-07  1.00e-06  2.20e+01 \n",
      " 90000| 9.35e-07  4.53e-08  4.00e+01  1.96e-07  1.00e-06  2.21e+01 \n",
      " 90250| 9.35e-07  4.53e-08  4.00e+01  1.95e-07  1.00e-06  2.21e+01 \n",
      " 90500| 1.14e-01  3.77e-08  7.47e+00 -5.91e-06  1.00e-06  2.22e+01 \n",
      " 90750| 9.35e-07  4.53e-08  4.00e+01  1.95e-07  1.00e-06  2.22e+01 \n",
      " 91000| 9.35e-07  4.53e-08  4.00e+01  1.96e-07  1.00e-06  2.23e+01 \n",
      " 91250| 9.35e-07  4.53e-08  4.00e+01  1.97e-07  1.00e-06  2.24e+01 \n",
      " 91500| 9.35e-07  4.53e-08  4.00e+01  1.98e-07  1.00e-06  2.24e+01 \n",
      " 91750| 9.35e-07  4.53e-08  4.00e+01  1.98e-07  1.00e-06  2.25e+01 \n",
      " 92000| 9.35e-07  4.53e-08  4.00e+01  1.96e-07  1.00e-06  2.26e+01 \n",
      " 92250| 9.35e-07  4.53e-08  4.00e+01  1.95e-07  1.00e-06  2.26e+01 \n",
      " 92500| 9.35e-07  4.53e-08  4.00e+01  1.97e-07  1.00e-06  2.27e+01 \n",
      " 92750| 9.35e-07  4.53e-08  4.00e+01  1.94e-07  1.00e-06  2.28e+01 \n",
      " 93000| 9.35e-07  4.53e-08  4.00e+01  1.97e-07  1.00e-06  2.28e+01 \n",
      " 93250| 1.30e-01  4.73e-08  7.16e+00 -5.31e-06  1.00e-06  2.29e+01 \n",
      " 93500| 9.35e-07  4.53e-08  4.00e+01  1.98e-07  1.00e-06  2.30e+01 \n",
      " 93750| 9.35e-07  4.53e-08  4.00e+01  1.98e-07  1.00e-06  2.30e+01 \n",
      " 94000| 9.35e-07  4.53e-08  4.00e+01  1.95e-07  1.00e-06  2.31e+01 \n",
      " 94250| 9.35e-07  4.53e-08  4.00e+01  1.96e-07  1.00e-06  2.31e+01 \n",
      " 94500| 9.35e-07  4.53e-08  4.00e+01  1.96e-07  1.00e-06  2.32e+01 \n",
      " 94750| 9.35e-07  4.53e-08  4.00e+01  1.97e-07  1.00e-06  2.33e+01 \n",
      " 95000| 9.35e-07  4.53e-08  4.00e+01  1.97e-07  1.00e-06  2.33e+01 \n",
      " 95250| 9.35e-07  4.53e-08  4.00e+01  1.95e-07  1.00e-06  2.34e+01 \n",
      " 95500| 9.35e-07  4.53e-08  4.00e+01  1.94e-07  1.00e-06  2.34e+01 \n",
      " 95750| 9.35e-07  4.53e-08  4.00e+01  1.97e-07  1.00e-06  2.35e+01 \n",
      " 96000| 1.15e-01  3.44e-08  9.77e+00  5.51e-06  1.00e-06  2.36e+01 \n",
      " 96250| 9.35e-07  4.53e-08  4.00e+01  1.95e-07  1.00e-06  2.36e+01 \n",
      " 96500| 9.35e-07  4.53e-08  4.00e+01  1.97e-07  1.00e-06  2.37e+01 \n",
      " 96750| 9.35e-07  4.53e-08  4.00e+01  1.94e-07  1.00e-06  2.37e+01 \n",
      " 97000| 9.35e-07  4.53e-08  4.00e+01  1.97e-07  1.00e-06  2.38e+01 \n",
      " 97250| 9.35e-07  4.53e-08  4.00e+01  1.97e-07  1.00e-06  2.39e+01 \n",
      " 97500| 9.35e-07  4.53e-08  4.00e+01  1.95e-07  1.00e-06  2.39e+01 \n",
      " 97750| 9.35e-07  4.53e-08  4.00e+01  1.97e-07  1.00e-06  2.40e+01 \n",
      " 98000| 9.35e-07  4.53e-08  4.00e+01  1.96e-07  1.00e-06  2.40e+01 \n",
      " 98250| 9.35e-07  4.53e-08  4.00e+01  1.98e-07  1.00e-06  2.41e+01 \n",
      " 98500| 9.35e-07  4.53e-08  4.00e+01  1.95e-07  1.00e-06  2.42e+01 \n",
      " 98750| 1.23e-01  6.43e-08  7.21e+00 -8.18e-06  1.00e-06  2.42e+01 \n",
      " 99000| 9.35e-07  4.53e-08  4.00e+01  1.96e-07  1.00e-06  2.43e+01 \n",
      " 99250| 9.35e-07  4.53e-08  4.00e+01  1.96e-07  1.00e-06  2.44e+01 \n",
      " 99500| 9.35e-07  4.53e-08  4.00e+01  1.96e-07  1.00e-06  2.44e+01 \n",
      " 99750| 9.35e-07  4.53e-08  4.00e+01  1.98e-07  1.00e-06  2.45e+01 \n",
      "100000| 9.35e-07  4.53e-08  4.00e+01  1.95e-07  1.00e-06  2.45e+01 \n",
      "------------------------------------------------------------------\n",
      "status:  solved (inaccurate - reached max_iters)\n",
      "timings: total: 2.45e+01s = setup: 2.68e-02s + solve: 2.45e+01s\n",
      "\t lin-sys: 2.10e+01s, cones: 2.77e+00s, accel: 7.22e-02s\n",
      "------------------------------------------------------------------\n",
      "objective = 0.000000 (inaccurate)\n",
      "------------------------------------------------------------------\n",
      "-------------------------------------------------------------------------------\n",
      "                                    Summary                                    \n",
      "-------------------------------------------------------------------------------\n",
      "(CVXPY) Feb 23 02:57:46 PM: Problem status: optimal_inaccurate\n",
      "(CVXPY) Feb 23 02:57:46 PM: Optimal value: 1.999e+01\n",
      "(CVXPY) Feb 23 02:57:46 PM: Compilation took 2.547e-02 seconds\n",
      "(CVXPY) Feb 23 02:57:46 PM: Solver (including time spent in interface) took 2.454e+01 seconds\n",
      "obj value 19.99395941985624\n",
      "ACCURACY OF TRANSFORMATION ~ 0.1643734856432241\n"
     ]
    },
    {
     "name": "stderr",
     "output_type": "stream",
     "text": [
      "/home/enzo/repos/cvxportfolio/env/lib/python3.12/site-packages/cvxpy/problems/problem.py:1481: UserWarning: Solution may be inaccurate. Try another solver, adjusting the solver settings, or solve with verbose=True for more information.\n",
      "  warnings.warn(\n"
     ]
    }
   ],
   "source": [
    "u, s, v = np.linalg.svd(stacked_mat, full_matrices=False)\n",
    "print(u.shape, s.shape, v.shape)\n",
    "assert np.allclose(u @ np.diag(s) @ v, stacked_mat)\n",
    "\n",
    "# these two are the new formulas for Y and S\n",
    "assert np.allclose(u @ np.diag(s) @ v[:, :mem], Y)\n",
    "assert np.allclose(u @ np.diag(s) @ v[:, mem:], S)\n",
    "\n",
    "\n",
    "newSigma = cp.Variable((2*mem, 2*mem), symmetric=True)\n",
    "newstructured_H = H0 + stacked_mat @ newSigma @ stacked_mat.T\n",
    "\n",
    "# translating from above\n",
    "distance_from_h0 = cp.sum_squares(np.diag(s) @ v @ newSigma @ v.T @ np.diag(s))\n",
    "soft_secant_condition = cp.sum_squares(gamma * np.diag(s) @ v[:, :mem] + np.diag(s) @ v @ newSigma @ v.T @ np.diag(s) @ np.diag(s) @ v[:, :mem] - np.diag(s) @ v[:, mem:])\n",
    "\n",
    "objective = alpha * distance_from_h0 + soft_secant_condition\n",
    "\n",
    "print(\"obj value\", cp.Problem(\n",
    "    cp.Minimize(objective),\n",
    "    #[ cp.lambda_min(np.diag(s) @ v @ newSigma @ v.T @ np.diag(s)) >= - gamma],# * np.eye(2*mem)],\n",
    "    # [ np.diag(s) @ v @ newSigma @ v.T @ np.diag(s) >> - gamma * np.eye(2*mem)],\n",
    "    [ newSigma >> - v.T @ np.diag(1./s) @ (gamma * np.eye(2*mem))  @ np.diag(1./s) @ v],\n",
    "\n",
    ").solve(\n",
    "    solver='SCS',\n",
    "    verbose=True,\n",
    "))\n",
    "\n",
    "print(\"ACCURACY OF TRANSFORMATION ~\", np.linalg.norm(newstructured_H.value- H.value)/np.linalg.norm(newstructured_H.value+ H.value))\n"
   ]
  },
  {
   "cell_type": "code",
   "execution_count": 333,
   "id": "38ee4d6a-fdfe-43f4-a236-b7e177f8524c",
   "metadata": {},
   "outputs": [
    {
     "data": {
      "text/plain": [
       "array(19.99395923)"
      ]
     },
     "execution_count": 333,
     "metadata": {},
     "output_type": "execute_result"
    }
   ],
   "source": [
    "distance_from_h0.value"
   ]
  },
  {
   "cell_type": "code",
   "execution_count": 334,
   "id": "178de23e-3427-4579-a9f2-7d1f41db0fc4",
   "metadata": {},
   "outputs": [],
   "source": [
    "assert np.isclose(\n",
    "    np.trace((np.diag(s) @ v @ newSigma @ v.T @ np.diag(s)).value @ (np.diag(s) @ v @ newSigma @ v.T @ np.diag(s)).value),\n",
    "    distance_from_h0.value)\n",
    "\n",
    "assert np.isclose(\n",
    "    np.trace(np.diag(s) @ v @ newSigma.value @ (v.T @ np.diag(s) @ np.diag(s) @ v) @ newSigma.value @ v.T @ np.diag(s)),\n",
    "    distance_from_h0.value)\n",
    "\n",
    "assert np.isclose(\n",
    "    np.trace(v @ newSigma.value @ (v.T @ np.diag(s**2) @ v) @ newSigma.value @ v.T @ np.diag(s**2)),\n",
    "    distance_from_h0.value)"
   ]
  },
  {
   "cell_type": "code",
   "execution_count": null,
   "id": "d43c162c-4876-48c9-aef9-2554b6957204",
   "metadata": {},
   "outputs": [],
   "source": []
  },
  {
   "cell_type": "code",
   "execution_count": 335,
   "id": "52e455e5-bb7d-48f4-bbd7-0ca7b6be34cb",
   "metadata": {},
   "outputs": [
    {
     "data": {
      "text/plain": [
       "array([-0.99991236, -0.99990684, -0.9999039 , -0.99990071, -0.99989828,\n",
       "       -0.99989418, -0.99987966, -0.99987587, -0.99987227, -0.99986619,\n",
       "       -0.99985595, -0.99984843, -0.99983842, -0.999829  , -0.99981154,\n",
       "       -0.99980804, -0.99979917, -0.99977156, -0.99976663, -0.99974037])"
      ]
     },
     "execution_count": 335,
     "metadata": {},
     "output_type": "execute_result"
    }
   ],
   "source": [
    "np.linalg.eigh(np.diag(s) @ v @ newSigma.value @ v.T @ np.diag(s))[0]"
   ]
  },
  {
   "cell_type": "code",
   "execution_count": 336,
   "id": "69df61ed-97a4-4e8b-8271-5bc829045cb5",
   "metadata": {},
   "outputs": [
    {
     "data": {
      "text/plain": [
       "[<matplotlib.lines.Line2D at 0x7f9fe3dc75f0>]"
      ]
     },
     "execution_count": 336,
     "metadata": {},
     "output_type": "execute_result"
    },
    {
     "data": {
      "image/png": "[encoded data removed]",
      "text/plain": [
       "<Figure size 640x480 with 1 Axes>"
      ]
     },
     "metadata": {},
     "output_type": "display_data"
    }
   ],
   "source": [
    "plt.plot(np.linalg.eigh(newstructured_H.value)[0])"
   ]
  },
  {
   "cell_type": "markdown",
   "id": "14784abf-70ac-4c44-8977-3d8dc49a301e",
   "metadata": {},
   "source": [
    "# Variable transformation - careful, some CVXPY bug"
   ]
  },
  {
   "cell_type": "code",
   "execution_count": 337,
   "id": "24fa5ec2-4e80-4b75-a8cd-9c3f8564b007",
   "metadata": {},
   "outputs": [
    {
     "name": "stdout",
     "output_type": "stream",
     "text": [
      "===============================================================================\n",
      "                                     CVXPY                                     \n",
      "                             v1.6.1.dev0+0.1777eb0                             \n",
      "===============================================================================\n",
      "(CVXPY) Feb 23 02:57:46 PM: Your problem has 400 variables, 1 constraints, and 0 parameters.\n",
      "(CVXPY) Feb 23 02:57:46 PM: It is compliant with the following grammars: DCP, DQCP\n",
      "(CVXPY) Feb 23 02:57:46 PM: (If you need to solve this problem multiple times, but with different data, consider using parameters.)\n",
      "(CVXPY) Feb 23 02:57:46 PM: CVXPY will first compile your problem; then, it will invoke a numerical solver to obtain a solution.\n",
      "(CVXPY) Feb 23 02:57:46 PM: Your problem is compiled with the CPP canonicalization backend.\n",
      "-------------------------------------------------------------------------------\n",
      "                                  Compilation                                  \n",
      "-------------------------------------------------------------------------------\n",
      "(CVXPY) Feb 23 02:57:46 PM: Compiling problem (target solver=SCS).\n",
      "(CVXPY) Feb 23 02:57:46 PM: Reduction chain: Dcp2Cone -> CvxAttr2Constr -> ConeMatrixStuffing -> SCS\n",
      "(CVXPY) Feb 23 02:57:46 PM: Applying reduction Dcp2Cone\n",
      "(CVXPY) Feb 23 02:57:46 PM: Applying reduction CvxAttr2Constr\n",
      "(CVXPY) Feb 23 02:57:46 PM: Applying reduction ConeMatrixStuffing\n",
      "(CVXPY) Feb 23 02:57:46 PM: Applying reduction SCS\n",
      "(CVXPY) Feb 23 02:57:46 PM: Finished problem compilation (took 7.293e-03 seconds).\n",
      "-------------------------------------------------------------------------------\n",
      "                                Numerical solver                               \n",
      "-------------------------------------------------------------------------------\n",
      "(CVXPY) Feb 23 02:57:46 PM: Invoking solver SCS  to obtain a solution.\n",
      "------------------------------------------------------------------\n",
      "\t       SCS v3.2.7 - Splitting Conic Solver\n",
      "\t(c) Brendan O'Donoghue, Stanford University, 2012\n",
      "------------------------------------------------------------------\n",
      "problem:  variables n: 811, constraints m: 811\n",
      "cones: \t  z: primal zero / dual free vars: 600\n",
      "\t  l: linear vars: 1\n",
      "\t  s: psd vars: 210, ssize: 1\n",
      "settings: eps_abs: 1.0e-05, eps_rel: 1.0e-05, eps_infeas: 1.0e-07\n",
      "\t  alpha: 1.50, scale: 1.00e-01, adaptive_scale: 1\n",
      "\t  max_iters: 100000, normalize: 1, rho_x: 1.00e-06\n",
      "\t  acceleration_lookback: 10, acceleration_interval: 10\n",
      "lin-sys:  sparse-direct-amd-qdldl\n",
      "\t  nnz(A): 5231, nnz(P): 600\n",
      "------------------------------------------------------------------\n",
      " iter | pri res | dua res |   gap   |   obj   |  scale  | time (s)\n",
      "------------------------------------------------------------------\n",
      "     0| 1.00e+00  9.31e-03  8.68e-04  7.70e-07  1.00e-01  2.08e-03 \n",
      "    25| 2.97e-08  9.17e-09  1.08e-14  3.89e-07  1.00e-01  3.85e-03 \n",
      "------------------------------------------------------------------\n",
      "status:  solved\n",
      "timings: total: 3.86e-03s = setup: 1.63e-03s + solve: 2.23e-03s\n",
      "\t lin-sys: 6.96e-04s, cones: 1.09e-03s, accel: 6.58e-06s\n",
      "------------------------------------------------------------------\n",
      "objective = 0.000000\n",
      "------------------------------------------------------------------\n",
      "-------------------------------------------------------------------------------\n",
      "                                    Summary                                    \n",
      "-------------------------------------------------------------------------------\n",
      "(CVXPY) Feb 23 02:57:46 PM: Problem status: optimal\n",
      "(CVXPY) Feb 23 02:57:46 PM: Optimal value: 3.892e-07\n",
      "(CVXPY) Feb 23 02:57:46 PM: Compilation took 7.293e-03 seconds\n",
      "(CVXPY) Feb 23 02:57:46 PM: Solver (including time spent in interface) took 4.327e-03 seconds\n",
      "obj value 3.8916154004451783e-07\n",
      "ACCURACY OF TRANSFORMATION ~ 1.6005962813911112e-09\n"
     ]
    }
   ],
   "source": [
    "# Theta = np.diag(s) @ v @ Sigma @ v.T @ np.diag(s)\n",
    "\n",
    "Theta = cp.Variable((2*mem, 2*mem), symmetric=True)\n",
    "\n",
    "reconstructed_Sigma = v.T @ np.diag(1./s) @ Theta @ np.diag(1./s) @ v\n",
    "newstructured_H = H0 + stacked_mat @ reconstructed_Sigma @ stacked_mat.T\n",
    "\n",
    "# translating from above\n",
    "distance_from_h0 = cp.sum_squares(np.eye(2*mem) @ Theta @ np.eye(2*mem)) # BUG in CVXPY; without the two np.eye it fails\n",
    "soft_secant_condition = cp.sum_squares(gamma * np.diag(s) @ v[:, :mem] + Theta @ np.diag(s) @ v[:, :mem] - np.diag(s) @ v[:, mem:])\n",
    "soft_secant_condition = cp.sum_squares(Theta @ np.diag(s) @ v[:, :mem] + np.diag(s) @ (gamma * v[:, :mem] - v[:, mem:]))\n",
    "\n",
    "\n",
    "objective = alpha * distance_from_h0 + soft_secant_condition\n",
    "\n",
    "print(\"obj value\", cp.Problem(\n",
    "    cp.Minimize(objective),\n",
    "    [cp.lambda_min(Theta) >= - gamma],\n",
    ").solve(\n",
    "    solver='SCS',\n",
    "    verbose=True,\n",
    "))\n",
    "\n",
    "print(\"ACCURACY OF TRANSFORMATION ~\", np.linalg.norm(newstructured_H.value- H.value)/np.linalg.norm(newstructured_H.value+ H.value))\n",
    "\n"
   ]
  },
  {
   "cell_type": "markdown",
   "id": "3f3f26a7-397a-44e5-8b94-64e9f8d66458",
   "metadata": {},
   "source": [
    "# Reshape the objective, remove symmetry/PSD"
   ]
  },
  {
   "cell_type": "code",
   "execution_count": 342,
   "id": "6a28e314-9eed-4178-b7c9-6988749ec1fd",
   "metadata": {},
   "outputs": [
    {
     "name": "stdout",
     "output_type": "stream",
     "text": [
      "obj value -7.57360282061579e-15\n",
      "ACCURACY OF TRANSFORMATION ~ 1.991245914065532e-09\n"
     ]
    }
   ],
   "source": [
    "# Theta = np.diag(s) @ v @ Sigma @ v.T @ np.diag(s)\n",
    "\n",
    "Theta = cp.Variable(\n",
    "    (2*mem, 2*mem), \n",
    "    #symmetric=True\n",
    ")\n",
    "\n",
    "\n",
    "# translating from above\n",
    "distance_from_h0 = cp.sum_squares(np.eye(2*mem) @ Theta @ np.eye(2*mem)) # BUG in CVXPY; without the two np.eye it fails\n",
    "soft_secant_condition1 = cp.sum_squares(Theta @ np.diag(s) @ v[:, :mem])\n",
    "soft_secant_condition2 = 2 * cp.trace(Theta @ np.diag(s) @ v[:, :mem] @ (gamma * v[:, :mem] - v[:, mem:]).T @ np.diag(s)  )\n",
    "\n",
    "objective = alpha * distance_from_h0 + soft_secant_condition1 + soft_secant_condition2\n",
    "\n",
    "print(\"obj value\", cp.Problem(\n",
    "    cp.Minimize(objective),\n",
    "    #[cp.lambda_min(Theta) >= - gamma],\n",
    ").solve(\n",
    "    # solver='SCS',\n",
    "    # verbose=True,\n",
    "))\n",
    "\n",
    "reconstructed_Sigma = v.T @ np.diag(1./s) @ Theta @ np.diag(1./s) @ v\n",
    "newstructured_H = H0 + stacked_mat @ reconstructed_Sigma @ stacked_mat.T\n",
    "print(\"ACCURACY OF TRANSFORMATION ~\", np.linalg.norm(newstructured_H.value- H.value)/np.linalg.norm(newstructured_H.value+ H.value))\n",
    "\n"
   ]
  },
  {
   "cell_type": "markdown",
   "id": "94b0f0b8-a92f-400b-bc41-8d386abd0cbc",
   "metadata": {},
   "source": [
    "# YES"
   ]
  },
  {
   "cell_type": "code",
   "execution_count": 343,
   "id": "c5cd8b56-1101-4cc0-b7f8-e70d61a8897a",
   "metadata": {},
   "outputs": [],
   "source": [
    "A = np.eye(2*mem) + np.diag(s) @ v[:, :mem] @ v[:, :mem].T @ np.diag(s)\n",
    "B = np.diag(s) @ v[:, :mem] @ (gamma * v[:, :mem] - v[:, mem:]).T @ np.diag(s)\n",
    "assert np.allclose(-np.linalg.inv(A) @ B, Theta.value.T)\n",
    "assert np.allclose(Theta.value @ A, -B.T)"
   ]
  },
  {
   "cell_type": "markdown",
   "id": "97aa9da7-bb05-47d6-9761-10f5716b0758",
   "metadata": {},
   "source": [
    "# Add symmetry"
   ]
  },
  {
   "cell_type": "code",
   "execution_count": 344,
   "id": "4d183fc7-055a-44ce-8dfa-c00a57fe341c",
   "metadata": {},
   "outputs": [
    {
     "name": "stdout",
     "output_type": "stream",
     "text": [
      "obj value -5.730917556540368e-15\n",
      "ACCURACY OF TRANSFORMATION ~ 1.2890708807320749e-09\n"
     ]
    }
   ],
   "source": [
    "# Theta = np.diag(s) @ v @ Sigma @ v.T @ np.diag(s)\n",
    "\n",
    "Theta = cp.Variable(\n",
    "    (2*mem, 2*mem), \n",
    "    symmetric=True\n",
    ")\n",
    "\n",
    "# translating from above\n",
    "distance_from_h0 = cp.sum_squares(np.eye(2*mem) @ Theta @ np.eye(2*mem)) # BUG in CVXPY; without the two np.eye it fails\n",
    "soft_secant_condition1 = cp.sum_squares(Theta @ np.diag(s) @ v[:, :mem])\n",
    "soft_secant_condition2 = 2 * cp.trace(Theta @ np.diag(s) @ v[:, :mem] @ (gamma * v[:, :mem] - v[:, mem:]).T @ np.diag(s)  )\n",
    "\n",
    "objective = alpha * distance_from_h0 + soft_secant_condition1 + soft_secant_condition2\n",
    "\n",
    "print(\"obj value\", cp.Problem(\n",
    "    cp.Minimize(objective),\n",
    "    #[cp.lambda_min(Theta) >= - gamma],\n",
    ").solve(\n",
    "    # solver='SCS',\n",
    "    # verbose=True,\n",
    "))\n",
    "\n",
    "reconstructed_Sigma = v.T @ np.diag(1./s) @ Theta @ np.diag(1./s) @ v\n",
    "newstructured_H = H0 + stacked_mat @ reconstructed_Sigma @ stacked_mat.T\n",
    "print(\"ACCURACY OF TRANSFORMATION ~\", np.linalg.norm(newstructured_H.value- H.value)/np.linalg.norm(newstructured_H.value+ H.value))"
   ]
  },
  {
   "cell_type": "markdown",
   "id": "86e8fe58-6855-4efd-a1b0-da5ed47e4cb6",
   "metadata": {},
   "source": [
    "#### Error is anti symmetric!"
   ]
  },
  {
   "cell_type": "code",
   "execution_count": 345,
   "id": "675ba2cb-65da-474e-8b4a-6c018550e472",
   "metadata": {},
   "outputs": [],
   "source": [
    "err = Theta.value @ A + B.T\n",
    "assert np.allclose(err, -err.T)"
   ]
  },
  {
   "cell_type": "markdown",
   "id": "2a0a4abc-bc6c-4a3a-9f41-ad888c64d4c1",
   "metadata": {},
   "source": [
    "#### Obtained sort of close formula"
   ]
  },
  {
   "cell_type": "code",
   "execution_count": 346,
   "id": "cf291db5-1e2b-41fb-a21d-cd8598d342ac",
   "metadata": {},
   "outputs": [],
   "source": [
    "# Theta @ A + B.T - err = 0\n",
    "# err = Theta @ A + B.T\n",
    "# err = -err.T\n",
    "\n",
    "# Theta + B.T @ Ainv - err @ Ainv = 0\n",
    "# Theta + Ainv @ B - Ainv @ err.T = 0\n",
    "# Theta + Ainv @ B + Ainv @ (Theta @ A + B.T) = 0\n",
    "# Theta + Ainv @ (B + B.T) + Ainv @ Theta @ A = 0\n",
    "# A @ Theta + (B + B.T) + Theta @ A = 0\n",
    "\n",
    "# check it\n",
    "assert np.allclose(A @ Theta.value +  (B + B.T) + Theta.value @ A, 0.)\n",
    "\n",
    "\n"
   ]
  },
  {
   "cell_type": "markdown",
   "id": "a932189b-7bd9-4507-9088-53fd3a2e1117",
   "metadata": {},
   "source": [
    "# Great idea, this is solvable with only one extra eigendec!"
   ]
  },
  {
   "cell_type": "code",
   "execution_count": 347,
   "id": "2a6c1a2f-cff9-4ccc-97dd-69ab5dc25670",
   "metadata": {},
   "outputs": [],
   "source": [
    "C = np.diag(s) @ v[:, :mem] @ v[:, :mem].T @ np.diag(s)\n",
    "\n",
    "assert np.allclose(A @ Theta.value +  (B + B.T) + Theta.value @ A, 0.)\n",
    "# A = np.eye(2*mem) + np.diag(s) @ v[:, :mem] @ v[:, :mem].T @ np.diag(s)\n",
    "\n",
    "assert np.allclose(2*Theta.value  + C @ Theta.value +  (B + B.T) + Theta.value @ C, 0.)\n"
   ]
  },
  {
   "cell_type": "code",
   "execution_count": 348,
   "id": "870eaff0-b8c4-4aea-bcf6-fe71a5266dfc",
   "metadata": {},
   "outputs": [],
   "source": [
    "new_s, V = np.linalg.eigh(C)\n",
    "assert np.allclose(V @ np.diag(new_s) @ V.T, C)\n",
    "assert np.allclose(2*Theta.value  + V @ np.diag(new_s) @ V.T @ Theta.value +  (B + B.T) + Theta.value @ V @ np.diag(new_s) @ V.T, 0.)\n",
    "assert np.allclose(2* V.T @ Theta.value  + np.diag(new_s) @ V.T @ Theta.value +  V.T @ (B + B.T) + V.T @ Theta.value @ V @ np.diag(new_s) @ V.T, 0.)\n",
    "assert np.allclose(2* V.T @ Theta.value @ V  + np.diag(new_s) @ V.T @ Theta.value @ V +  V.T @ (B + B.T) @ V + V.T @ Theta.value @ V @ np.diag(new_s), 0.)\n",
    "\n",
    "Lambda = V.T @ Theta.value @ V\n",
    "assert np.allclose(2* Lambda + np.diag(new_s) @ Lambda+  V.T @ (B + B.T) @ V + Lambda @ np.diag(new_s), 0.)\n"
   ]
  },
  {
   "cell_type": "code",
   "execution_count": 349,
   "id": "cc8a34bd-1fd4-4d46-825c-f811c348086e",
   "metadata": {},
   "outputs": [],
   "source": [
    "# plt.imshow((np.ones_like(Lambda) * new_s).T + np.ones_like(Lambda) * new_s + 2 * np.ones_like(Lambda))\n",
    "# plt.colorbar()"
   ]
  },
  {
   "cell_type": "code",
   "execution_count": 350,
   "id": "841393ae-3853-49a4-bd1e-2b0c33edc564",
   "metadata": {},
   "outputs": [],
   "source": [
    "SCALING_MATRIX = (np.ones_like(Lambda) * new_s).T + np.ones_like(Lambda) * new_s + 2 * np.ones_like(Lambda)\n",
    "assert np.allclose((-V.T @ (B + B.T) @ V) / SCALING_MATRIX, Lambda)"
   ]
  },
  {
   "cell_type": "markdown",
   "id": "b2c6080c-ca2c-4750-a2e1-a53c563c2ff4",
   "metadata": {},
   "source": [
    "#### Can we improve it? No... these transformations are not invertible"
   ]
  },
  {
   "cell_type": "code",
   "execution_count": 351,
   "id": "4b04d143-6ac2-43d8-8aeb-b7095d25a566",
   "metadata": {},
   "outputs": [],
   "source": [
    "# # A = np.eye(2*mem) + np.diag(s) @ v[:, :mem] @ v[:, :mem].T @ np.diag(s)\n",
    "# # B = np.diag(s) @ v[:, :mem] @ (gamma * v[:, :mem] - v[:, mem:]).T @ np.diag(s)\n",
    "\n",
    "# assert np.allclose(\n",
    "#     2 * Theta.value +\n",
    "#     np.diag(s) @ v[:, :mem] @ v[:, :mem].T @ np.diag(s) @ Theta.value +  \n",
    "#     np.diag(s) @ (\n",
    "#         v[:, :mem] @ (gamma * v[:, :mem] - v[:, mem:]).T\n",
    "#         + (gamma * v[:, :mem] - v[:, mem:]) @ v[:, :mem].T\n",
    "#     ) @ np.diag(s) \n",
    "#     + Theta.value @ np.diag(s) @ v[:, :mem] @ v[:, :mem].T @ np.diag(s),\n",
    "#     0.)\n",
    "\n",
    "# assert np.allclose(\n",
    "#     2 * np.diag(1./s) @ Theta.value @ np.diag(1./s) +\n",
    "#     v[:, :mem] @ v[:, :mem].T @ np.diag(s) @ Theta.value @ np.diag(1./s)+  \n",
    "#     (\n",
    "#         v[:, :mem] @ (gamma * v[:, :mem] - v[:, mem:]).T\n",
    "#         + (gamma * v[:, :mem] - v[:, mem:]) @ v[:, :mem].T\n",
    "#     )\n",
    "#     + np.diag(1./s) @ Theta.value @ np.diag(s) @ v[:, :mem] @ v[:, :mem].T,\n",
    "#     0.)\n",
    "\n",
    "# assert np.allclose(\n",
    "#     2 * v[:, :mem].T @ np.diag(1./s) @ Theta.value @ np.diag(1./s) +\n",
    "#     v[:, :mem].T @ np.diag(s) @ Theta.value @ np.diag(1./s)+  \n",
    "#     (\n",
    "#          (gamma * v[:, :mem] - v[:, mem:]).T\n",
    "#         + (gamma * np.eye(mem)) @ v[:, :mem].T\n",
    "#     )\n",
    "#     + v[:, :mem].T @ np.diag(1./s) @ Theta.value @ np.diag(s) @ v[:, :mem] @ v[:, :mem].T,\n",
    "#     0.)\n",
    "\n",
    "# # this is nice but it's a smaller set of equations, not enough\n",
    "# assert np.allclose(\n",
    "#     2 * v[:, :mem].T @ np.diag(1./s) @ Theta.value @ np.diag(1./s) @ v[:, mem:] +\n",
    "#     v[:, :mem].T @ np.diag(s) @ Theta.value @ np.diag(1./s) @ v[:, mem:]+  \n",
    "#     (- (gamma * np.eye(3) )),\n",
    "#     0.)\n"
   ]
  },
  {
   "cell_type": "code",
   "execution_count": 352,
   "id": "303f50ff-66b2-45f5-b0d7-9c48f16d1523",
   "metadata": {},
   "outputs": [],
   "source": [
    "# v[:, mem:]  @ v[:, mem:].T"
   ]
  },
  {
   "cell_type": "markdown",
   "id": "1dd9277a-58d3-48de-a960-d9d1ec9c6b53",
   "metadata": {},
   "source": [
    "### PSD part "
   ]
  },
  {
   "cell_type": "code",
   "execution_count": 353,
   "id": "6348b9d2-8e7c-444f-b550-34c578d0364d",
   "metadata": {},
   "outputs": [],
   "source": [
    "# ONLY_SYMMETRIC_THETA = Theta.value\n",
    "# PROJECTED_THETA = eivec @ np.diag(np.maximum(eival, -gamma)) @ eivec.T"
   ]
  },
  {
   "cell_type": "code",
   "execution_count": 354,
   "id": "f6932d2b-e3c2-4cab-9a42-485b10cf616c",
   "metadata": {},
   "outputs": [],
   "source": [
    "# eival, eivec = np.linalg.eigh(Theta.value)\n",
    "# plt.imshow(eivec.T @ Theta.value @ eivec)\n",
    "# plt.colorbar()"
   ]
  },
  {
   "cell_type": "markdown",
   "id": "bb4fbc27-b8c0-4ce4-88fc-c733a77cbc9d",
   "metadata": {},
   "source": [
    "# Add PSD"
   ]
  },
  {
   "cell_type": "code",
   "execution_count": 355,
   "id": "d6b6403d-c73e-43cf-b0c9-48ca60726507",
   "metadata": {},
   "outputs": [
    {
     "name": "stdout",
     "output_type": "stream",
     "text": [
      "obj value -5.730917556540357e-15\n",
      "ACCURACY OF TRANSFORMATION ~ 1.2890709165367717e-09\n"
     ]
    }
   ],
   "source": [
    "# Theta = np.diag(s) @ v @ Sigma @ v.T @ np.diag(s)\n",
    "\n",
    "Theta = cp.Variable(\n",
    "    (2*mem, 2*mem), \n",
    "    symmetric=True\n",
    ")\n",
    "\n",
    "# translating from above\n",
    "distance_from_h0 = cp.sum_squares(np.eye(2*mem) @ Theta @ np.eye(2*mem)) # BUG in CVXPY; without the two np.eye it fails\n",
    "soft_secant_condition1 = cp.sum_squares(Theta @ np.diag(s) @ v[:, :mem])\n",
    "soft_secant_condition2 = 2 * cp.trace(np.diag(s) @ Theta @ np.diag(s) @ v[:, :mem] @ (gamma * v[:, :mem] - v[:, mem:]).T )\n",
    "\n",
    "objective = alpha * distance_from_h0 + soft_secant_condition1 + soft_secant_condition2\n",
    "\n",
    "print(\"obj value\", cp.Problem(\n",
    "    cp.Minimize(objective),\n",
    "    [cp.lambda_min(Theta) >= - gamma],\n",
    ").solve(\n",
    "    solver='SCS',\n",
    "    eps=1e-14\n",
    "    # verbose=True,\n",
    "))\n",
    "\n",
    "reconstructed_Sigma = v.T @ np.diag(1./s) @ Theta @ np.diag(1./s) @ v\n",
    "newstructured_H = H0 + stacked_mat @ reconstructed_Sigma @ stacked_mat.T\n",
    "print(\"ACCURACY OF TRANSFORMATION ~\", np.linalg.norm(newstructured_H.value- H.value)/np.linalg.norm(newstructured_H.value+ H.value))"
   ]
  },
  {
   "cell_type": "markdown",
   "id": "9f36b714-84a0-462b-bb28-4bf7002f84c0",
   "metadata": {},
   "source": [
    "# DR: remove regularization part of objective, truncate at ~10 iters"
   ]
  },
  {
   "cell_type": "code",
   "execution_count": 356,
   "id": "2ed4e6a6-210c-48c1-9fd4-a477849f9bc3",
   "metadata": {},
   "outputs": [
    {
     "ename": "AssertionError",
     "evalue": "",
     "output_type": "error",
     "traceback": [
      "\u001b[0;31m---------------------------------------------------------------------------\u001b[0m",
      "\u001b[0;31mAssertionError\u001b[0m                            Traceback (most recent call last)",
      "Cell \u001b[0;32mIn[356], line 26\u001b[0m\n\u001b[1;32m     23\u001b[0m     cp\u001b[38;5;241m.\u001b[39mProblem(cp\u001b[38;5;241m.\u001b[39mMinimize(objective))\u001b[38;5;241m.\u001b[39msolve()\n\u001b[1;32m     24\u001b[0m     \u001b[38;5;28;01mreturn\u001b[39;00m theta_var\u001b[38;5;241m.\u001b[39mvalue\n\u001b[0;32m---> 26\u001b[0m \u001b[38;5;28;01massert\u001b[39;00m \u001b[38;5;28mmax\u001b[39m(np\u001b[38;5;241m.\u001b[39mlinalg\u001b[38;5;241m.\u001b[39meigh(quadratic_proximal(Theta\u001b[38;5;241m.\u001b[39mvalue) \u001b[38;5;241m-\u001b[39m Theta\u001b[38;5;241m.\u001b[39mvalue)[\u001b[38;5;241m0\u001b[39m]) \u001b[38;5;241m<\u001b[39m \u001b[38;5;241m0\u001b[39m\n",
      "\u001b[0;31mAssertionError\u001b[0m: "
     ]
    }
   ],
   "source": [
    "np.linalg.eigh(Theta.value)[0]\n",
    "\n",
    "def PSD_PROJECT(theta):\n",
    "    eival, eivec = np.linalg.eigh(theta)\n",
    "    return eivec @ np.diag(np.maximum(eival, -1.)) @ eivec.T\n",
    "\n",
    "assert np.allclose(PSD_PROJECT(Theta.value), Theta.value)\n",
    "\n",
    "GAMMA = 0.5\n",
    "def quadratic_proximal(theta):\n",
    "    theta_var = cp.Variable(\n",
    "        (2*mem, 2*mem), \n",
    "        symmetric=True)\n",
    "\n",
    "    distance_from_h0 = cp.sum_squares(np.eye(2*mem) @ theta_var @ np.eye(2*mem)) # BUG in CVXPY; without the two np.eye it fails\n",
    "    distance_from_theta = cp.sum_squares(theta_var - theta)\n",
    "    soft_secant_condition1 = cp.sum_squares(theta_var @ np.diag(s) @ v[:, :mem])\n",
    "    soft_secant_condition2 = 2 * cp.trace(np.diag(s) @ theta_var @ np.diag(s) @ v[:, :mem] @ (gamma * v[:, :mem] - v[:, mem:]).T )\n",
    "\n",
    "    # objective = alpha * distance_from_h0 + GAMMA * distance_from_theta + soft_secant_condition1 + soft_secant_condition2\n",
    "    objective = GAMMA * distance_from_theta + soft_secant_condition1 + soft_secant_condition2\n",
    "\n",
    "    cp.Problem(cp.Minimize(objective)).solve()\n",
    "    return theta_var.value\n",
    "\n",
    "assert max(np.linalg.eigh(quadratic_proximal(Theta.value) - Theta.value)[0]) < 0\n",
    "\n",
    "    "
   ]
  },
  {
   "cell_type": "code",
   "execution_count": 357,
   "id": "bbb6ceca-53d6-4a04-ad20-5aa03ad2d7ae",
   "metadata": {},
   "outputs": [],
   "source": [
    "theta = np.zeros((2*mem,2*mem))\n",
    "\n",
    "for i in range(1000):\n",
    "    pi1 = PSD_PROJECT(theta)\n",
    "    pi2 = quadratic_proximal(2 * pi1 - theta)\n",
    "    theta += pi2 - pi1 \n",
    "    # if np.linalg.eigh(theta)[0][-1] > 8:\n",
    "    #     print('iter', i)\n",
    "    #     break\n",
    "    # print(np.linalg.eigh(theta)[0][-1])\n",
    "\n",
    "result = PSD_PROJECT(theta)\n"
   ]
  },
  {
   "cell_type": "code",
   "execution_count": 358,
   "id": "e78c3f38-bb57-4af6-9d2e-0bc934c78eb3",
   "metadata": {},
   "outputs": [
    {
     "data": {
      "text/plain": [
       "array([0.00017442, 0.0001682 , 0.00016695, 0.00015938, 0.0001567 ,\n",
       "       0.0001556 , 0.00014976, 0.0001463 , 0.00014233, 0.00013911,\n",
       "       0.00013434, 0.00013125, 0.0001293 , 0.00012716, 0.00011775,\n",
       "       0.00011464, 0.00011267, 0.00010991, 0.00010717, 0.00010137])"
      ]
     },
     "execution_count": 358,
     "metadata": {},
     "output_type": "execute_result"
    }
   ],
   "source": [
    "reconstructed_Sigma = v.T @ np.diag(1./s) @ result @ np.diag(1./s) @ v\n",
    "newstructured_H = H0 + stacked_mat @ reconstructed_Sigma @ stacked_mat.T\n",
    "newstructured_H1 = H0 + u  @ result @ u.T\n",
    "assert np.allclose(newstructured_H, newstructured_H1)\n",
    "s"
   ]
  },
  {
   "cell_type": "code",
   "execution_count": 359,
   "id": "9778252b-33c3-482e-aff5-a882c80aa078",
   "metadata": {},
   "outputs": [
    {
     "data": {
      "text/plain": [
       "<matplotlib.colorbar.Colorbar at 0x7f9fe22692e0>"
      ]
     },
     "execution_count": 359,
     "metadata": {},
     "output_type": "execute_result"
    },
    {
     "data": {
      "image/png": "[encoded data removed]",
      "text/plain": [
       "<Figure size 640x480 with 2 Axes>"
      ]
     },
     "metadata": {},
     "output_type": "display_data"
    }
   ],
   "source": [
    "plt.imshow(newstructured_H1)\n",
    "plt.colorbar()"
   ]
  },
  {
   "cell_type": "code",
   "execution_count": 360,
   "id": "cb508312-ca9e-4474-a328-91f41ab29241",
   "metadata": {},
   "outputs": [
    {
     "data": {
      "text/plain": [
       "[<matplotlib.lines.Line2D at 0x7f9fe2008200>]"
      ]
     },
     "execution_count": 360,
     "metadata": {},
     "output_type": "execute_result"
    },
    {
     "data": {
      "image/png": "[encoded data removed]",
      "text/plain": [
       "<Figure size 640x480 with 1 Axes>"
      ]
     },
     "metadata": {},
     "output_type": "display_data"
    }
   ],
   "source": [
    "plt.plot(np.linalg.eigh(result)[0])\n",
    "plt.plot(np.linalg.eigh(Theta.value)[0])\n"
   ]
  },
  {
   "cell_type": "code",
   "execution_count": 314,
   "id": "be854a31-43ad-4a27-830f-26caa2421f9b",
   "metadata": {},
   "outputs": [
    {
     "data": {
      "text/plain": [
       "<matplotlib.colorbar.Colorbar at 0x7f9fe4738500>"
      ]
     },
     "execution_count": 314,
     "metadata": {},
     "output_type": "execute_result"
    },
    {
     "data": {
      "image/png": "[encoded data removed]",
      "text/plain": [
       "<Figure size 640x480 with 2 Axes>"
      ]
     },
     "metadata": {},
     "output_type": "display_data"
    }
   ],
   "source": [
    "plt.imshow((result-Theta.value))\n",
    "plt.colorbar()"
   ]
  },
  {
   "cell_type": "code",
   "execution_count": 315,
   "id": "30239f35-cd65-4bd5-a690-8f4f85f98644",
   "metadata": {},
   "outputs": [
    {
     "data": {
      "text/plain": [
       "<matplotlib.colorbar.Colorbar at 0x7f9fe4226e40>"
      ]
     },
     "execution_count": 315,
     "metadata": {},
     "output_type": "execute_result"
    },
    {
     "data": {
      "image/png": "[encoded data removed]",
      "text/plain": [
       "<Figure size 640x480 with 2 Axes>"
      ]
     },
     "metadata": {},
     "output_type": "display_data"
    }
   ],
   "source": [
    "plt.imshow(result)\n",
    "plt.colorbar()"
   ]
  },
  {
   "cell_type": "code",
   "execution_count": 316,
   "id": "562c89c1-0cf5-4b30-963d-e7f253707ac8",
   "metadata": {},
   "outputs": [
    {
     "data": {
      "text/plain": [
       "<matplotlib.colorbar.Colorbar at 0x7f9fe3f2d970>"
      ]
     },
     "execution_count": 316,
     "metadata": {},
     "output_type": "execute_result"
    },
    {
     "data": {
      "image/png": "[encoded data removed]",
      "text/plain": [
       "<Figure size 640x480 with 2 Axes>"
      ]
     },
     "metadata": {},
     "output_type": "display_data"
    }
   ],
   "source": [
    "plt.imshow(Theta.value)\n",
    "plt.colorbar()"
   ]
  },
  {
   "cell_type": "code",
   "execution_count": 317,
   "id": "399914a8-6582-4b6d-b4dd-786ecbd578a6",
   "metadata": {},
   "outputs": [
    {
     "data": {
      "text/plain": [
       "[<matplotlib.lines.Line2D at 0x7f9fe3fcf320>]"
      ]
     },
     "execution_count": 317,
     "metadata": {},
     "output_type": "execute_result"
    },
    {
     "data": {
      "image/png": "[encoded data removed]",
      "text/plain": [
       "<Figure size 640x480 with 1 Axes>"
      ]
     },
     "metadata": {},
     "output_type": "display_data"
    }
   ],
   "source": [
    "plt.plot(np.diag(result))\n",
    "plt.plot(np.diag(Theta.value))"
   ]
  },
  {
   "cell_type": "markdown",
   "id": "cc18a1b7-1cf1-4cd1-8022-adb5c0cb2bf8",
   "metadata": {},
   "source": [
    "# Check with KKT system of only symmetric"
   ]
  },
  {
   "cell_type": "code",
   "execution_count": 233,
   "id": "834fdd38-7374-48be-881a-821d18085ff7",
   "metadata": {},
   "outputs": [
    {
     "data": {
      "text/plain": [
       "<matplotlib.colorbar.Colorbar at 0x7f9fe5b57800>"
      ]
     },
     "execution_count": 233,
     "metadata": {},
     "output_type": "execute_result"
    },
    {
     "data": {
      "image/png": "[encoded data removed]",
      "text/plain": [
       "<Figure size 640x480 with 2 Axes>"
      ]
     },
     "metadata": {},
     "output_type": "display_data"
    }
   ],
   "source": [
    "# this was zero with symm\n",
    "Dual = 2*Theta.value  + C @ Theta.value +  (B + B.T) + Theta.value @ C\n",
    "plt.imshow(Dual)\n",
    "plt.colorbar()\n"
   ]
  },
  {
   "cell_type": "markdown",
   "id": "a84f49c7-70e5-470f-82cf-ba4036e5a28d",
   "metadata": {},
   "source": [
    "# Great, that's looks like the KKT change we need "
   ]
  },
  {
   "cell_type": "code",
   "execution_count": 234,
   "id": "d5b68b0d-8cb6-45cc-bce7-90649fee4e34",
   "metadata": {},
   "outputs": [
    {
     "data": {
      "text/plain": [
       "[<matplotlib.lines.Line2D at 0x7f9fe57fc950>]"
      ]
     },
     "execution_count": 234,
     "metadata": {},
     "output_type": "execute_result"
    },
    {
     "data": {
      "image/png": "[encoded data removed]",
      "text/plain": [
       "<Figure size 640x480 with 1 Axes>"
      ]
     },
     "metadata": {},
     "output_type": "display_data"
    }
   ],
   "source": [
    "plt.plot(np.linalg.eigh(Dual)[0])\n",
    "# plt.plot(np.linalg.eigh(ONLY_SYMMETRIC_THETA)[0])"
   ]
  },
  {
   "cell_type": "markdown",
   "id": "a0cb1d3a-fe4f-4a5e-b837-038bf38270d6",
   "metadata": {},
   "source": [
    "# smaller than -1 eigenspace of original rhs"
   ]
  },
  {
   "cell_type": "code",
   "execution_count": 235,
   "id": "a043b8b6-73b4-4675-a6db-1862db7d0abc",
   "metadata": {},
   "outputs": [],
   "source": [
    "# # only symm RSH\n",
    "# old_rhs = (-V.T @ (B + B.T) @ V) / SCALING_MATRIX\n",
    "\n",
    "# eival_d, eivec_d = np.linalg.eigh(old_rhs)\n",
    "# assert np.allclose(eivec_d @ np.diag(eival_d) @ eivec_d.T, old_rhs)\n",
    "# orig_rhs_nullspace_proj = eivec_d @ np.diag((eival_d <= -1) * 1) @ eivec_d.T\n",
    "# eival_d"
   ]
  },
  {
   "cell_type": "code",
   "execution_count": 236,
   "id": "8999c448-2735-44b8-819c-9f1165efe6bf",
   "metadata": {},
   "outputs": [],
   "source": [
    "# plt.plot(np.linalg.eigh(Dual)[0])\n",
    "# plt.plot(np.linalg.eigh(orig_rhs_nullspace_proj @ Dual @ orig_rhs_nullspace_proj)[0])"
   ]
  },
  {
   "cell_type": "code",
   "execution_count": 237,
   "id": "207195b1-fc86-41fd-92bd-112941706850",
   "metadata": {},
   "outputs": [],
   "source": [
    "# plt.plot(np.linalg.eigh(Theta.value)[0])\n",
    "# plt.plot(np.linalg.eigh(orig_rhs_nullspace_proj @ Theta.value @ orig_rhs_nullspace_proj)[0])"
   ]
  },
  {
   "cell_type": "code",
   "execution_count": 238,
   "id": "bbc76ab5-183d-43a1-810f-8a46eae36675",
   "metadata": {},
   "outputs": [],
   "source": [
    "# eival_d, eivec_d = np.linalg.eigh(Dual)\n",
    "# assert np.allclose(eivec_d @ np.diag(eival_d) @ eivec_d.T, Dual)\n",
    "# dual_nullspace_proj = eivec_d @ np.diag((eival_d <= 1e-6) * 1) @ eivec_d.T\n",
    "\n",
    "# # only symm RSH\n",
    "# old_rhs = (-V.T @ (B + B.T) @ V) / SCALING_MATRIX\n",
    "\n",
    "# # plt.imshow(dual_nullspace_proj @ old_rhs @ dual_nullspace_proj)\n",
    "\n",
    "# plt.plot(np.linalg.eigh(dual_nullspace_proj @ old_rhs @ dual_nullspace_proj)[0])"
   ]
  },
  {
   "cell_type": "code",
   "execution_count": 32,
   "id": "d81c0236-7de0-44f2-b315-44477cb37d6a",
   "metadata": {},
   "outputs": [],
   "source": [
    "# plt.plot(np.linalg.eigh(dual_nullspace_proj @ Theta.value @ dual_nullspace_proj)[0])"
   ]
  },
  {
   "cell_type": "markdown",
   "id": "25a79491-2ea5-470c-9ef7-d86ac81fa262",
   "metadata": {},
   "source": [
    "# YES! the condition that I though"
   ]
  },
  {
   "cell_type": "code",
   "execution_count": 33,
   "id": "c648f395-4d0e-4a00-84a7-d9289f9c3e2a",
   "metadata": {},
   "outputs": [],
   "source": [
    "assert np.allclose(Dual @ (Theta.value + np.eye(2*mem)), 0.)"
   ]
  },
  {
   "cell_type": "markdown",
   "id": "a4afc820-1389-4733-9d2b-3abbbc8eba40",
   "metadata": {},
   "source": [
    "# So the KKT conditions are like this"
   ]
  },
  {
   "cell_type": "code",
   "execution_count": 34,
   "id": "5d72a407-7043-44b5-9bdd-84649cf98d04",
   "metadata": {},
   "outputs": [],
   "source": [
    "# 2*Theta.value  + C @ Theta.value +  (B + B.T) + Theta.value @ C = Dual\n",
    "# Dual + Dual @ Theta.value = 0\n",
    "# Dual >> 0"
   ]
  },
  {
   "cell_type": "code",
   "execution_count": 35,
   "id": "f06c1cfe-cd9e-424b-b0fa-4d820d032b28",
   "metadata": {},
   "outputs": [],
   "source": [
    "new_s, V = np.linalg.eigh(C)\n",
    "Lambda = V.T @ Theta.value @ V\n",
    "assert np.allclose(2* Lambda + np.diag(new_s) @ Lambda + Lambda @ np.diag(new_s), V.T @ (Dual) @ V - V.T @ (B + B.T) @ V)\n",
    "assert np.allclose(Dual + Dual @ Theta.value, 0)\n",
    "rotated_dual = V.T @ (Dual) @ V\n",
    "rotated_const = V.T @ (B + B.T) @ V\n",
    "\n",
    "assert np.allclose(2* Lambda + np.diag(new_s) @ Lambda + Lambda @ np.diag(new_s), rotated_dual - rotated_const)\n",
    "assert np.allclose(rotated_dual +rotated_dual @ Lambda, 0)\n",
    "\n",
    "SCALING_MATRIX = (np.ones_like(Lambda) * new_s).T + np.ones_like(Lambda) * new_s + 2 * np.ones_like(Lambda)\n",
    "\n",
    "# Here we are\n",
    "assert np.allclose(SCALING_MATRIX * Lambda, rotated_dual - rotated_const)\n",
    "assert np.allclose(rotated_dual +rotated_dual @ Lambda, 0)\n",
    "assert np.isclose(np.min(np.linalg.eigh(rotated_dual)[0]), 0.)\n"
   ]
  },
  {
   "cell_type": "code",
   "execution_count": 36,
   "id": "6907e4bf-19e3-4f07-b1f8-36b562ce5d2e",
   "metadata": {},
   "outputs": [],
   "source": [
    "myeival, myeivec =np.linalg.eigh(rotated_const/SCALING_MATRIX)"
   ]
  },
  {
   "cell_type": "code",
   "execution_count": 38,
   "id": "92881c86-b2de-4d67-ab95-5c49422fd0fd",
   "metadata": {},
   "outputs": [
    {
     "data": {
      "text/plain": [
       "<matplotlib.colorbar.Colorbar at 0x7f9ff3290bc0>"
      ]
     },
     "execution_count": 38,
     "metadata": {},
     "output_type": "execute_result"
    },
    {
     "data": {
      "image/png": "[encoded data removed]",
      "text/plain": [
       "<Figure size 640x480 with 2 Axes>"
      ]
     },
     "metadata": {},
     "output_type": "display_data"
    }
   ],
   "source": [
    "plt.imshow(myeivec.T @ Lambda @ myeivec)\n",
    "plt.colorbar()"
   ]
  },
  {
   "cell_type": "code",
   "execution_count": 39,
   "id": "0859890b-7504-40c3-b48c-187a4d278cb3",
   "metadata": {},
   "outputs": [
    {
     "data": {
      "text/plain": [
       "[<matplotlib.lines.Line2D at 0x7f9ff31cce60>]"
      ]
     },
     "execution_count": 39,
     "metadata": {},
     "output_type": "execute_result"
    },
    {
     "data": {
      "image/png": "[encoded data removed]",
      "text/plain": [
       "<Figure size 640x480 with 1 Axes>"
      ]
     },
     "metadata": {},
     "output_type": "display_data"
    }
   ],
   "source": [
    "plt.plot(np.linalg.eigh(rotated_dual/SCALING_MATRIX)[0])\n",
    "plt.plot(np.linalg.eigh(-rotated_const/SCALING_MATRIX)[0])\n",
    "# plt.plot(np.linalg.eigh(SCALING_MATRIX * Lambda)[0])\n",
    "plt.plot(np.linalg.eigh(Lambda)[0])\n"
   ]
  },
  {
   "cell_type": "markdown",
   "id": "461d0066-1566-4b7b-8d51-cb9ffd313877",
   "metadata": {},
   "source": [
    "## Solve these!"
   ]
  },
  {
   "cell_type": "code",
   "execution_count": 40,
   "id": "85b2b42c-09e7-440a-a4ed-4a84df9676f0",
   "metadata": {},
   "outputs": [],
   "source": [
    "# Here we are\n",
    "# assert np.allclose(np.sqrt(SCALING_MATRIX) * Lambda * np.sqrt(SCALING_MATRIX) - rotated_dual, - rotated_const)\n",
    "assert np.allclose(2* Lambda + np.diag(new_s) @ Lambda + Lambda @ np.diag(new_s), rotated_dual - rotated_const)\n",
    "assert np.allclose(2 * rotated_dual + rotated_dual @ Lambda + Lambda @ rotated_dual, 0)\n",
    "assert np.min(np.linalg.eigh(rotated_dual)[0]) >= -1e-6\n",
    "assert np.min(np.linalg.eigh(Lambda)[0]) >= -1 -1e-6\n"
   ]
  },
  {
   "cell_type": "markdown",
   "id": "1a9cd50a-d70f-4ffc-b4c9-60a8c9a19976",
   "metadata": {},
   "source": [
    "# If I use this I only need first equation above"
   ]
  },
  {
   "cell_type": "code",
   "execution_count": 41,
   "id": "14543b4f-6e93-4698-912f-53c04c5fa081",
   "metadata": {},
   "outputs": [],
   "source": [
    "def spd_proj(sym_mat):\n",
    "    eival, eivec = np.linalg.eigh(sym_mat)\n",
    "    return eivec @ np.diag(np.maximum(eival, 0.)) @ eivec.T\n",
    "\n",
    "pridual = Lambda + np.eye(2*mem) - rotated_dual\n",
    "\n",
    "assert(np.allclose(spd_proj(pridual) -  np.eye(2*mem),  Lambda))\n",
    "assert(np.allclose(spd_proj(pridual) - pridual,  rotated_dual))"
   ]
  },
  {
   "cell_type": "markdown",
   "id": "eed681f5-4c41-4b63-8e73-b5189ce8c263",
   "metadata": {},
   "source": [
    "### Let's try to rewrite it?"
   ]
  },
  {
   "cell_type": "code",
   "execution_count": 42,
   "id": "24910996-a04e-489f-a04f-b2d5d239a772",
   "metadata": {},
   "outputs": [],
   "source": [
    "assert np.allclose(\n",
    "    2 * (spd_proj(pridual) -  np.eye(2*mem)) \n",
    "    + np.diag(new_s) @ (spd_proj(pridual) -  np.eye(2*mem)) \n",
    "    + (spd_proj(pridual) -  np.eye(2*mem)) @ np.diag(new_s),\n",
    "    spd_proj(pridual) - pridual - rotated_const)\n"
   ]
  },
  {
   "cell_type": "code",
   "execution_count": 43,
   "id": "6d9a1e7e-6592-4a4d-a771-90af4c0d8824",
   "metadata": {},
   "outputs": [],
   "source": [
    "assert np.allclose(\n",
    "    + pridual\n",
    "    + spd_proj(pridual)\n",
    "    + np.diag(new_s) @ spd_proj(pridual) \n",
    "    + spd_proj(pridual) @ np.diag(new_s),\n",
    "    \n",
    "    2 * np.eye(2*mem)  - rotated_const + 2 * np.diag(new_s) )\n"
   ]
  },
  {
   "cell_type": "markdown",
   "id": "e6b14f7c-f56d-467b-8c3b-ac26bda5f59c",
   "metadata": {},
   "source": [
    "## This seems the shortest I can make it..."
   ]
  },
  {
   "cell_type": "code",
   "execution_count": 44,
   "id": "9459ec11-e3b4-4891-a6dc-1f77f6de936e",
   "metadata": {},
   "outputs": [],
   "source": [
    "NEW_SCALING_MATRIX = (\n",
    "    np.ones_like(Lambda) * new_s).T + np.ones_like(Lambda) * new_s + np.ones_like(Lambda)\n",
    "\n",
    "assert np.allclose(\n",
    "    + pridual\n",
    "    + spd_proj(pridual) * NEW_SCALING_MATRIX,\n",
    "    2 * np.eye(2*mem)  - rotated_const + 2 * np.diag(new_s) )\n",
    "\n"
   ]
  },
  {
   "cell_type": "code",
   "execution_count": 45,
   "id": "7c6285d4-371c-442e-b03b-09da9b694a21",
   "metadata": {},
   "outputs": [],
   "source": [
    "RHS = 2 * np.eye(2*mem)  - rotated_const + 2 * np.diag(new_s)\n",
    "\n",
    "assert np.allclose(pridual + spd_proj(pridual) * NEW_SCALING_MATRIX, RHS)"
   ]
  },
  {
   "cell_type": "markdown",
   "id": "0b7fc766-51e4-4351-a613-5b04b62eed48",
   "metadata": {},
   "source": [
    "## Iterative process?"
   ]
  },
  {
   "cell_type": "code",
   "execution_count": 46,
   "id": "e973b920-8775-4edb-80fe-4cd361946a1d",
   "metadata": {},
   "outputs": [
    {
     "name": "stdout",
     "output_type": "stream",
     "text": [
      "14832034.301310755\n",
      "7314364.0108650485\n"
     ]
    },
    {
     "data": {
      "text/plain": [
       "[<matplotlib.lines.Line2D at 0x7f9ff303ef00>]"
      ]
     },
     "execution_count": 46,
     "metadata": {},
     "output_type": "execute_result"
    },
    {
     "data": {
      "image/png": "[encoded data removed]",
      "text/plain": [
       "<Figure size 640x480 with 1 Axes>"
      ]
     },
     "metadata": {},
     "output_type": "display_data"
    }
   ],
   "source": [
    "init_sol = RHS / (NEW_SCALING_MATRIX+1.) # important, +1\n",
    "\n",
    "print(np.linalg.norm(RHS)**2)\n",
    "err = init_sol + spd_proj(init_sol) * NEW_SCALING_MATRIX - RHS\n",
    "print(np.linalg.norm(err)**2)\n",
    "\n",
    "plt.plot(np.linalg.eigh(err)[0])\n",
    "plt.plot(np.linalg.eigh(init_sol)[0])"
   ]
  },
  {
   "cell_type": "markdown",
   "id": "59c03233-21dd-45d0-b0f2-0d26ac54d6c1",
   "metadata": {},
   "source": [
    "# At this point; best solution is DR splitting on original program; one PSD proj per iteration :)"
   ]
  },
  {
   "cell_type": "code",
   "execution_count": 96,
   "id": "405e8d02-eadb-43c7-bbd2-bb21c1766113",
   "metadata": {},
   "outputs": [],
   "source": [
    "zio = np.random.randn(20,20)\n",
    "zia = zio.T @ zio"
   ]
  },
  {
   "cell_type": "code",
   "execution_count": 97,
   "id": "454224e0-7b77-4bd5-bb08-952172330b52",
   "metadata": {},
   "outputs": [
    {
     "name": "stdout",
     "output_type": "stream",
     "text": [
      "19.9 μs ± 380 ns per loop (mean ± std. dev. of 7 runs, 10,000 loops each)\n"
     ]
    }
   ],
   "source": [
    "%timeit np.linalg.eigh(zia)"
   ]
  },
  {
   "cell_type": "code",
   "execution_count": 98,
   "id": "e442a3ae-ba3a-4603-92f7-263fc9296eea",
   "metadata": {},
   "outputs": [
    {
     "name": "stdout",
     "output_type": "stream",
     "text": [
      "879 ns ± 9.47 ns per loop (mean ± std. dev. of 7 runs, 1,000,000 loops each)\n"
     ]
    }
   ],
   "source": [
    "%timeit zio @ zio"
   ]
  },
  {
   "cell_type": "code",
   "execution_count": 99,
   "id": "b5267b55-7014-49c5-b2b9-fd0a5628e727",
   "metadata": {},
   "outputs": [
    {
     "name": "stdout",
     "output_type": "stream",
     "text": [
      "241 ns ± 3.09 ns per loop (mean ± std. dev. of 7 runs, 1,000,000 loops each)\n"
     ]
    }
   ],
   "source": [
    "%timeit zio * zio"
   ]
  },
  {
   "cell_type": "markdown",
   "id": "c37b937b-bbd8-4be3-bf96-747182760193",
   "metadata": {},
   "source": [
    "# PSD proj dominates; on fast processor we are at ~20mus per iter; if we do 5 it's 1ms per iteration; probably too slow"
   ]
  },
  {
   "cell_type": "markdown",
   "id": "b746c01e-b78c-45d0-8430-01a4626a5d3e",
   "metadata": {},
   "source": [
    "# If this analysis is correct; only few steps of 2019 refinement/gradient descent necessary to get decent solution; b/c pos/neg eigenspaces of init_sol almost coincide w/ pos/neg eigenspaces of real sol"
   ]
  },
  {
   "cell_type": "code",
   "execution_count": 47,
   "id": "82483a7c-d8c9-44dc-9ca6-edde143a54ab",
   "metadata": {},
   "outputs": [
    {
     "data": {
      "text/plain": [
       "[<matplotlib.lines.Line2D at 0x7f9ff324fd40>]"
      ]
     },
     "execution_count": 47,
     "metadata": {},
     "output_type": "execute_result"
    },
    {
     "data": {
      "image/png": "[encoded data removed]",
      "text/plain": [
       "<Figure size 640x480 with 1 Axes>"
      ]
     },
     "metadata": {},
     "output_type": "display_data"
    }
   ],
   "source": [
    "eival_init, eivec_init = np.linalg.eigh(init_sol)\n",
    "assert np.allclose(eivec_init @ np.diag(eival_init) @ eivec_init.T, init_sol)\n",
    "init_sol_negspace_proj = eivec_init @ np.diag((eival_init <= 1e-6) * 1) @ eivec_init.T\n",
    "\n",
    "plt.plot(np.linalg.eigh(pridual)[0])\n",
    "plt.plot(np.linalg.eigh(init_sol_negspace_proj @ pridual @ init_sol_negspace_proj)[0])"
   ]
  },
  {
   "cell_type": "code",
   "execution_count": 48,
   "id": "eed70edc-bd8f-4102-b793-619625cd9ea1",
   "metadata": {},
   "outputs": [
    {
     "data": {
      "text/plain": [
       "[<matplotlib.lines.Line2D at 0x7f9ff31f1d30>]"
      ]
     },
     "execution_count": 48,
     "metadata": {},
     "output_type": "execute_result"
    },
    {
     "data": {
      "image/png": "[encoded data removed]",
      "text/plain": [
       "<Figure size 640x480 with 1 Axes>"
      ]
     },
     "metadata": {},
     "output_type": "display_data"
    }
   ],
   "source": [
    "init_sol_posspace_proj = eivec_init @ np.diag((eival_init >= -1e-6) * 1) @ eivec_init.T\n",
    "\n",
    "plt.plot(np.linalg.eigh(pridual)[0])\n",
    "plt.plot(np.linalg.eigh(init_sol_posspace_proj @ pridual @ init_sol_posspace_proj)[0])"
   ]
  },
  {
   "cell_type": "markdown",
   "id": "67435272-3379-4bf4-8c2d-bb54e9e99abf",
   "metadata": {},
   "source": [
    "## Opposite, check eigenstructure of init sol on real sol's; this one is exact, same eigenspaces! But of course we don't know it"
   ]
  },
  {
   "cell_type": "code",
   "execution_count": 49,
   "id": "382bd29e-94ec-4e8b-a8a9-ca865ce261a2",
   "metadata": {},
   "outputs": [
    {
     "data": {
      "text/plain": [
       "[<matplotlib.lines.Line2D at 0x7f9ff2f97b00>]"
      ]
     },
     "execution_count": 49,
     "metadata": {},
     "output_type": "execute_result"
    },
    {
     "data": {
      "image/png": "[encoded data removed]",
      "text/plain": [
       "<Figure size 640x480 with 1 Axes>"
      ]
     },
     "metadata": {},
     "output_type": "display_data"
    }
   ],
   "source": [
    "eival_pridual, eivec_pridual = np.linalg.eigh(pridual)\n",
    "assert np.allclose(eivec_pridual @ np.diag(eival_pridual) @ eivec_pridual.T, pridual)\n",
    "pridual_negspace_proj = eivec_pridual @ np.diag((eival_pridual <= -1+1e-4) * 1) @ eivec_pridual.T\n",
    "\n",
    "plt.plot(np.linalg.eigh(init_sol)[0])\n",
    "plt.plot(np.linalg.eigh(pridual_negspace_proj @ init_sol @ pridual_negspace_proj)[0])"
   ]
  },
  {
   "cell_type": "code",
   "execution_count": 50,
   "id": "1e8193f8-a774-4059-8b69-e4623da39682",
   "metadata": {},
   "outputs": [
    {
     "data": {
      "text/plain": [
       "[<matplotlib.lines.Line2D at 0x7f9ff2e22000>]"
      ]
     },
     "execution_count": 50,
     "metadata": {},
     "output_type": "execute_result"
    },
    {
     "data": {
      "image/png": "[encoded data removed]",
      "text/plain": [
       "<Figure size 640x480 with 1 Axes>"
      ]
     },
     "metadata": {},
     "output_type": "display_data"
    }
   ],
   "source": [
    "eival_pridual, eivec_pridual = np.linalg.eigh(pridual)\n",
    "assert np.allclose(eivec_pridual @ np.diag(eival_pridual) @ eivec_pridual.T, pridual)\n",
    "pridual_posspace_proj = eivec_pridual @ np.diag((eival_pridual >= -1-1e-4) * 1) @ eivec_pridual.T\n",
    "\n",
    "plt.plot(np.linalg.eigh(init_sol)[0])\n",
    "plt.plot(np.linalg.eigh(pridual_posspace_proj @ init_sol @ pridual_posspace_proj)[0])"
   ]
  },
  {
   "cell_type": "markdown",
   "id": "e236d2f9-c1ea-430d-bf88-6c5ef1c86b8f",
   "metadata": {},
   "source": [
    "# Easier; we can use the eigendec of the \"init sol\" and simply optimize on the eigenvals; maybe it's enough of an approx solution"
   ]
  },
  {
   "cell_type": "code",
   "execution_count": 74,
   "id": "d5bbb4bd-168a-470a-b066-37058670992f",
   "metadata": {},
   "outputs": [
    {
     "name": "stdout",
     "output_type": "stream",
     "text": [
      "14832034.301310755\n",
      "7314364.0108650485\n",
      "889855.8535439728\n"
     ]
    }
   ],
   "source": [
    "assert np.allclose(pridual + spd_proj(pridual) * NEW_SCALING_MATRIX, RHS)\n",
    "init_sol = RHS / (NEW_SCALING_MATRIX+1.) # important, +1\n",
    "\n",
    "eival_init, eivec_init = np.linalg.eigh(init_sol)\n",
    "assert np.allclose(eivec_init @ np.diag(eival_init) @ eivec_init.T, init_sol)\n",
    "\n",
    "num_neg_eivals = sum(eival_init<0)\n",
    "variable_eigenvals = cp.Variable(2*mem)\n",
    "\n",
    "my_pridual = eivec_init @ cp.diag(variable_eigenvals) @ eivec_init.T\n",
    "my_sol = (\n",
    "    my_pridual\n",
    "    + cp.multiply(eivec_init[:, num_neg_eivals:] @ cp.diag(variable_eigenvals[num_neg_eivals:]) @ eivec_init[:, num_neg_eivals:].T, NEW_SCALING_MATRIX))\n",
    "\n",
    "obj = cp.Minimize(cp.sum_squares(my_sol - RHS))\n",
    "\n",
    "variable_eigenvals.value = np.zeros(2*mem)\n",
    "print(obj.value)\n",
    "variable_eigenvals.value = eival_init\n",
    "print(obj.value)\n",
    "print(cp.Problem(obj).solve())"
   ]
  },
  {
   "cell_type": "code",
   "execution_count": 79,
   "id": "d57eec82-9b9b-4fc9-bfef-e982e87a3d83",
   "metadata": {},
   "outputs": [
    {
     "data": {
      "text/plain": [
       "[<matplotlib.lines.Line2D at 0x7f9fe78e6930>]"
      ]
     },
     "execution_count": 79,
     "metadata": {},
     "output_type": "execute_result"
    },
    {
     "data": {
      "image/png": "[encoded data removed]",
      "text/plain": [
       "<Figure size 640x480 with 1 Axes>"
      ]
     },
     "metadata": {},
     "output_type": "display_data"
    }
   ],
   "source": [
    "assert(np.allclose(spd_proj(pridual) -  np.eye(2*mem),  Lambda))\n",
    "plt.plot(np.linalg.eigh(Lambda)[0])"
   ]
  },
  {
   "cell_type": "code",
   "execution_count": 80,
   "id": "9dd2bdd6-4c58-4335-8135-ec805e5aeed6",
   "metadata": {},
   "outputs": [
    {
     "data": {
      "text/plain": [
       "[<matplotlib.lines.Line2D at 0x7f9fe7ea7350>]"
      ]
     },
     "execution_count": 80,
     "metadata": {},
     "output_type": "execute_result"
    },
    {
     "data": {
      "image/png": "[encoded data removed]",
      "text/plain": [
       "<Figure size 640x480 with 1 Axes>"
      ]
     },
     "metadata": {},
     "output_type": "display_data"
    }
   ],
   "source": [
    "my_lambda = spd_proj(my_pridual.value) -  np.eye(2*mem)\n",
    "plt.plot(np.linalg.eigh(my_lambda)[0])"
   ]
  },
  {
   "cell_type": "code",
   "execution_count": 83,
   "id": "cf1833e8-5b01-47ca-a17f-f573a562c761",
   "metadata": {},
   "outputs": [
    {
     "data": {
      "text/plain": [
       "[<matplotlib.lines.Line2D at 0x7f9ff2720d70>]"
      ]
     },
     "execution_count": 83,
     "metadata": {},
     "output_type": "execute_result"
    },
    {
     "data": {
      "image/png": "[encoded data removed]",
      "text/plain": [
       "<Figure size 640x480 with 1 Axes>"
      ]
     },
     "metadata": {},
     "output_type": "display_data"
    }
   ],
   "source": [
    "variable_eigenvals.value = eival_init\n",
    "init_lambda = spd_proj(my_pridual.value) -  np.eye(2*mem)\n",
    "plt.plot(np.linalg.eigh(init_lambda)[0])"
   ]
  },
  {
   "cell_type": "markdown",
   "id": "7f9ffc0f-0b71-440c-baf8-b86747dc8a10",
   "metadata": {},
   "source": [
    "# No it's very bad; basically worse than projection of init sol"
   ]
  },
  {
   "cell_type": "code",
   "execution_count": 81,
   "id": "4b537634-fef4-4a96-98bf-f60dc39a88d6",
   "metadata": {},
   "outputs": [],
   "source": [
    "# plt.imshow(Lambda)\n",
    "# plt.colorbar()"
   ]
  },
  {
   "cell_type": "code",
   "execution_count": 82,
   "id": "f9756af5-4f0d-4492-ae13-f5e0d9bbea4b",
   "metadata": {},
   "outputs": [],
   "source": [
    "# plt.imshow(my_lambda)\n",
    "# plt.colorbar()"
   ]
  },
  {
   "cell_type": "markdown",
   "id": "8edb6047-164d-4ea9-b2fb-ee8f5c0f2715",
   "metadata": {},
   "source": [
    "# END"
   ]
  },
  {
   "cell_type": "code",
   "execution_count": 51,
   "id": "282a8662-5a65-4fed-8760-e7c060401eed",
   "metadata": {},
   "outputs": [
    {
     "ename": "Exception",
     "evalue": "",
     "output_type": "error",
     "traceback": [
      "\u001b[0;31m---------------------------------------------------------------------------\u001b[0m",
      "\u001b[0;31mException\u001b[0m                                 Traceback (most recent call last)",
      "Cell \u001b[0;32mIn[51], line 1\u001b[0m\n\u001b[0;32m----> 1\u001b[0m \u001b[38;5;28;01mraise\u001b[39;00m \u001b[38;5;167;01mException\u001b[39;00m\n",
      "\u001b[0;31mException\u001b[0m: "
     ]
    }
   ],
   "source": [
    "raise Exception"
   ]
  },
  {
   "cell_type": "raw",
   "id": "b4749030-784f-4fb8-a281-1c24a29e81d8",
   "metadata": {},
   "source": []
  },
  {
   "cell_type": "code",
   "execution_count": null,
   "id": "8407793d-2906-4e13-9d95-4a57fb6394b4",
   "metadata": {},
   "outputs": [],
   "source": [
    "np.linalg.eigh(rotated_dual)[0], np.linalg.eigh(Lambda + np.eye(2*mem))[0]"
   ]
  },
  {
   "cell_type": "markdown",
   "id": "1cbe18a9-6f5e-46ff-bedc-c871caf68673",
   "metadata": {},
   "source": [
    "#### Common diagonalizer of Lambda and rotated dual"
   ]
  },
  {
   "cell_type": "code",
   "execution_count": null,
   "id": "9c879336-ec6f-499d-a699-132fd033f4e5",
   "metadata": {},
   "outputs": [],
   "source": [
    "testV = np.linalg.eigh(rotated_dual + Lambda)[1]\n",
    "\n",
    "dua_diag = np.diag(testV.T @ rotated_dual @ testV )\n",
    "lam_diag = np.diag(testV.T @ Lambda @ testV )\n",
    "\n",
    "rotated_rotated_s = testV.T @ np.diag(new_s) @ testV\n",
    "rotated_rotated_const = testV.T @ rotated_const @ testV\n",
    "\n",
    "# WE GET TO THIS FORM\n",
    "assert np.allclose(2* np.diag(lam_diag) + rotated_rotated_s @ np.diag(lam_diag) + np.diag(lam_diag) @ rotated_rotated_s, np.diag(dua_diag) - rotated_rotated_const)\n",
    "assert np.allclose(dua_diag * (lam_diag + 1), 0.)\n",
    "assert np.isclose(np.min(dua_diag), 0.)\n",
    "\n"
   ]
  },
  {
   "cell_type": "code",
   "execution_count": null,
   "id": "7e2de1a2-1c14-45fa-9151-f7c55e92eceb",
   "metadata": {},
   "outputs": [],
   "source": [
    "plt.plot(np.diag( testV.T @ (rotated_dual + Lambda) @ testV ))\n",
    "plt.plot(np.diag(testV.T @ (rotated_dual) @ testV) -1.)\n",
    "plt.plot(np.diag(testV.T @ (Lambda) @ testV))\n"
   ]
  },
  {
   "cell_type": "code",
   "execution_count": null,
   "id": "64e1d333-362a-4233-8960-68fcd151d828",
   "metadata": {},
   "outputs": [],
   "source": [
    "plt.imshow(rotated_rotated_s)"
   ]
  },
  {
   "cell_type": "code",
   "execution_count": null,
   "id": "93e46301-3868-47a1-bd78-62bd4ef2505c",
   "metadata": {},
   "outputs": [],
   "source": [
    "# testV = np.linalg.eigh(rotated_dual + Lambda)[1]\n",
    "# #plt.imshow(\n",
    "# testV @ (rotated_const/ SCALING_MATRIX) @ testV.T\n",
    "# #)#, testV @ rotated_const @ testV.T"
   ]
  },
  {
   "cell_type": "code",
   "execution_count": null,
   "id": "a5c69a34-efc1-41ac-b558-7a7d76401838",
   "metadata": {},
   "outputs": [],
   "source": [
    "testV = np.linalg.eigh(ro / SCALING_MATRIX)[1]"
   ]
  },
  {
   "cell_type": "code",
   "execution_count": null,
   "id": "a16a4289-568a-452c-bde8-d41d77cd3600",
   "metadata": {},
   "outputs": [],
   "source": [
    "# testV = np.linalg.eigh(rotated_const / SCALING_MATRIX)[1]\n",
    "# testV.T @ rotated_dual @ testV, testV @ rotated_dual @ testV.T"
   ]
  },
  {
   "cell_type": "code",
   "execution_count": null,
   "id": "3afa98ee-18a9-42c7-a4c6-3fb3dd8c6c19",
   "metadata": {},
   "outputs": [],
   "source": [
    "# testV = np.linalg.eigh(rotated_const)[1]\n",
    "# testV.T @ rotated_dual @ testV, testV @ rotated_dual @ testV.T"
   ]
  },
  {
   "cell_type": "markdown",
   "id": "24c1e69f-cbbc-47b4-b0ef-16eeb09b303f",
   "metadata": {},
   "source": [
    "# End"
   ]
  },
  {
   "cell_type": "code",
   "execution_count": null,
   "id": "2ec518bc-ce42-46b4-94da-8947b842f413",
   "metadata": {},
   "outputs": [],
   "source": [
    "raise Exception"
   ]
  },
  {
   "cell_type": "code",
   "execution_count": null,
   "id": "e119da48-c3bf-4009-81d2-854b14e31042",
   "metadata": {},
   "outputs": [],
   "source": [
    "plt.imshow(old_kkt @ (Theta.value + np.eye(2*mem)))\n",
    "plt.colorbar()"
   ]
  },
  {
   "cell_type": "code",
   "execution_count": null,
   "id": "b06df69a-d212-4913-80f1-cdc506619e0b",
   "metadata": {},
   "outputs": [],
   "source": [
    "np.diag(myV.T @ Theta.value @ myV)"
   ]
  },
  {
   "cell_type": "code",
   "execution_count": null,
   "id": "7ab854bc-288b-4509-8ec4-be4fc9ce9a4c",
   "metadata": {},
   "outputs": [],
   "source": [
    "plt.imshow(myV.T @ Theta.value @ myV)\n",
    "plt.colorbar()"
   ]
  },
  {
   "cell_type": "code",
   "execution_count": null,
   "id": "23328eac-a936-487d-a931-49cf97ef5e17",
   "metadata": {},
   "outputs": [],
   "source": [
    "plt.plot(np.linalg.eigh(Theta.value + np.eye(2 * mem))[0])\n"
   ]
  },
  {
   "cell_type": "code",
   "execution_count": null,
   "id": "088ad31f-c0e6-46d5-9237-5587f3765edf",
   "metadata": {},
   "outputs": [],
   "source": [
    "old_kkt @ Theta.value"
   ]
  },
  {
   "cell_type": "markdown",
   "id": "15600b33-4a4f-4e62-8302-ba0b92d6b6d4",
   "metadata": {},
   "source": [
    "### Sadly not trivial projection"
   ]
  },
  {
   "cell_type": "code",
   "execution_count": null,
   "id": "4ca1d872-e9c3-4130-bb0e-29231b88e367",
   "metadata": {},
   "outputs": [],
   "source": [
    "# #plt.imshow(\n",
    "# eivec.T @ Theta.value @ eivec#)\n",
    "# #plt.colorbar()"
   ]
  },
  {
   "cell_type": "code",
   "execution_count": null,
   "id": "43b69763-0dd4-479a-9ed2-ab4f92a45a3e",
   "metadata": {},
   "outputs": [],
   "source": [
    "objective.value , distance_from_h0.value , soft_secant_condition1.value , soft_secant_condition2.value"
   ]
  },
  {
   "cell_type": "markdown",
   "id": "2f6605b8-7a0b-4f8b-97f2-e906d0e4c673",
   "metadata": {},
   "source": [
    "#### Using projected theta gives worse obj value"
   ]
  },
  {
   "cell_type": "code",
   "execution_count": null,
   "id": "a3a84811-5808-46f8-9abf-d85d0344dd56",
   "metadata": {},
   "outputs": [],
   "source": [
    "Theta.value = PROJECTED_THETA\n",
    "objective.value , distance_from_h0.value , soft_secant_condition1.value , soft_secant_condition2.value"
   ]
  },
  {
   "cell_type": "markdown",
   "id": "a4240f92-2bf1-43eb-bfa0-47af0199f997",
   "metadata": {},
   "source": [
    "# Reshape objective"
   ]
  },
  {
   "cell_type": "code",
   "execution_count": null,
   "id": "9e178ac7-79f3-4c24-b79b-71d799d47c62",
   "metadata": {},
   "outputs": [],
   "source": [
    "# Theta = np.diag(s) @ v @ Sigma @ v.T @ np.diag(s)\n",
    "\n",
    "Theta = cp.Variable(\n",
    "    (2*mem, 2*mem), \n",
    "    # symmetric=True\n",
    ")\n",
    "\n",
    "# translating from above\n",
    "distance_from_h0 = cp.sum_squares(np.eye(2*mem) @ Theta @ np.eye(2*mem)) # BUG in CVXPY; without the two np.eye it fails\n",
    "soft_secant_condition1 = cp.sum_squares(Theta @ np.diag(s) @ v[:, :mem])\n",
    "soft_secant_condition2 = 2 * gamma * cp.trace( v[:, :mem].T @ np.diag(s) @ Theta @ np.diag(s) @ v[:, :mem])\n",
    "soft_secant_condition3 = -2 * cp.trace( v[:, mem:].T @ np.diag(s) @ Theta @ np.diag(s) @ v[:, :mem] )\n",
    "\n",
    "objective = alpha * distance_from_h0 + soft_secant_condition1 + soft_secant_condition2 + soft_secant_condition3\n",
    "\n",
    "print(\"obj value\", cp.Problem(\n",
    "    cp.Minimize(objective),\n",
    "    [cp.lambda_min(Theta) >= - gamma],\n",
    ").solve(\n",
    "    solver='CLARABEL',\n",
    "    # verbose=True,\n",
    "    # eps=1e-14\n",
    "))\n",
    "\n",
    "reconstructed_Sigma = v.T @ np.diag(1./s) @ Theta @ np.diag(1./s) @ v\n",
    "newstructured_H = H0 + stacked_mat @ reconstructed_Sigma @ stacked_mat.T\n",
    "print(\"ACCURACY OF TRANSFORMATION ~\", np.linalg.norm(newstructured_H.value- H.value)/np.linalg.norm(newstructured_H.value+ H.value))"
   ]
  },
  {
   "cell_type": "code",
   "execution_count": null,
   "id": "8d976932-28fd-460c-bbb4-d433f5675959",
   "metadata": {},
   "outputs": [],
   "source": [
    "soft_secant_condition1.value"
   ]
  },
  {
   "cell_type": "code",
   "execution_count": null,
   "id": "39c825d8-3c9e-474c-ada0-3dc7167d1a08",
   "metadata": {},
   "outputs": [],
   "source": [
    "cp.trace(Theta @ np.diag(s) @ v[:, :mem] @ v[:, :mem].T @ np.diag(s) @ Theta.T).value"
   ]
  },
  {
   "cell_type": "code",
   "execution_count": null,
   "id": "94bc004e-d109-48b9-b54b-25957c333dad",
   "metadata": {},
   "outputs": [],
   "source": [
    "v[:, :mem].T @ v[:, :mem]"
   ]
  },
  {
   "cell_type": "code",
   "execution_count": null,
   "id": "ef6334c4-7372-4f7c-bc0e-1b30900ecaa4",
   "metadata": {},
   "outputs": [],
   "source": [
    "v[:, :mem] @ v[:, :mem].T"
   ]
  },
  {
   "cell_type": "code",
   "execution_count": null,
   "id": "68b9610d-e6be-4882-a512-c4b7f2688907",
   "metadata": {},
   "outputs": [],
   "source": [
    "v[:, :mem].T @ v[:, :mem]"
   ]
  },
  {
   "cell_type": "code",
   "execution_count": null,
   "id": "913f28b3-3b4b-49f5-8100-55593aa4e0a0",
   "metadata": {},
   "outputs": [],
   "source": [
    "v[:, :mem] @ v[:, mem:].T"
   ]
  },
  {
   "cell_type": "code",
   "execution_count": null,
   "id": "151f421b-f448-4b29-a1df-a0438b4b4828",
   "metadata": {},
   "outputs": [],
   "source": [
    "raise Exception"
   ]
  },
  {
   "cell_type": "code",
   "execution_count": null,
   "id": "2a8b8cae-5640-46ca-986c-997459696915",
   "metadata": {},
   "outputs": [],
   "source": [
    "#assert np.isclose\n",
    "(\n",
    "    cp.sum_squares(\n",
    "        + gamma * np.diag(s) @ v[:, :mem] \n",
    "        + Theta @ np.diag(s) @ v[:, :mem] \n",
    "        - np.diag(s) @ v[:, mem:]\n",
    "    ).value,\n",
    "\n",
    "    cp.trace(\n",
    "        + gamma * np.diag(s) @ v[:, :mem] @ v[:, :mem].T @ np.diag(s) * gamma\n",
    "        + Theta @ np.diag(s) @ v[:, :mem] @ v[:, :mem].T @ np.diag(s) * gamma\n",
    "        - np.diag(s) @ v[:, mem:] @ v[:, :mem].T @ np.diag(s) * gamma\n",
    "        \n",
    "        + gamma * np.diag(s) @ v[:, :mem] @ v[:, :mem].T @ np.diag(s) @ Theta\n",
    "        + Theta @ np.diag(s) @ v[:, :mem] @ v[:, :mem].T @ np.diag(s) @ Theta\n",
    "        - np.diag(s) @ v[:, mem:] @ v[:, :mem].T @ np.diag(s) @ Theta\n",
    "        \n",
    "        - gamma * np.diag(s) @ v[:, :mem] @ v[:, mem:].T @ np.diag(s)\n",
    "        - Theta @ np.diag(s) @ v[:, :mem] @ v[:, mem:].T @ np.diag(s)\n",
    "        + np.diag(s) @ v[:, mem:] @ v[:, mem:].T @ np.diag(s)\n",
    "    ).value\n",
    ")"
   ]
  },
  {
   "cell_type": "code",
   "execution_count": null,
   "id": "4aacb659-9172-4f18-8a02-c54160782bee",
   "metadata": {},
   "outputs": [],
   "source": [
    "# cp.trace(gamma * np.diag(s) @ v[:, :mem] @ v[:, :mem].T @ np.diag(s) * gamma\n",
    "#     + Theta @ np.diag(s) @ v[:, :mem] @ v[:, :mem].T @ np.diag(s) * gamma\n",
    "#     - np.diag(s) @ v[:, mem:] @ v[:, :mem].T @ np.diag(s) * gamma\n",
    "#     + gamma * np.diag(s) @ v[:, :mem] @ v[:, :mem].T @ Theta\n",
    "#     + Theta @ np.diag(s) @ v[:, :mem] @ v[:, :mem].T @ Theta\n",
    "#     - np.diag(s) @ v[:, mem:] @ v[:, :mem].T @ Theta\n",
    "#     - gamma * np.diag(s) @ v[:, :mem] @ v[:, mem:].T @ np.diag(s)\n",
    "#     - Theta @ np.diag(s) @ v[:, :mem] @ v[:, mem:].T @ np.diag(s)\n",
    "#     + np.diag(s) @ v[:, mem:] @ v[:, mem:].T @ np.diag(s)\n",
    "# ).value/2."
   ]
  },
  {
   "cell_type": "code",
   "execution_count": null,
   "id": "9c09cf2e-ff9b-450f-af88-ded87ea53a45",
   "metadata": {},
   "outputs": [],
   "source": [
    "np.linalg.eigh(Theta.value)[0]"
   ]
  },
  {
   "cell_type": "code",
   "execution_count": null,
   "id": "7cacd11a-5d51-4138-856f-d9675995f1e6",
   "metadata": {},
   "outputs": [],
   "source": [
    "(gamma * np.diag(s) @ v[:, :mem] + Theta @ np.diag(s) @ v[:, :mem] - np.diag(s) @ v[:, mem:]).value"
   ]
  },
  {
   "cell_type": "code",
   "execution_count": null,
   "id": "e3afa6e6-2e92-4559-96bb-0b53e3240d64",
   "metadata": {},
   "outputs": [],
   "source": [
    "plt.plot(np.linalg.eigh(Theta.value)[0])"
   ]
  },
  {
   "cell_type": "code",
   "execution_count": null,
   "id": "5c65bc62-5796-44b1-8bd1-8250cfceee03",
   "metadata": {},
   "outputs": [],
   "source": []
  }
 ],
 "metadata": {
  "kernelspec": {
   "display_name": "cvxportfolio",
   "language": "python",
   "name": "cvxportfolio"
  },
  "language_info": {
   "codemirror_mode": {
    "name": "ipython",
    "version": 3
   },
   "file_extension": ".py",
   "mimetype": "text/x-python",
   "name": "python",
   "nbconvert_exporter": "python",
   "pygments_lexer": "ipython3",
   "version": "3.12.8"
  }
 },
 "nbformat": 4,
 "nbformat_minor": 5
}
